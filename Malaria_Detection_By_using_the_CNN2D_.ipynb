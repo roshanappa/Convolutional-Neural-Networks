{
  "nbformat": 4,
  "nbformat_minor": 0,
  "metadata": {
    "colab": {
      "name": "Malaria Detection By using the CNN2D .ipynb",
      "provenance": [],
      "toc_visible": true,
      "authorship_tag": "ABX9TyMFc+6EP4l7feGuop1eebih",
      "include_colab_link": true
    },
    "kernelspec": {
      "name": "python3",
      "display_name": "Python 3"
    },
    "accelerator": "GPU"
  },
  "cells": [
    {
      "cell_type": "markdown",
      "metadata": {
        "id": "view-in-github",
        "colab_type": "text"
      },
      "source": [
        "<a href=\"https://colab.research.google.com/github/roshanappa/Deep-Learning-Models./blob/master/Malaria_Detection_By_using_the_CNN2D_.ipynb\" target=\"_parent\"><img src=\"https://colab.research.google.com/assets/colab-badge.svg\" alt=\"Open In Colab\"/></a>"
      ]
    },
    {
      "cell_type": "code",
      "metadata": {
        "id": "UmC7LdigDIiX",
        "colab_type": "code",
        "outputId": "7293ce32-210b-4a3e-f068-2b5412eff45b",
        "colab": {
          "base_uri": "https://localhost:8080/",
          "height": 71
        }
      },
      "source": [
        "import numpy as np\n",
        "import pandas as pd\n",
        "import seaborn as sns\n",
        "import matplotlib.pyplot as plt\n",
        "\n",
        "import warnings\n",
        "warnings.filterwarnings('ignore')"
      ],
      "execution_count": 0,
      "outputs": [
        {
          "output_type": "stream",
          "text": [
            "/usr/local/lib/python3.6/dist-packages/statsmodels/tools/_testing.py:19: FutureWarning: pandas.util.testing is deprecated. Use the functions in the public API at pandas.testing instead.\n",
            "  import pandas.util.testing as tm\n"
          ],
          "name": "stderr"
        }
      ]
    },
    {
      "cell_type": "code",
      "metadata": {
        "id": "F0c9dRhLOUYf",
        "colab_type": "code",
        "colab": {}
      },
      "source": [
        "from tensorflow.keras.layers import Dense,Flatten,MaxPool2D,Conv2D,BatchNormalization,Dropout\n",
        "from tensorflow.keras import Sequential\n",
        "from tensorflow.keras.preprocessing.image import ImageDataGenerator"
      ],
      "execution_count": 0,
      "outputs": []
    },
    {
      "cell_type": "code",
      "metadata": {
        "id": "WPHo_bqKOfQG",
        "colab_type": "code",
        "outputId": "b421d7fb-1736-4135-bd1c-83a9eb9a44ef",
        "colab": {
          "base_uri": "https://localhost:8080/",
          "height": 119
        }
      },
      "source": [
        "!git clone https://github.com/laxmimerit/Malaria-Classification-Using-CNN.git"
      ],
      "execution_count": 0,
      "outputs": [
        {
          "output_type": "stream",
          "text": [
            "Cloning into 'Malaria-Classification-Using-CNN'...\n",
            "remote: Enumerating objects: 27577, done.\u001b[K\n",
            "remote: Total 27577 (delta 0), reused 0 (delta 0), pack-reused 27577\u001b[K\n",
            "Receiving objects: 100% (27577/27577), 331.67 MiB | 29.56 MiB/s, done.\n",
            "Resolving deltas: 100% (3/3), done.\n",
            "Checking out files: 100% (27562/27562), done.\n"
          ],
          "name": "stdout"
        }
      ]
    },
    {
      "cell_type": "code",
      "metadata": {
        "id": "WPcjQ4nR68ro",
        "colab_type": "code",
        "colab": {}
      },
      "source": [
        "datagen = ImageDataGenerator(rescale=1./255,validation_split=0.20)"
      ],
      "execution_count": 0,
      "outputs": []
    },
    {
      "cell_type": "code",
      "metadata": {
        "id": "Ch-8UnbM7Wu5",
        "colab_type": "code",
        "outputId": "1107af48-4cf7-4623-f862-562c5a19b06d",
        "colab": {
          "base_uri": "https://localhost:8080/",
          "height": 34
        }
      },
      "source": [
        "train_data = datagen.flow_from_directory(directory='/content/Malaria-Classification-Using-CNN/malaria-dataset',target_size=(64,64),class_mode='binary',classes=['Parasitized','Uninfected'],batch_size=30,subset='training')"
      ],
      "execution_count": 0,
      "outputs": [
        {
          "output_type": "stream",
          "text": [
            "Found 22048 images belonging to 2 classes.\n"
          ],
          "name": "stdout"
        }
      ]
    },
    {
      "cell_type": "code",
      "metadata": {
        "id": "zaGVxPEJ8SsO",
        "colab_type": "code",
        "outputId": "a4bf767c-4457-4542-ed9a-0ff4e76ba0bb",
        "colab": {
          "base_uri": "https://localhost:8080/",
          "height": 34
        }
      },
      "source": [
        "validation_data = datagen.flow_from_directory(directory='/content/Malaria-Classification-Using-CNN/malaria-dataset',target_size=(64,64),class_mode='binary',classes=['Parasitized','Uninfected'],batch_size=30,subset='validation')"
      ],
      "execution_count": 0,
      "outputs": [
        {
          "output_type": "stream",
          "text": [
            "Found 5510 images belonging to 2 classes.\n"
          ],
          "name": "stdout"
        }
      ]
    },
    {
      "cell_type": "code",
      "metadata": {
        "id": "PQSLOee38jR2",
        "colab_type": "code",
        "outputId": "a1ed3140-f28e-4b4d-acaf-74d98fbafc84",
        "colab": {
          "base_uri": "https://localhost:8080/",
          "height": 34
        }
      },
      "source": [
        "train_data.classes"
      ],
      "execution_count": 0,
      "outputs": [
        {
          "output_type": "execute_result",
          "data": {
            "text/plain": [
              "array([0, 0, 0, ..., 1, 1, 1], dtype=int32)"
            ]
          },
          "metadata": {
            "tags": []
          },
          "execution_count": 17
        }
      ]
    },
    {
      "cell_type": "code",
      "metadata": {
        "id": "UlJf8cDn9QKh",
        "colab_type": "code",
        "outputId": "a2eeb96e-4cc0-49f0-fff9-14c03de42739",
        "colab": {
          "base_uri": "https://localhost:8080/",
          "height": 34
        }
      },
      "source": [
        "train_data.image_shape"
      ],
      "execution_count": 0,
      "outputs": [
        {
          "output_type": "execute_result",
          "data": {
            "text/plain": [
              "(64, 64, 3)"
            ]
          },
          "metadata": {
            "tags": []
          },
          "execution_count": 18
        }
      ]
    },
    {
      "cell_type": "markdown",
      "metadata": {
        "id": "L0OLwGC08zCm",
        "colab_type": "text"
      },
      "source": [
        "## Model."
      ]
    },
    {
      "cell_type": "code",
      "metadata": {
        "id": "SUIDxQ4D8yKM",
        "colab_type": "code",
        "colab": {}
      },
      "source": [
        "model = Sequential()\n",
        "model.add(Conv2D(256,kernel_size=(3,3),padding='same',activation='relu',kernel_initializer='he_uniform',input_shape=[64,64,3]))\n",
        "model.add(Dropout(0.50))\n",
        "model.add(MaxPool2D(pool_size=(2,2)))\n",
        "\n",
        "model.add(Conv2D(128,kernel_size=(3,3),padding='same',activation='relu',kernel_initializer='he_uniform'))\n",
        "model.add(Dropout(0.50))\n",
        "model.add(MaxPool2D(pool_size=(2,2)))\n",
        "\n",
        "model.add(Conv2D(64,kernel_size=(3,3),padding='same',activation='relu',kernel_initializer='he_uniform'))\n",
        "model.add(Dropout(0.50))\n",
        "model.add(MaxPool2D(pool_size=(2,2)))\n",
        "\n",
        "model.add(Flatten())\n",
        "model.add(Dense(200,kernel_initializer='he_uniform',activation='relu'))\n",
        "model.add(Dropout(0.50))\n",
        "model.add(Dense(1,activation='sigmoid',kernel_initializer='he_uniform'))"
      ],
      "execution_count": 0,
      "outputs": []
    },
    {
      "cell_type": "code",
      "metadata": {
        "id": "aO2wQJpG8wJi",
        "colab_type": "code",
        "colab": {}
      },
      "source": [
        "model.compile(optimizer='adam',loss='binary_crossentropy',metrics=['accuracy'])"
      ],
      "execution_count": 0,
      "outputs": []
    },
    {
      "cell_type": "code",
      "metadata": {
        "id": "5qnK66ThCYTL",
        "colab_type": "code",
        "outputId": "46b6cddd-83a7-4248-ab80-f2efbe7d20c2",
        "colab": {
          "base_uri": "https://localhost:8080/",
          "height": 357
        }
      },
      "source": [
        "history=model.fit_generator(train_data,steps_per_epoch=len(train_data),epochs=10,verbose=1,validation_data=validation_data,validation_steps=len(validation_data))"
      ],
      "execution_count": 0,
      "outputs": [
        {
          "output_type": "stream",
          "text": [
            "Epoch 1/10\n",
            "735/735 [==============================] - 48s 65ms/step - loss: 0.7461 - accuracy: 0.5693 - val_loss: 0.6804 - val_accuracy: 0.6113\n",
            "Epoch 2/10\n",
            "735/735 [==============================] - 48s 65ms/step - loss: 0.6287 - accuracy: 0.6393 - val_loss: 0.4366 - val_accuracy: 0.9201\n",
            "Epoch 3/10\n",
            "735/735 [==============================] - 48s 65ms/step - loss: 0.2155 - accuracy: 0.9347 - val_loss: 0.2944 - val_accuracy: 0.9312\n",
            "Epoch 4/10\n",
            "735/735 [==============================] - 48s 65ms/step - loss: 0.1585 - accuracy: 0.9506 - val_loss: 0.2536 - val_accuracy: 0.9392\n",
            "Epoch 5/10\n",
            "735/735 [==============================] - 48s 65ms/step - loss: 0.1383 - accuracy: 0.9570 - val_loss: 0.2236 - val_accuracy: 0.9325\n",
            "Epoch 6/10\n",
            "735/735 [==============================] - 48s 65ms/step - loss: 0.1365 - accuracy: 0.9570 - val_loss: 0.2778 - val_accuracy: 0.9247\n",
            "Epoch 7/10\n",
            "735/735 [==============================] - 48s 65ms/step - loss: 0.1309 - accuracy: 0.9590 - val_loss: 0.2031 - val_accuracy: 0.9377\n",
            "Epoch 8/10\n",
            "735/735 [==============================] - 48s 65ms/step - loss: 0.1267 - accuracy: 0.9596 - val_loss: 0.2265 - val_accuracy: 0.9287\n",
            "Epoch 9/10\n",
            "735/735 [==============================] - 48s 65ms/step - loss: 0.1249 - accuracy: 0.9607 - val_loss: 0.2202 - val_accuracy: 0.9252\n",
            "Epoch 10/10\n",
            "735/735 [==============================] - 48s 65ms/step - loss: 0.1196 - accuracy: 0.9620 - val_loss: 0.1950 - val_accuracy: 0.9387\n"
          ],
          "name": "stdout"
        }
      ]
    },
    {
      "cell_type": "code",
      "metadata": {
        "id": "MfEsP7_ZDYYf",
        "colab_type": "code",
        "outputId": "6fd4aafe-aecb-43dc-8a34-e21ea1045099",
        "colab": {
          "base_uri": "https://localhost:8080/",
          "height": 697
        }
      },
      "source": [
        "history.history"
      ],
      "execution_count": 0,
      "outputs": [
        {
          "output_type": "execute_result",
          "data": {
            "text/plain": [
              "{'accuracy': [0.5692579746246338,\n",
              "  0.639286994934082,\n",
              "  0.9347333312034607,\n",
              "  0.9505624175071716,\n",
              "  0.9569575190544128,\n",
              "  0.9570028781890869,\n",
              "  0.9589532017707825,\n",
              "  0.9595881700515747,\n",
              "  0.9606767296791077,\n",
              "  0.9619920253753662],\n",
              " 'loss': [0.7460522055625916,\n",
              "  0.6287058591842651,\n",
              "  0.21549421548843384,\n",
              "  0.15851633250713348,\n",
              "  0.13833503425121307,\n",
              "  0.13653802871704102,\n",
              "  0.13092002272605896,\n",
              "  0.1267138570547104,\n",
              "  0.12492359429597855,\n",
              "  0.11956644803285599],\n",
              " 'val_accuracy': [0.6112522482872009,\n",
              "  0.9201452136039734,\n",
              "  0.9312159419059753,\n",
              "  0.9392014741897583,\n",
              "  0.9324864149093628,\n",
              "  0.9246823787689209,\n",
              "  0.9377495646476746,\n",
              "  0.92867511510849,\n",
              "  0.9252268671989441,\n",
              "  0.9386569857597351],\n",
              " 'val_loss': [0.680410623550415,\n",
              "  0.43661004304885864,\n",
              "  0.29439833760261536,\n",
              "  0.2536327838897705,\n",
              "  0.22355690598487854,\n",
              "  0.2778429388999939,\n",
              "  0.20306196808815002,\n",
              "  0.22653265297412872,\n",
              "  0.22015735507011414,\n",
              "  0.19503332674503326]}"
            ]
          },
          "metadata": {
            "tags": []
          },
          "execution_count": 28
        }
      ]
    },
    {
      "cell_type": "markdown",
      "metadata": {
        "id": "vRXErnCtFTDi",
        "colab_type": "text"
      },
      "source": [
        "## Learning Curve."
      ]
    },
    {
      "cell_type": "code",
      "metadata": {
        "id": "8YxU6qNUFRTn",
        "colab_type": "code",
        "outputId": "ba719051-605b-4595-88b0-07c484dfb0c5",
        "colab": {
          "base_uri": "https://localhost:8080/",
          "height": 441
        }
      },
      "source": [
        "\n",
        "plt.figure(figsize=(10,6))\n",
        "plt.subplot(1, 2, 1)\n",
        "plt.plot(history.history['accuracy'])\n",
        "plt.plot(history.history['val_accuracy'])\n",
        "plt.legend(['Model Accuracy','Validation Accuracy'])\n",
        "plt.xlabel('Epoches')\n",
        "plt.ylabel('Accuracies')\n",
        "plt.title('Training and Validation Accuracy')\n",
        "\n",
        "plt.subplot(1, 2, 2)\n",
        "plt.plot(history.history['loss'])\n",
        "plt.plot(history.history['val_loss'])\n",
        "plt.legend(['Model Losses','Validation Losses'])\n",
        "plt.title('Training and Validation Loss')\n",
        "plt.xlabel('Epoches')\n",
        "plt.ylabel('Losses')\n",
        "plt.tight_layout()\n",
        "plt.show()"
      ],
      "execution_count": 0,
      "outputs": [
        {
          "output_type": "display_data",
          "data": {
            "image/png": "[encoded data removed]",
            "text/plain": [
              "<Figure size 720x432 with 2 Axes>"
            ]
          },
          "metadata": {
            "tags": []
          }
        }
      ]
    },
    {
      "cell_type": "markdown",
      "metadata": {
        "id": "1KiKXs6kHXb8",
        "colab_type": "text"
      },
      "source": [
        "## Accuarcy,Confusion Matrix and Classification Report."
      ]
    },
    {
      "cell_type": "code",
      "metadata": {
        "id": "xkp2QrG_HoT2",
        "colab_type": "code",
        "colab": {}
      },
      "source": [
        "augmented_images = [train_data[0][0][0] for i in range(len(train_data))]"
      ],
      "execution_count": 0,
      "outputs": []
    },
    {
      "cell_type": "code",
      "metadata": {
        "id": "irifAiO6H74n",
        "colab_type": "code",
        "outputId": "3c88d2db-01ac-49c6-bd6f-75fce0d30316",
        "colab": {
          "base_uri": "https://localhost:8080/",
          "height": 268
        }
      },
      "source": [
        "plt.imshow(augmented_images[88])\n",
        "plt.show()"
      ],
      "execution_count": 0,
      "outputs": [
        {
          "output_type": "display_data",
          "data": {
            "image/png": "[encoded data removed]",
            "text/plain": [
              "<Figure size 432x288 with 1 Axes>"
            ]
          },
          "metadata": {
            "tags": []
          }
        }
      ]
    },
    {
      "cell_type": "markdown",
      "metadata": {
        "id": "UMFLDGHoNT4i",
        "colab_type": "text"
      },
      "source": [
        "## Prediction Image:-\n",
        "\n"
      ]
    },
    {
      "cell_type": "code",
      "metadata": {
        "id": "LJXeUE8JNVBX",
        "colab_type": "code",
        "colab": {}
      },
      "source": [
        "from tensorflow.keras.preprocessing.image import load_img,img_to_array"
      ],
      "execution_count": 0,
      "outputs": []
    },
    {
      "cell_type": "markdown",
      "metadata": {
        "id": "vWFh6DABTLv3",
        "colab_type": "text"
      },
      "source": [
        " Again One more time."
      ]
    },
    {
      "cell_type": "code",
      "metadata": {
        "id": "nUJQBQBFQM-C",
        "colab_type": "code",
        "colab": {
          "base_uri": "https://localhost:8080/",
          "height": 34
        },
        "outputId": "e174bf11-1602-47ee-9f75-3bb562bfe45c"
      },
      "source": [
        "image = load_img('/content/cell1.png',target_size=(64,64))\n",
        "image = img_to_array(image)\n",
        "image = np.expand_dims(image,axis=0)\n",
        "result = model.predict(image)\n",
        "np.argmax(result)"
      ],
      "execution_count": 105,
      "outputs": [
        {
          "output_type": "execute_result",
          "data": {
            "text/plain": [
              "0"
            ]
          },
          "metadata": {
            "tags": []
          },
          "execution_count": 105
        }
      ]
    },
    {
      "cell_type": "code",
      "metadata": {
        "id": "UsXKpWlHT691",
        "colab_type": "code",
        "colab": {
          "base_uri": "https://localhost:8080/",
          "height": 34
        },
        "outputId": "534c8023-a813-41d9-bcf7-c5e234ad66a9"
      },
      "source": [
        "im = load_img('/content/vvvv.jpg',target_size=(64,64))\n",
        "im = img_to_array(im)\n",
        "im = np.expand_dims(im,axis=0)\n",
        "prediction_result = model.predict(im)\n",
        "np.argmax(prediction_result)"
      ],
      "execution_count": 107,
      "outputs": [
        {
          "output_type": "execute_result",
          "data": {
            "text/plain": [
              "0"
            ]
          },
          "metadata": {
            "tags": []
          },
          "execution_count": 107
        }
      ]
    },
    {
      "cell_type": "code",
      "metadata": {
        "id": "F0ffJpdxWAp2",
        "colab_type": "code",
        "colab": {
          "base_uri": "https://localhost:8080/",
          "height": 34
        },
        "outputId": "36926538-f783-4874-e688-5b01dee974d7"
      },
      "source": [
        "img = load_img('/content/MalariaCellsv.jpg',target_size=(64,64))\n",
        "img = img_to_array(img)\n",
        "img = np.expand_dims(img,axis=0)\n",
        "prediction = model.predict_classes(img)\n",
        "prediction"
      ],
      "execution_count": 102,
      "outputs": [
        {
          "output_type": "execute_result",
          "data": {
            "text/plain": [
              "array([[0]], dtype=int32)"
            ]
          },
          "metadata": {
            "tags": []
          },
          "execution_count": 102
        }
      ]
    },
    {
      "cell_type": "markdown",
      "metadata": {
        "id": "tndIs17qX5Yx",
        "colab_type": "text"
      },
      "source": [
        "## Thank You !!"
      ]
    }
  ]
}