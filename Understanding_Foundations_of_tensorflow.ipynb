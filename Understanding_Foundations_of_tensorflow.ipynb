{
  "nbformat": 4,
  "nbformat_minor": 0,
  "metadata": {
    "colab": {
      "name": " Understanding Foundations of tensorflow",
      "provenance": [],
      "authorship_tag": "ABX9TyNhVDy5VTFkVeGr7ZpTM/8G",
      "include_colab_link": true
    },
    "kernelspec": {
      "name": "python3",
      "display_name": "Python 3"
    }
  },
  "cells": [
    {
      "cell_type": "markdown",
      "metadata": {
        "id": "view-in-github",
        "colab_type": "text"
      },
      "source": [
        "<a href=\"https://colab.research.google.com/github/roshanappa/Deep-Learning-Models./blob/master/Understanding_Foundations_of_tensorflow.ipynb\" target=\"_parent\"><img src=\"https://colab.research.google.com/assets/colab-badge.svg\" alt=\"Open In Colab\"/></a>"
      ]
    },
    {
      "cell_type": "markdown",
      "metadata": {
        "id": "_gJQh4b5JuEs",
        "colab_type": "text"
      },
      "source": [
        "# Understanding Foundations of tensorflow.\n",
        "\n",
        "## Supervised ML algorithms:\n",
        "- Suppose we have input variable x and output variable y\n",
        "- Supervised machine learning algorithm task is to find a mapping function such that we can predict the value of y with input x, that is : y = f(x). finding mapping function f is called supervised learning\n",
        "- Approximate the learning function f, such that new values of x can be predict the value of y.\n",
        "- we use existing training dataset to correct the mapping function approximation.\n",
        "\n",
        "# Unsupervised ML algorithms:\n",
        "- Here we have input variable x but no output variable y.\n",
        "\n",
        "- The goal of the algo is the find the model or pattern within the data to learn more about data and make prediction\n",
        "\n",
        "- there is no supervision here, algorithms have to work on their own to make predictions.\n",
        "\n",
        "# Deep Learning:\n",
        "Traditional ml based systems will rely on experts to decide what features to pay attention to. For example you will see in the linear regression problem, we have feed random value of A and b in equation: y = Ax + b, and get the best/optimized value of A,b so that the line is closest to all the datapoints\n",
        "\n",
        "Representation based ml system figure out by themselves what features to pay attention to. In the linear regression scenario the Representation system will able to pickup from a random value and optimized by itself to get the optimized value of A, b.\n",
        "\n",
        "Deep Learning systems are one type of representation systems\n",
        "\n",
        "# Deep Learning and Neural Networks:\n",
        "\n",
        "Deep learning : Algorithms which learns what feature matters\n",
        "\n",
        "Neural networks: Neural Networks are the most common class of deep learning algorithms\n",
        "\n",
        "Neurons: Simple building blocks that actually learn by themselves\n",
        "\n",
        "TensorFlow: TensorFLow is an open source software library for numerical computations using Data flow graphs."
      ]
    },
    {
      "cell_type": "code",
      "metadata": {
        "id": "yVI_T-_mJzAK",
        "colab_type": "code",
        "colab": {}
      },
      "source": [
        "import tensorflow as tf"
      ],
      "execution_count": 0,
      "outputs": []
    },
    {
      "cell_type": "markdown",
      "metadata": {
        "id": "Lz9KZW2zL_72",
        "colab_type": "text"
      },
      "source": [
        "\n",
        "## Points to remember\n",
        "\n",
        "- In tesorflow every problem in the world can be described in terms of a directly acyclic graph\n",
        "- First we build a graph in tensorflow, so that the tensorflow have the knowledge of the whole graph and an understanding which parts of the graph are independent and can be run parallely in a distributed scenario(In different GPUs and CPUs)\n",
        "- Each node in the graph is called compute node and the edges connecting the nodes are known as tensors.\n",
        "- Output of one tensor is feeded to the input of the next node.Image\n",
        "Than we initiate a session to execute the graph.\n",
        "- And than finally we can run each nodes in the graph and can see their output.\n",
        "- remember untill the session is not initialized, the graph will not executed."
      ]
    },
    {
      "cell_type": "markdown",
      "metadata": {
        "id": "4LtlLhDfM2vY",
        "colab_type": "text"
      },
      "source": [
        "#### Define constants or compute nodes first."
      ]
    },
    {
      "cell_type": "code",
      "metadata": {
        "id": "3rbKZ-l6Qc9o",
        "colab_type": "code",
        "colab": {}
      },
      "source": [
        "import tensorflow.compat.v1 as tf\n",
        "tf.disable_v2_behavior()"
      ],
      "execution_count": 0,
      "outputs": []
    },
    {
      "cell_type": "code",
      "metadata": {
        "id": "uaVjb3S5LzH3",
        "colab_type": "code",
        "colab": {}
      },
      "source": [
        "# These are the inputs that will be feeded to compute nodes\n",
        "a = tf.constant(6.5, name = 'constant_a')\n",
        "b = tf.constant(3.4, name = 'constant_b')\n",
        "c = tf.constant(3.0, name = 'constant_c')\n",
        "d = tf.constant(100.2, name = 'constant_d')\n",
        "\n",
        "# Now lets define some compute nodes\n",
        "square = tf.square(a, name = 'square_of_a')\n",
        "power = tf.pow(b,c, name = 'power_of_b_to_c')\n",
        "sqrt = tf.sqrt(d, name = 'square_root_of_d')\n",
        "\n",
        "#Now lets define the final node.\n",
        "final_node = tf.add_n([square,power,sqrt], name = 'final_node')"
      ],
      "execution_count": 0,
      "outputs": []
    },
    {
      "cell_type": "markdown",
      "metadata": {
        "id": "msssDIbuOhUH",
        "colab_type": "text"
      },
      "source": [
        "#### Now we initialize the session."
      ]
    },
    {
      "cell_type": "code",
      "metadata": {
        "id": "U9OYwU9FOdSA",
        "colab_type": "code",
        "colab": {}
      },
      "source": [
        "sess = tf.Session()"
      ],
      "execution_count": 0,
      "outputs": []
    },
    {
      "cell_type": "markdown",
      "metadata": {
        "id": "oqgUJTgjQzhe",
        "colab_type": "text"
      },
      "source": [
        "Now we can execute the nodes in the graph"
      ]
    },
    {
      "cell_type": "code",
      "metadata": {
        "id": "U1PDKIskOdJm",
        "colab_type": "code",
        "outputId": "ccbc9065-50ae-431e-a1a9-76a1ec8dac83",
        "colab": {
          "base_uri": "https://localhost:8080/",
          "height": 85
        }
      },
      "source": [
        "print (\"Square of a is:\",sess.run(square))\n",
        "print (\"b to the power c is :\",sess.run(power))\n",
        "print (\"square root of d is:\",sess.run(sqrt))\n",
        "print (\"final result of all the nodes computation is:\", sess.run(final_node))"
      ],
      "execution_count": 70,
      "outputs": [
        {
          "output_type": "stream",
          "text": [
            "Square of a is: 42.25\n",
            "b to the power c is : 39.304005\n",
            "square root of d is: 10.0099945\n",
            "final result of all the nodes computation is: 91.563995\n"
          ],
          "name": "stdout"
        }
      ]
    },
    {
      "cell_type": "code",
      "metadata": {
        "id": "7_EGrWvMQ3Ft",
        "colab_type": "code",
        "colab": {}
      },
      "source": [
        "writer = tf.summary.FileWriter('/tmp/m2_example',sess.graph)\n",
        "writer.close()\n",
        "sess.close()"
      ],
      "execution_count": 0,
      "outputs": []
    },
    {
      "cell_type": "markdown",
      "metadata": {
        "id": "CW8Gl9ZKR-rB",
        "colab_type": "text"
      },
      "source": [
        "\n",
        "# Tensor: What it is?\n",
        "- A tensor is the basic unit in the tensorflow, all the input that we feed into the graph are called tensors.\n",
        "- A tensor is of primitive type shaped into an array of any dimensions. \n",
        "## Properties of a tensor:\n",
        " - **Rank:** the number of dimensions in a tensor. Scaler(like 2,\"a\") have 0D tensor, [1,2,3] is 1-D tensor(basically number of square breacket pairs is the dimensionality of a tensor)\n",
        " - **Shape:** It the number of elements in a tensor.e.g: [1,2]--> shape is [2]. [[1,2],[3,4]]--> shape si [2,2]\n",
        "Datatype: the data type of the tensor"
      ]
    },
    {
      "cell_type": "code",
      "metadata": {
        "id": "4bjGUYXTRy0C",
        "colab_type": "code",
        "outputId": "84593892-e66c-4b07-8052-ce0efe3c15b2",
        "colab": {
          "base_uri": "https://localhost:8080/",
          "height": 51
        }
      },
      "source": [
        "import numpy\n",
        "print(numpy.array([[1,2],[5,7]]).shape)   #in numpy shape(col,rows)\n",
        "print(numpy.array([123,123,77,786]).shape)"
      ],
      "execution_count": 72,
      "outputs": [
        {
          "output_type": "stream",
          "text": [
            "(2, 2)\n",
            "(4,)\n"
          ],
          "name": "stdout"
        }
      ]
    },
    {
      "cell_type": "code",
      "metadata": {
        "id": "ZO8E2ylKR3e5",
        "colab_type": "code",
        "outputId": "69434a28-56e7-4ed0-c600-ae27e48d8dac",
        "colab": {
          "base_uri": "https://localhost:8080/",
          "height": 34
        }
      },
      "source": [
        "zeroD = tf.constant(1,name=\"0_d_tensor\")  #one dimeansional array\n",
        "# again initialize a session\n",
        "sess = tf.Session()\n",
        "sess.run(tf.rank(zeroD)) ## got the zero rank."
      ],
      "execution_count": 73,
      "outputs": [
        {
          "output_type": "execute_result",
          "data": {
            "text/plain": [
              "0"
            ]
          },
          "metadata": {
            "tags": []
          },
          "execution_count": 73
        }
      ]
    },
    {
      "cell_type": "markdown",
      "metadata": {
        "id": "dMnzvEK3W5VL",
        "colab_type": "text"
      },
      "source": [
        "## Tensor Math."
      ]
    },
    {
      "cell_type": "code",
      "metadata": {
        "id": "XikZypBLR3Wy",
        "colab_type": "code",
        "colab": {}
      },
      "source": [
        "# import tensorflow\n",
        "import tensorflow as tf\n",
        "import tensorflow.compat.v1 as tf\n",
        "tf.disable_v2_behavior()"
      ],
      "execution_count": 0,
      "outputs": []
    },
    {
      "cell_type": "code",
      "metadata": {
        "id": "xniSwaEfR3S8",
        "colab_type": "code",
        "colab": {}
      },
      "source": [
        "# Define tensors\n",
        "x = tf.constant([100,200,300], name = 'tensor_x')\n",
        "y = tf.constant([1,2,3],name = 'tensor_y')"
      ],
      "execution_count": 0,
      "outputs": []
    },
    {
      "cell_type": "code",
      "metadata": {
        "id": "WXjJM35nR3PQ",
        "colab_type": "code",
        "colab": {}
      },
      "source": [
        "# Define computation nodes\n",
        "sum_x = tf.reduce_sum(x,name='sum_x')\n",
        "prod_y = tf.reduce_prod(y,name = 'prod_y')\n",
        "final_div =  tf.divide(sum_x,prod_y, name='final_div')\n",
        "\n",
        "# we can define the tensors on the fly as well\n",
        "final_mean = tf.reduce_mean([sum_x,prod_y],name='final_mean')"
      ],
      "execution_count": 0,
      "outputs": []
    },
    {
      "cell_type": "code",
      "metadata": {
        "id": "2vt6pl1CR3La",
        "colab_type": "code",
        "colab": {}
      },
      "source": [
        "# inititalize session\n",
        "sess = tf.Session()"
      ],
      "execution_count": 0,
      "outputs": []
    },
    {
      "cell_type": "code",
      "metadata": {
        "id": "Oj60_iBlR3Ht",
        "colab_type": "code",
        "colab": {
          "base_uri": "https://localhost:8080/",
          "height": 51
        },
        "outputId": "b0b07f95-d69a-45df-8b02-b1df813122ad"
      },
      "source": [
        "# execute the graph\n",
        "print (\"x\",sess.run(sum_x))\n",
        "print ('final_mean',sess.run(final_mean))"
      ],
      "execution_count": 82,
      "outputs": [
        {
          "output_type": "stream",
          "text": [
            "x 600\n",
            "final_mean 303\n"
          ],
          "name": "stdout"
        }
      ]
    },
    {
      "cell_type": "markdown",
      "metadata": {
        "id": "YkNuW46mZyY5",
        "colab_type": "text"
      },
      "source": [
        "# Numpy and Tensor"
      ]
    },
    {
      "cell_type": "markdown",
      "metadata": {
        "id": "tj8FPQkdZ45Y",
        "colab_type": "text"
      },
      "source": [
        "- python accepts tensors and numpy arrays exactly the same. in fact tf.int32 == np.int32"
      ]
    },
    {
      "cell_type": "code",
      "metadata": {
        "id": "RuCdZU6gR3D2",
        "colab_type": "code",
        "colab": {}
      },
      "source": [
        "import numpy as np"
      ],
      "execution_count": 0,
      "outputs": []
    },
    {
      "cell_type": "code",
      "metadata": {
        "id": "lJJqxEJXR2_y",
        "colab_type": "code",
        "colab": {}
      },
      "source": [
        "zeroD = np.array(30, dtype=np.int32)"
      ],
      "execution_count": 0,
      "outputs": []
    },
    {
      "cell_type": "code",
      "metadata": {
        "id": "KAeNe6qLR27n",
        "colab_type": "code",
        "colab": {}
      },
      "source": [
        "sess = tf.Session()"
      ],
      "execution_count": 0,
      "outputs": []
    },
    {
      "cell_type": "code",
      "metadata": {
        "id": "3ELTCZwKR23U",
        "colab_type": "code",
        "colab": {
          "base_uri": "https://localhost:8080/",
          "height": 51
        },
        "outputId": "ba66294c-d219-4ce6-ff2c-fd1c8cf0c3c8"
      },
      "source": [
        "print(sess.run(tf.rank(zeroD)))\n",
        "print(sess.run(tf.shape(zeroD)))"
      ],
      "execution_count": 87,
      "outputs": [
        {
          "output_type": "stream",
          "text": [
            "0\n",
            "[]\n"
          ],
          "name": "stdout"
        }
      ]
    },
    {
      "cell_type": "markdown",
      "metadata": {
        "id": "xwFZNASBarLE",
        "colab_type": "text"
      },
      "source": [
        "\n",
        "## Linear Regression\n",
        "\n",
        "### Points to Remember\n",
        "- Linear Regression is the classic example of supervised learning.\n",
        "- Linear Regression can be represented by y = Ax + b\n",
        "- In Ml it is more about finding the best fit line, i.e. the line which is closest to all the points on the dataset.\n",
        "- Minimizing least square error is the way to find the best fit line. In this method you drop verticle lines from all the points to the line or equation you are inspecting, and the best fit line is that line which has least sum of squares of length of those vertical lines.\n",
        "- Linear Regression Algorithm\n",
        "equation of line: Y = Ax + B\n",
        "we start by estimating some value of A and B.\n",
        "- Find the errors for the regression line with those values of A and B.\n",
        "feed error back to get the new value of the A and B.\n",
        "## Placeholders\n",
        "- It holds the value of the tensors, whose value will be available only at runtime."
      ]
    },
    {
      "cell_type": "code",
      "metadata": {
        "id": "2b-OCme-R2zQ",
        "colab_type": "code",
        "colab": {}
      },
      "source": [
        "#Defining placeholder\n",
        "x = tf.placeholder(tf.int32,shape=[3],name='x')  #here we are providing the input dimension should be the 3\n",
        "y = tf.placeholder(tf.int32,shape=[3],name='y')  #here we are providing the input dimension should be the 3"
      ],
      "execution_count": 0,
      "outputs": []
    },
    {
      "cell_type": "code",
      "metadata": {
        "id": "eBY6bJauR2vO",
        "colab_type": "code",
        "colab": {}
      },
      "source": [
        "# Define Nodes\n",
        "sum_x = tf.reduce_sum(x, name='sum_x')         #define operartions.\n",
        "prod_y = tf.reduce_prod(y, name='prod_y')\n",
        "final_div = tf.div(sum_x,prod_y, name='final_div')\n",
        "final_mean = tf.reduce_mean([sum_x,prod_y],name='final_mean')"
      ],
      "execution_count": 0,
      "outputs": []
    },
    {
      "cell_type": "code",
      "metadata": {
        "id": "W9jZWRKhR2rP",
        "colab_type": "code",
        "colab": {}
      },
      "source": [
        "#Initiate a session\n",
        "  sess = tf.Session()"
      ],
      "execution_count": 0,
      "outputs": []
    },
    {
      "cell_type": "code",
      "metadata": {
        "id": "K_RNQqD1R2i3",
        "colab_type": "code",
        "colab": {
          "base_uri": "https://localhost:8080/",
          "height": 68
        },
        "outputId": "cce57298-2cd1-4fd4-97e3-655150851c8e"
      },
      "source": [
        "# Now compute the nodes\n",
        "# Notice now how we are feeding the input via feed dictionary method in placeholder\n",
        "print(\"sum of values of x\", sess.run(sum_x, feed_dict = {x : [100,2,3]}))  #excute the session  according the above the tensorflow will work.\n",
        "print(\"prod of values of y\", sess.run(prod_y, feed_dict = {y: [1,2,3]}))\n",
        "print(\"final dic result:\", sess.run(final_mean, feed_dict = {x:[2,3,4], y:[5,6,7]}))"
      ],
      "execution_count": 94,
      "outputs": [
        {
          "output_type": "stream",
          "text": [
            "sum of values of x 105\n",
            "prod of values of y 6\n",
            "final dic result: 109\n"
          ],
          "name": "stdout"
        }
      ]
    },
    {
      "cell_type": "code",
      "metadata": {
        "id": "R17VjXR2d9N0",
        "colab_type": "code",
        "colab": {}
      },
      "source": [
        "sess.close()"
      ],
      "execution_count": 0,
      "outputs": []
    },
    {
      "cell_type": "markdown",
      "metadata": {
        "id": "9BalKVqLebHA",
        "colab_type": "text"
      },
      "source": [
        "## Fetches and feed dictionary"
      ]
    },
    {
      "cell_type": "markdown",
      "metadata": {
        "id": "uBZr9gfieiaE",
        "colab_type": "text"
      },
      "source": [
        "we feed the values of the placeholder using feed_dict inplace parameter."
      ]
    },
    {
      "cell_type": "code",
      "metadata": {
        "id": "ZvTUy2RrfmmG",
        "colab_type": "code",
        "colab": {
          "base_uri": "https://localhost:8080/",
          "height": 34
        },
        "outputId": "ec58eddf-636c-4cbb-b51a-5c4fe139330d"
      },
      "source": [
        "#y = mx_+c\n",
        "\n",
        "\n",
        "m = tf.constant([32,44],dtype=tf.int32,name='slope')\n",
        "\n",
        "# define a place holder for x and c, note that placeholder can store tensors of\n",
        "# any shape\n",
        "x = tf.placeholder(tf.int32,name='x')\n",
        "c = tf.placeholder(tf.int32,name='c')\n",
        "\n",
        "mx = tf.multiply(m,x,name='mx')\n",
        "y = tf.add(mx,c,name='y')\n",
        "\n",
        "# rather than initializing session and closing everytime, we will use the loop\n",
        "\n",
        "with tf.Session() as sess:\n",
        "  print('Result are as :',sess.run(fetches=y,feed_dict={mx:[223,400],c:[12,43]}))"
      ],
      "execution_count": 100,
      "outputs": [
        {
          "output_type": "stream",
          "text": [
            "Result are as : [235 443]\n"
          ],
          "name": "stdout"
        }
      ]
    },
    {
      "cell_type": "markdown",
      "metadata": {
        "id": "OJ2Pfwv0iwAr",
        "colab_type": "text"
      },
      "source": [
        "## Variables.\n",
        "- we know that in linear regression we start of by some value so A and b and than we tweak these values using feedback value, that means the value stored in A and b will keep on changing when we will run the algorithm, that is where variable are usefull.\n",
        "- In summary:\n",
        " - constants: immutable values whose value doesnt change.\n",
        " - placeholder: assigned once during runtime and do not change after.\n",
        " - variable: constantly recomputed as the graph is recomputed."
      ]
    },
    {
      "cell_type": "code",
      "metadata": {
        "id": "PEQqLeZRkyp9",
        "colab_type": "code",
        "colab": {
          "base_uri": "https://localhost:8080/",
          "height": 51
        },
        "outputId": "c09adad0-b091-4509-e05e-f3369a52e664"
      },
      "source": [
        "import tensorflow as tf\n",
        "import tensorflow.compat.v1 as tf\n",
        "tf.disable_v2_behavior()\n",
        "\n",
        "# y = Wx + b\n",
        "\n",
        "W = tf.Variable([1.0, 2.0], tf.float32, name='var_W')\n",
        "\n",
        "# define a place holder for x and b, note that placeholder can store tensors of\n",
        "# any shape\n",
        "\n",
        "x = tf.placeholder(tf.float32, name='x')\n",
        "b = tf.Variable([1.0,2.0], tf.float32, name='b')\n",
        "\n",
        "y = W*x + b\n",
        "\n",
        "## remember to initialize the variable, also note that is also a computation node\n",
        "init = tf.global_variables_initializer()\n",
        "\n",
        "# rather than initializing session and closing everytime, we will use the loop\n",
        "with tf.Session() as sess:\n",
        "  sess.run(init)\n",
        "  print (\"Results are as:\", sess.run(fetches=y, feed_dict = {x: [5.0, 6.0]}))\n",
        "  \n",
        "  \n",
        "  \n",
        "s = W*x\n",
        "\n",
        "# Here i am only initializing the variables i need \n",
        "init = tf.variables_initializer([W])\n",
        "\n",
        "with tf.Session() as sess:\n",
        "  sess.run(init)\n",
        "  print (\"Results are as:\", sess.run(fetches=s, feed_dict = {x: [5.0, 6.0]}))"
      ],
      "execution_count": 113,
      "outputs": [
        {
          "output_type": "stream",
          "text": [
            "Results are as: [ 6. 14.]\n",
            "Results are as: [ 5. 12.]\n"
          ],
          "name": "stdout"
        }
      ]
    },
    {
      "cell_type": "markdown",
      "metadata": {
        "id": "dejGK0SuoAeL",
        "colab_type": "text"
      },
      "source": [
        "## Default and Explicitly Specified Graph\n",
        "- In all the programs that we have written above we are using the implicit default graph.\n",
        "- We can instantiate our own graph and perform all actions there as well."
      ]
    },
    {
      "cell_type": "code",
      "metadata": {
        "id": "U0pBINBLkyaI",
        "colab_type": "code",
        "colab": {
          "base_uri": "https://localhost:8080/",
          "height": 68
        },
        "outputId": "30ffe1bf-4389-46d6-ed1a-602cf8523ea4"
      },
      "source": [
        "g1 = tf.Graph()\n",
        "\n",
        "with g1.as_default():\n",
        "\twith tf.Session() as sess:\n",
        "\t\t# y = Ax + b\n",
        "\t\tA = tf.constant([5, 7], tf.int32, name='A')\n",
        "\n",
        "\t\tx = tf.placeholder(tf.int32, name='x')\n",
        "\t\tb = tf.constant([3, 4], tf.int32, name='b')\n",
        "\n",
        "\t\ty = A * x + b\n",
        "\n",
        "\t\tprint (sess.run(y, feed_dict={x: [10, 100]}))\n",
        "\n",
        "\t\tassert y.graph is g1\n",
        "\n",
        "g2 = tf.Graph()\n",
        "with g2.as_default():\n",
        "\twith tf.Session() as sess:\n",
        "\t\t# y = A^x\n",
        "\t\tA = tf.constant([5, 7], tf.int32, name='A')\n",
        "\n",
        "\t\tx = tf.placeholder(tf.int32, name='x')\n",
        "\n",
        "\t\ty = tf.pow(A, x, name=\"y\")\n",
        "\n",
        "\t\tprint (sess.run(y, feed_dict={x: [3, 5]}))\n",
        "\n",
        "\t\tassert y.graph is g2\n",
        "\n",
        "default_graph = tf.get_default_graph()\n",
        "with tf.Session() as sess:\n",
        "\t# y = A + x\n",
        "\tA = tf.constant([5, 7], tf.int32, name='A')\n",
        "\n",
        "\tx = tf.placeholder(tf.int32, name='x')\n",
        "\n",
        "\ty = A + x\n",
        "\tprint (sess.run(y, feed_dict={x: [3, 5]}))\n",
        "\n",
        "\tassert y.graph is default_graph\n"
      ],
      "execution_count": 114,
      "outputs": [
        {
          "output_type": "stream",
          "text": [
            "[ 53 704]\n",
            "[  125 16807]\n",
            "[ 8 12]\n"
          ],
          "name": "stdout"
        }
      ]
    }
  ]
}