{
  "nbformat": 4,
  "nbformat_minor": 0,
  "metadata": {
    "colab": {
      "name": "Mnist  digit  Classification.ipynb",
      "provenance": [],
      "authorship_tag": "ABX9TyN7FiqvAgIMQPqExsPGQZPZ",
      "include_colab_link": true
    },
    "kernelspec": {
      "name": "python3",
      "display_name": "Python 3"
    },
    "accelerator": "GPU"
  },
  "cells": [
    {
      "cell_type": "markdown",
      "metadata": {
        "id": "view-in-github",
        "colab_type": "text"
      },
      "source": [
        "<a href=\"https://colab.research.google.com/github/roshanappa/Deep-Learning-Models./blob/master/Mnist_digit_Classification.ipynb\" target=\"_parent\"><img src=\"https://colab.research.google.com/assets/colab-badge.svg\" alt=\"Open In Colab\"/></a>"
      ]
    },
    {
      "cell_type": "code",
      "metadata": {
        "id": "IXntWycCcc0f",
        "colab_type": "code",
        "colab": {}
      },
      "source": [
        "import numpy as np\n",
        "import pandas as pd\n",
        "import matplotlib.pyplot as plt\n",
        "import seaborn as sns\n",
        "\n",
        "import warnings\n",
        "warnings.filterwarnings('ignore')"
      ],
      "execution_count": 0,
      "outputs": []
    },
    {
      "cell_type": "code",
      "metadata": {
        "id": "TZJqoJoudLgn",
        "colab_type": "code",
        "colab": {}
      },
      "source": [
        "import tensorflow as tf\n",
        "from tensorflow.keras.layers import Dense,Flatten,Conv2D,MaxPool2D,Dropout\n",
        "from tensorflow.keras import Sequential\n",
        "from keras.utils import np_utils"
      ],
      "execution_count": 0,
      "outputs": []
    },
    {
      "cell_type": "code",
      "metadata": {
        "id": "sTtk8sBAdnzF",
        "colab_type": "code",
        "colab": {}
      },
      "source": [
        "from tensorflow.keras.datasets import mnist"
      ],
      "execution_count": 0,
      "outputs": []
    },
    {
      "cell_type": "code",
      "metadata": {
        "id": "tImlyJVdeqsm",
        "colab_type": "code",
        "colab": {}
      },
      "source": [
        "(x_train,y_train),(x_test,y_test) = mnist.load_data()"
      ],
      "execution_count": 0,
      "outputs": []
    },
    {
      "cell_type": "code",
      "metadata": {
        "id": "yP62Lz0Eeqom",
        "colab_type": "code",
        "colab": {
          "base_uri": "https://localhost:8080/",
          "height": 709
        },
        "outputId": "56c7293e-b4d3-41d6-d927-64d8bcf08476"
      },
      "source": [
        "plt.figure(figsize=(5,6))\n",
        "plt.imshow(x_train[1])\n",
        "plt.colorbar()\n",
        "plt.show()\n",
        "\n",
        "plt.figure(figsize=(5,6))\n",
        "plt.imshow(x_train[0])\n",
        "plt.colorbar()\n",
        "plt.show()"
      ],
      "execution_count": 80,
      "outputs": [
        {
          "output_type": "display_data",
          "data": {
            "image/png": "[encoded data removed]",
            "text/plain": [
              "<Figure size 360x432 with 2 Axes>"
            ]
          },
          "metadata": {
            "tags": []
          }
        },
        {
          "output_type": "display_data",
          "data": {
            "image/png": "[encoded data removed]",
            "text/plain": [
              "<Figure size 360x432 with 2 Axes>"
            ]
          },
          "metadata": {
            "tags": []
          }
        }
      ]
    },
    {
      "cell_type": "code",
      "metadata": {
        "id": "5jferoZReqhF",
        "colab_type": "code",
        "colab": {
          "base_uri": "https://localhost:8080/",
          "height": 34
        },
        "outputId": "218a0cc6-ff04-4331-e8f9-0cb5691b935c"
      },
      "source": [
        "x_train.shape"
      ],
      "execution_count": 81,
      "outputs": [
        {
          "output_type": "execute_result",
          "data": {
            "text/plain": [
              "(60000, 28, 28)"
            ]
          },
          "metadata": {
            "tags": []
          },
          "execution_count": 81
        }
      ]
    },
    {
      "cell_type": "code",
      "metadata": {
        "id": "wlnx1I0xhPLB",
        "colab_type": "code",
        "colab": {
          "base_uri": "https://localhost:8080/",
          "height": 34
        },
        "outputId": "b8fd65e9-31c5-4320-bb23-57b0e21c22cd"
      },
      "source": [
        "x_test.shape"
      ],
      "execution_count": 82,
      "outputs": [
        {
          "output_type": "execute_result",
          "data": {
            "text/plain": [
              "(10000, 28, 28)"
            ]
          },
          "metadata": {
            "tags": []
          },
          "execution_count": 82
        }
      ]
    },
    {
      "cell_type": "markdown",
      "metadata": {
        "id": "AzHFZhgNhdyC",
        "colab_type": "text"
      },
      "source": [
        "From the above we can see the figure with pixel size is 255 that is high actually our Articial Neural Netwok works on only the 0 to 1.So we need to rescale them."
      ]
    },
    {
      "cell_type": "code",
      "metadata": {
        "id": "mqmfPOmGhSQH",
        "colab_type": "code",
        "colab": {}
      },
      "source": [
        "x_train = x_train/255\n",
        "x_test  = x_test/255"
      ],
      "execution_count": 0,
      "outputs": []
    },
    {
      "cell_type": "code",
      "metadata": {
        "id": "uVGWJnOThZeb",
        "colab_type": "code",
        "colab": {
          "base_uri": "https://localhost:8080/",
          "height": 269
        },
        "outputId": "c7e69150-aa64-4999-d9c7-e85dfa5d7a8d"
      },
      "source": [
        "plt.imshow(x_train[0])\n",
        "plt.colorbar()\n",
        "plt.show()"
      ],
      "execution_count": 84,
      "outputs": [
        {
          "output_type": "display_data",
          "data": {
            "image/png": "[encoded data removed]",
            "text/plain": [
              "<Figure size 432x288 with 2 Axes>"
            ]
          },
          "metadata": {
            "tags": []
          }
        }
      ]
    },
    {
      "cell_type": "code",
      "metadata": {
        "id": "kJ6HKJpZq8mX",
        "colab_type": "code",
        "colab": {
          "base_uri": "https://localhost:8080/",
          "height": 551
        },
        "outputId": "c91e4080-a969-4ae9-b326-a5798c15c992"
      },
      "source": [
        "fig = plt.figure()\n",
        "for i in range(9):\n",
        "  plt.subplot(3,3,i+1)\n",
        "  plt.tight_layout()\n",
        "  plt.imshow(x_train[i], cmap='gray', interpolation='none')\n",
        "  plt.title(\"Digit: {}\".format(y_train[i]))\n",
        "  plt.xticks([])\n",
        "  plt.yticks([])\n",
        "fig"
      ],
      "execution_count": 85,
      "outputs": [
        {
          "output_type": "execute_result",
          "data": {
            "image/png": "[encoded data removed]",
            "text/plain": [
              "<Figure size 432x288 with 9 Axes>"
            ]
          },
          "metadata": {
            "tags": []
          },
          "execution_count": 85
        },
        {
          "output_type": "display_data",
          "data": {
            "image/png": "[encoded data removed]",
            "text/plain": [
              "<Figure size 432x288 with 9 Axes>"
            ]
          },
          "metadata": {
            "tags": []
          }
        }
      ]
    },
    {
      "cell_type": "code",
      "metadata": {
        "id": "zXEczRv_rXnO",
        "colab_type": "code",
        "colab": {
          "base_uri": "https://localhost:8080/",
          "height": 545
        },
        "outputId": "c27d6766-f80a-4679-8f56-8b9606b16ab6"
      },
      "source": [
        "fig = plt.figure()\n",
        "plt.subplot(2,1,1)\n",
        "plt.imshow(x_train[0], cmap='gray', interpolation='none')\n",
        "plt.title(\"Digit: {}\".format(y_train[0]))\n",
        "plt.xticks([])\n",
        "plt.yticks([])\n",
        "plt.subplot(2,1,2)\n",
        "plt.hist(x_train[0].reshape(784))\n",
        "plt.title(\"Pixel Value Distribution\")\n",
        "fig"
      ],
      "execution_count": 86,
      "outputs": [
        {
          "output_type": "execute_result",
          "data": {
            "image/png": "[encoded data removed]",
            "text/plain": [
              "<Figure size 432x288 with 2 Axes>"
            ]
          },
          "metadata": {
            "tags": []
          },
          "execution_count": 86
        },
        {
          "output_type": "display_data",
          "data": {
            "image/png": "[encoded data removed]",
            "text/plain": [
              "<Figure size 432x288 with 2 Axes>"
            ]
          },
          "metadata": {
            "tags": []
          }
        }
      ]
    },
    {
      "cell_type": "markdown",
      "metadata": {
        "id": "RePw-evTiQPW",
        "colab_type": "text"
      },
      "source": [
        "Since our images are not in size that 3 dimension and we are going to use the Convolutional Neural network so we resize them"
      ]
    },
    {
      "cell_type": "code",
      "metadata": {
        "id": "BHnYeGXviEE3",
        "colab_type": "code",
        "colab": {
          "base_uri": "https://localhost:8080/",
          "height": 34
        },
        "outputId": "911d89a6-51b7-4c1c-f58d-e6dde00e22d7"
      },
      "source": [
        "x_train.shape"
      ],
      "execution_count": 87,
      "outputs": [
        {
          "output_type": "execute_result",
          "data": {
            "text/plain": [
              "(60000, 28, 28)"
            ]
          },
          "metadata": {
            "tags": []
          },
          "execution_count": 87
        }
      ]
    },
    {
      "cell_type": "code",
      "metadata": {
        "id": "O-FLKYviiv59",
        "colab_type": "code",
        "colab": {}
      },
      "source": [
        "x_train = x_train.reshape(x_train.shape[0],x_train.shape[1],x_train.shape[2],1)\n",
        "x_test = x_test.reshape(x_test.shape[0],x_test.shape[1],x_test.shape[2],1)"
      ],
      "execution_count": 0,
      "outputs": []
    },
    {
      "cell_type": "code",
      "metadata": {
        "id": "3ebW0Dx5jHOK",
        "colab_type": "code",
        "colab": {
          "base_uri": "https://localhost:8080/",
          "height": 34
        },
        "outputId": "6a7837d3-6566-456c-9963-7ad64bbe75dd"
      },
      "source": [
        "x_train.shape,x_test.shape"
      ],
      "execution_count": 89,
      "outputs": [
        {
          "output_type": "execute_result",
          "data": {
            "text/plain": [
              "((60000, 28, 28, 1), (10000, 28, 28, 1))"
            ]
          },
          "metadata": {
            "tags": []
          },
          "execution_count": 89
        }
      ]
    },
    {
      "cell_type": "code",
      "metadata": {
        "id": "54yL8nvtjKF9",
        "colab_type": "code",
        "colab": {
          "base_uri": "https://localhost:8080/",
          "height": 34
        },
        "outputId": "e83b5cb9-4248-4561-ddd9-ef15fc5473cb"
      },
      "source": [
        "\n",
        "\n",
        "y_train  # These are the classes."
      ],
      "execution_count": 90,
      "outputs": [
        {
          "output_type": "execute_result",
          "data": {
            "text/plain": [
              "array([5, 0, 4, ..., 5, 6, 8], dtype=uint8)"
            ]
          },
          "metadata": {
            "tags": []
          },
          "execution_count": 90
        }
      ]
    },
    {
      "cell_type": "code",
      "metadata": {
        "id": "wcsVjsTOjO8a",
        "colab_type": "code",
        "colab": {}
      },
      "source": [
        "input_shape=x_train[0].shape"
      ],
      "execution_count": 0,
      "outputs": []
    },
    {
      "cell_type": "markdown",
      "metadata": {
        "id": "U6twZL1ukVzF",
        "colab_type": "text"
      },
      "source": [
        "## Create and Model."
      ]
    },
    {
      "cell_type": "code",
      "metadata": {
        "id": "ZyDI29YjkFPP",
        "colab_type": "code",
        "colab": {}
      },
      "source": [
        "model = Sequential()\n",
        "model.add(Conv2D(128,kernel_size=(3,3),padding='same',activation='relu',kernel_initializer='he_uniform',input_shape=input_shape))\n",
        "model.add(Dropout(0.10))\n",
        "model.add(MaxPool2D(pool_size=(2,2)))\n",
        "\n",
        "model.add(Conv2D(64,kernel_size=(3,3),padding='same',activation='relu',kernel_initializer='he_uniform'))\n",
        "model.add(Dropout(0.10))\n",
        "model.add(MaxPool2D(pool_size=(2,2)))\n",
        "\n",
        "model.add(Flatten())\n",
        "model.add(Dense(128,activation='relu',kernel_initializer='he_uniform'))\n",
        "model.add(Dropout(0.1))\n",
        "model.add(Dense(10,activation='softmax',kernel_initializer='he_uniform'))\n"
      ],
      "execution_count": 0,
      "outputs": []
    },
    {
      "cell_type": "code",
      "metadata": {
        "id": "6d38ElKUl2ri",
        "colab_type": "code",
        "colab": {
          "base_uri": "https://localhost:8080/",
          "height": 493
        },
        "outputId": "7e5e0d39-687c-4519-bf49-9e11f9fc3f28"
      },
      "source": [
        "model.summary()"
      ],
      "execution_count": 93,
      "outputs": [
        {
          "output_type": "stream",
          "text": [
            "Model: \"sequential_3\"\n",
            "_________________________________________________________________\n",
            "Layer (type)                 Output Shape              Param #   \n",
            "=================================================================\n",
            "conv2d_6 (Conv2D)            (None, 28, 28, 128)       1280      \n",
            "_________________________________________________________________\n",
            "dropout_9 (Dropout)          (None, 28, 28, 128)       0         \n",
            "_________________________________________________________________\n",
            "max_pooling2d_6 (MaxPooling2 (None, 14, 14, 128)       0         \n",
            "_________________________________________________________________\n",
            "conv2d_7 (Conv2D)            (None, 14, 14, 64)        73792     \n",
            "_________________________________________________________________\n",
            "dropout_10 (Dropout)         (None, 14, 14, 64)        0         \n",
            "_________________________________________________________________\n",
            "max_pooling2d_7 (MaxPooling2 (None, 7, 7, 64)          0         \n",
            "_________________________________________________________________\n",
            "flatten_3 (Flatten)          (None, 3136)              0         \n",
            "_________________________________________________________________\n",
            "dense_6 (Dense)              (None, 128)               401536    \n",
            "_________________________________________________________________\n",
            "dropout_11 (Dropout)         (None, 128)               0         \n",
            "_________________________________________________________________\n",
            "dense_7 (Dense)              (None, 10)                1290      \n",
            "=================================================================\n",
            "Total params: 477,898\n",
            "Trainable params: 477,898\n",
            "Non-trainable params: 0\n",
            "_________________________________________________________________\n"
          ],
          "name": "stdout"
        }
      ]
    },
    {
      "cell_type": "code",
      "metadata": {
        "id": "PW-nMSHKl6-r",
        "colab_type": "code",
        "colab": {}
      },
      "source": [
        "model.compile(optimizer='adam',loss='sparse_categorical_crossentropy',metrics=['accuracy'])"
      ],
      "execution_count": 0,
      "outputs": []
    },
    {
      "cell_type": "code",
      "metadata": {
        "id": "SE53pEVbmYZS",
        "colab_type": "code",
        "colab": {
          "base_uri": "https://localhost:8080/",
          "height": 357
        },
        "outputId": "dbacef6c-49d0-47be-b0a4-42ee988bb3fb"
      },
      "source": [
        "history = model.fit(x_train,y_train,batch_size=20,epochs=10,verbose=1,validation_data=(x_test,y_test))"
      ],
      "execution_count": 95,
      "outputs": [
        {
          "output_type": "stream",
          "text": [
            "Epoch 1/10\n",
            "3000/3000 [==============================] - 11s 4ms/step - loss: 0.1193 - accuracy: 0.9632 - val_loss: 0.0424 - val_accuracy: 0.9860\n",
            "Epoch 2/10\n",
            "3000/3000 [==============================] - 11s 4ms/step - loss: 0.0486 - accuracy: 0.9852 - val_loss: 0.0392 - val_accuracy: 0.9871\n",
            "Epoch 3/10\n",
            "3000/3000 [==============================] - 11s 4ms/step - loss: 0.0357 - accuracy: 0.9892 - val_loss: 0.0336 - val_accuracy: 0.9901\n",
            "Epoch 4/10\n",
            "3000/3000 [==============================] - 11s 4ms/step - loss: 0.0273 - accuracy: 0.9913 - val_loss: 0.0265 - val_accuracy: 0.9895\n",
            "Epoch 5/10\n",
            "3000/3000 [==============================] - 11s 4ms/step - loss: 0.0214 - accuracy: 0.9931 - val_loss: 0.0347 - val_accuracy: 0.9903\n",
            "Epoch 6/10\n",
            "3000/3000 [==============================] - 11s 4ms/step - loss: 0.0191 - accuracy: 0.9939 - val_loss: 0.0343 - val_accuracy: 0.9898\n",
            "Epoch 7/10\n",
            "3000/3000 [==============================] - 11s 4ms/step - loss: 0.0147 - accuracy: 0.9952 - val_loss: 0.0353 - val_accuracy: 0.9909\n",
            "Epoch 8/10\n",
            "3000/3000 [==============================] - 12s 4ms/step - loss: 0.0135 - accuracy: 0.9957 - val_loss: 0.0365 - val_accuracy: 0.9896\n",
            "Epoch 9/10\n",
            "3000/3000 [==============================] - 11s 4ms/step - loss: 0.0115 - accuracy: 0.9965 - val_loss: 0.0344 - val_accuracy: 0.9905\n",
            "Epoch 10/10\n",
            "3000/3000 [==============================] - 11s 4ms/step - loss: 0.0124 - accuracy: 0.9963 - val_loss: 0.0303 - val_accuracy: 0.9918\n"
          ],
          "name": "stdout"
        }
      ]
    },
    {
      "cell_type": "code",
      "metadata": {
        "id": "Bti_xyo2mqNA",
        "colab_type": "code",
        "colab": {
          "base_uri": "https://localhost:8080/",
          "height": 34
        },
        "outputId": "8924f52e-4420-4334-a97d-9d4877546944"
      },
      "source": [
        "val_loss,val_accuracy=model.evaluate(x_test,y_test)"
      ],
      "execution_count": 97,
      "outputs": [
        {
          "output_type": "stream",
          "text": [
            "313/313 [==============================] - 1s 3ms/step - loss: 0.0303 - accuracy: 0.9918\n"
          ],
          "name": "stdout"
        }
      ]
    },
    {
      "cell_type": "markdown",
      "metadata": {
        "id": "0fU0LE_QskLi",
        "colab_type": "text"
      },
      "source": [
        "## Save The Model."
      ]
    },
    {
      "cell_type": "code",
      "metadata": {
        "id": "lp1vepDyppDv",
        "colab_type": "code",
        "colab": {
          "base_uri": "https://localhost:8080/",
          "height": 34
        },
        "outputId": "1d0aa9b6-c09a-43e6-956f-6674fe84d575"
      },
      "source": [
        "model.save('model.h5')\n",
        "print(\"Saved model to disk\")"
      ],
      "execution_count": 109,
      "outputs": [
        {
          "output_type": "stream",
          "text": [
            "Saved model to disk\n"
          ],
          "name": "stdout"
        }
      ]
    },
    {
      "cell_type": "markdown",
      "metadata": {
        "id": "l3-C__WPxp_j",
        "colab_type": "text"
      },
      "source": [
        "## Learning Curve."
      ]
    },
    {
      "cell_type": "code",
      "metadata": {
        "id": "_VuMT2YtxXCF",
        "colab_type": "code",
        "colab": {
          "base_uri": "https://localhost:8080/",
          "height": 697
        },
        "outputId": "b94216d6-3aac-41f7-f78f-b2abca7bf8c5"
      },
      "source": [
        "history.history"
      ],
      "execution_count": 110,
      "outputs": [
        {
          "output_type": "execute_result",
          "data": {
            "text/plain": [
              "{'accuracy': [0.9631500244140625,\n",
              "  0.9851999878883362,\n",
              "  0.989216685295105,\n",
              "  0.991349995136261,\n",
              "  0.9931333065032959,\n",
              "  0.9939000010490417,\n",
              "  0.9952333569526672,\n",
              "  0.9956833124160767,\n",
              "  0.9964500069618225,\n",
              "  0.9963499903678894],\n",
              " 'loss': [0.11930793523788452,\n",
              "  0.04857486113905907,\n",
              "  0.03569653257727623,\n",
              "  0.02730322815477848,\n",
              "  0.02135862410068512,\n",
              "  0.019059808924794197,\n",
              "  0.01470535434782505,\n",
              "  0.013548356480896473,\n",
              "  0.01153230294585228,\n",
              "  0.012367087416350842],\n",
              " 'val_accuracy': [0.9860000014305115,\n",
              "  0.9871000051498413,\n",
              "  0.9901000261306763,\n",
              "  0.9894999861717224,\n",
              "  0.9902999997138977,\n",
              "  0.989799976348877,\n",
              "  0.9908999800682068,\n",
              "  0.9896000027656555,\n",
              "  0.9904999732971191,\n",
              "  0.9918000102043152],\n",
              " 'val_loss': [0.042428795248270035,\n",
              "  0.039161816239356995,\n",
              "  0.03359246626496315,\n",
              "  0.02650398202240467,\n",
              "  0.034707315266132355,\n",
              "  0.034324076026678085,\n",
              "  0.03533068299293518,\n",
              "  0.036476682871580124,\n",
              "  0.03436256945133209,\n",
              "  0.030347980558872223]}"
            ]
          },
          "metadata": {
            "tags": []
          },
          "execution_count": 110
        }
      ]
    },
    {
      "cell_type": "code",
      "metadata": {
        "id": "uwPNz08CxwCy",
        "colab_type": "code",
        "colab": {
          "base_uri": "https://localhost:8080/",
          "height": 573
        },
        "outputId": "7ff33f93-3bb4-4e2f-f6e5-73d6a1dbc0e4"
      },
      "source": [
        "plt.plot(history.history['accuracy'])\n",
        "plt.plot(history.history['val_accuracy'])\n",
        "plt.xlabel('Epoches')\n",
        "plt.ylabel('Model Accuarcies')\n",
        "plt.title('Model Accuarcies Behaviour along the Epoches')\n",
        "plt.show()\n",
        "\n",
        "plt.plot(history.history['loss'])\n",
        "plt.plot(history.history['val_loss'])\n",
        "plt.xlabel('Epoches')\n",
        "plt.ylabel('Model losses')\n",
        "plt.title('Model Losses Behaviour along the Epoches')\n",
        "plt.show()"
      ],
      "execution_count": 112,
      "outputs": [
        {
          "output_type": "display_data",
          "data": {
            "image/png": "[encoded data removed]",
            "text/plain": [
              "<Figure size 432x288 with 1 Axes>"
            ]
          },
          "metadata": {
            "tags": []
          }
        },
        {
          "output_type": "display_data",
          "data": {
            "image/png": "[encoded data removed]",
            "text/plain": [
              "<Figure size 432x288 with 1 Axes>"
            ]
          },
          "metadata": {
            "tags": []
          }
        }
      ]
    },
    {
      "cell_type": "markdown",
      "metadata": {
        "id": "60pwpxZjynfS",
        "colab_type": "text"
      },
      "source": [
        "From teh above we can say the validation data is not given the good performance along the epoches and  but the accuaracies that we got from the training is good  and voice versa for the loss graph over the epoches."
      ]
    },
    {
      "cell_type": "markdown",
      "metadata": {
        "id": "q6EXTtclzZ_I",
        "colab_type": "text"
      },
      "source": [
        "## Evaluate the Performance of the model."
      ]
    },
    {
      "cell_type": "code",
      "metadata": {
        "id": "oiMA7ZdNyYAd",
        "colab_type": "code",
        "colab": {}
      },
      "source": [
        "from tensorflow.keras.models import load_model"
      ],
      "execution_count": 0,
      "outputs": []
    },
    {
      "cell_type": "code",
      "metadata": {
        "id": "QkrooRONz0Uv",
        "colab_type": "code",
        "colab": {
          "base_uri": "https://localhost:8080/",
          "height": 34
        },
        "outputId": "a33ac702-10d3-49fe-9d38-3c7a6249da9e"
      },
      "source": [
        "mnist_model = load_model('/content/model.h5')"
      ],
      "execution_count": 114,
      "outputs": [
        {
          "output_type": "stream",
          "text": [
            "WARNING:tensorflow:Error in loading the saved optimizer state. As a result, your model is starting with a freshly initialized optimizer.\n"
          ],
          "name": "stdout"
        }
      ]
    },
    {
      "cell_type": "code",
      "metadata": {
        "id": "I2FiaWX90BcD",
        "colab_type": "code",
        "colab": {
          "base_uri": "https://localhost:8080/",
          "height": 34
        },
        "outputId": "8c89cca5-d256-4bc2-9cbc-e635e1bdd8b2"
      },
      "source": [
        "loss_and_metrics = mnist_model.evaluate(x_test,y_test,verbose=2)"
      ],
      "execution_count": 115,
      "outputs": [
        {
          "output_type": "stream",
          "text": [
            "313/313 - 1s - loss: 0.0303 - accuracy: 0.9918\n"
          ],
          "name": "stdout"
        }
      ]
    },
    {
      "cell_type": "code",
      "metadata": {
        "id": "fYapixyA0XAY",
        "colab_type": "code",
        "colab": {
          "base_uri": "https://localhost:8080/",
          "height": 51
        },
        "outputId": "16092e97-a2b1-4202-e7f3-b3fe8c5e5174"
      },
      "source": [
        "print('Test_loss :-',loss_and_metrics[0])\n",
        "print('Test_Accuracies :-',loss_and_metrics[1])"
      ],
      "execution_count": 116,
      "outputs": [
        {
          "output_type": "stream",
          "text": [
            "Test_loss :- 0.030299518257379532\n",
            "Test_Accuracies :- 0.9918000102043152\n"
          ],
          "name": "stdout"
        }
      ]
    },
    {
      "cell_type": "markdown",
      "metadata": {
        "id": "Owx9mGbM0vBc",
        "colab_type": "text"
      },
      "source": [
        "# Check the Prediction of Our Model."
      ]
    },
    {
      "cell_type": "code",
      "metadata": {
        "id": "ub0IEVxb0kIp",
        "colab_type": "code",
        "colab": {
          "base_uri": "https://localhost:8080/",
          "height": 34
        },
        "outputId": "fe818b74-4457-4f86-d6c6-412839320850"
      },
      "source": [
        "predicted_classes=mnist_model.predict_classes(x_test)\n",
        "predicted_classes"
      ],
      "execution_count": 118,
      "outputs": [
        {
          "output_type": "execute_result",
          "data": {
            "text/plain": [
              "array([7, 2, 1, ..., 4, 5, 6])"
            ]
          },
          "metadata": {
            "tags": []
          },
          "execution_count": 118
        }
      ]
    },
    {
      "cell_type": "code",
      "metadata": {
        "id": "sNdEa4Ls1j2x",
        "colab_type": "code",
        "colab": {}
      },
      "source": [
        "from sklearn.metrics import accuracy_score,confusion_matrix,classification_report,auc,roc_curve"
      ],
      "execution_count": 0,
      "outputs": []
    },
    {
      "cell_type": "code",
      "metadata": {
        "id": "wBFEO_IS1I11",
        "colab_type": "code",
        "colab": {
          "base_uri": "https://localhost:8080/",
          "height": 34
        },
        "outputId": "9c131482-abf3-49e1-92f4-666c5928ca36"
      },
      "source": [
        "print('Accuarcy :-',accuracy_score(y_test,predicted_classes))"
      ],
      "execution_count": 120,
      "outputs": [
        {
          "output_type": "stream",
          "text": [
            "Accuarcy :- 0.9918\n"
          ],
          "name": "stdout"
        }
      ]
    },
    {
      "cell_type": "markdown",
      "metadata": {
        "id": "-RrqS2MQ2bAj",
        "colab_type": "text"
      },
      "source": [
        "## To cross varify whether we corectly classify or not."
      ]
    },
    {
      "cell_type": "code",
      "metadata": {
        "id": "YJMKHOFC1vIp",
        "colab_type": "code",
        "colab": {}
      },
      "source": [
        "correct_indices = np.nonzero(predicted_classes==y_test)[0]"
      ],
      "execution_count": 0,
      "outputs": []
    },
    {
      "cell_type": "code",
      "metadata": {
        "id": "JBZ06xH720dg",
        "colab_type": "code",
        "colab": {}
      },
      "source": [
        "incorrect_indices = np.nonzero(predicted_classes != y_test)[0]"
      ],
      "execution_count": 0,
      "outputs": []
    },
    {
      "cell_type": "code",
      "metadata": {
        "id": "C-QpeELk3e2K",
        "colab_type": "code",
        "colab": {
          "base_uri": "https://localhost:8080/",
          "height": 51
        },
        "outputId": "ed38e24c-2765-40d5-b47b-53d86a69a6b4"
      },
      "source": [
        "print(len(correct_indices),\" classified correctly\")\n",
        "print(len(incorrect_indices),\" classified incorrectly\")"
      ],
      "execution_count": 129,
      "outputs": [
        {
          "output_type": "stream",
          "text": [
            "9918  classified correctly\n",
            "82  classified incorrectly\n"
          ],
          "name": "stdout"
        }
      ]
    },
    {
      "cell_type": "code",
      "metadata": {
        "id": "cUMLD1EG3oN3",
        "colab_type": "code",
        "colab": {
          "base_uri": "https://localhost:8080/",
          "height": 187
        },
        "outputId": "409c1aaf-d68e-4541-9290-517d7946359a"
      },
      "source": [
        "mat = confusion_matrix(y_test,predicted_classes)\n",
        "mat"
      ],
      "execution_count": 131,
      "outputs": [
        {
          "output_type": "execute_result",
          "data": {
            "text/plain": [
              "array([[ 977,    1,    0,    0,    0,    0,    1,    1,    0,    0],\n",
              "       [   0, 1131,    0,    1,    1,    0,    1,    1,    0,    0],\n",
              "       [   2,    0, 1024,    0,    0,    0,    0,    6,    0,    0],\n",
              "       [   0,    0,    0, 1006,    0,    3,    0,    1,    0,    0],\n",
              "       [   0,    0,    1,    0,  970,    0,    2,    2,    3,    4],\n",
              "       [   1,    0,    0,    6,    0,  883,    2,    0,    0,    0],\n",
              "       [   2,    1,    0,    0,    2,    2,  949,    0,    2,    0],\n",
              "       [   0,    1,    3,    0,    3,    0,    0, 1020,    0,    1],\n",
              "       [   1,    0,    0,    2,    0,    1,    0,    1,  968,    1],\n",
              "       [   0,    0,    1,    5,    6,    2,    0,    4,    1,  990]])"
            ]
          },
          "metadata": {
            "tags": []
          },
          "execution_count": 131
        }
      ]
    },
    {
      "cell_type": "code",
      "metadata": {
        "id": "hn2NPql23-Bq",
        "colab_type": "code",
        "colab": {
          "base_uri": "https://localhost:8080/",
          "height": 537
        },
        "outputId": "86301a87-570d-4120-9eb4-fc6cf6ba7d9c"
      },
      "source": [
        "plt.figure(figsize=(20,9))\n",
        "sns.heatmap(mat,annot=True,fmt='d',linewidths=0.5,linecolor='red',cbar=False,xticklabels=list('0123456789'),yticklabels=list('0123456789'))\n",
        "plt.show()"
      ],
      "execution_count": 132,
      "outputs": [
        {
          "output_type": "display_data",
          "data": {
            "image/png": "[encoded data removed]",
            "text/plain": [
              "<Figure size 1440x648 with 1 Axes>"
            ]
          },
          "metadata": {
            "tags": []
          }
        }
      ]
    },
    {
      "cell_type": "markdown",
      "metadata": {
        "id": "hU7ZY80o5fUs",
        "colab_type": "text"
      },
      "source": [
        "## Cross Validation "
      ]
    },
    {
      "cell_type": "code",
      "metadata": {
        "id": "zmpIHUG36JAa",
        "colab_type": "code",
        "colab": {}
      },
      "source": [
        "from sklearn.model_selection import cross_val_score\n",
        "from tensorflow.keras.wrappers.scikit_learn import KerasClassifier"
      ],
      "execution_count": 0,
      "outputs": []
    },
    {
      "cell_type": "code",
      "metadata": {
        "id": "FXhC9cdU5Qel",
        "colab_type": "code",
        "colab": {
          "base_uri": "https://localhost:8080/",
          "height": 51
        },
        "outputId": "21ed46fc-67a7-4bb2-9d23-78d502366495"
      },
      "source": [
        "def set_model():\n",
        "  model = Sequential()\n",
        "  model.add(Conv2D(128,kernel_size=(3,3),padding='same',activation='relu',kernel_initializer='he_uniform',input_shape=input_shape))\n",
        "  model.add(Dropout(0.10))\n",
        "  model.add(MaxPool2D(pool_size=(2,2)))\n",
        "\n",
        "  model.add(Conv2D(64,kernel_size=(3,3),padding='same',activation='relu',kernel_initializer='he_uniform'))\n",
        "  model.add(Dropout(0.10))\n",
        "  model.add(MaxPool2D(pool_size=(2,2)))\n",
        "\n",
        "  model.add(Flatten())\n",
        "  model.add(Dense(128,activation='relu',kernel_initializer='he_uniform'))\n",
        "  model.add(Dropout(0.1))\n",
        "  model.add(Dense(10,activation='softmax',kernel_initializer='he_uniform'))\n",
        "  model.compile(optimizer='adam',loss='sparse_categorical_crossentropy',metrics=['accuracy'])\n",
        "\n",
        "  return model\n",
        "\n",
        "model \n",
        "\n",
        "Classifier = KerasClassifier(set_model,batch_size=20,epochs=10)\n",
        "accuracy = cross_val_score(Classifier,x_train,y_train,scoring='accuracy',cv=10,n_jobs=-1,verbose=2)"
      ],
      "execution_count": 138,
      "outputs": [
        {
          "output_type": "stream",
          "text": [
            "[Parallel(n_jobs=-1)]: Using backend LokyBackend with 2 concurrent workers.\n",
            "[Parallel(n_jobs=-1)]: Done  10 out of  10 | elapsed: 13.1min finished\n"
          ],
          "name": "stderr"
        }
      ]
    },
    {
      "cell_type": "code",
      "metadata": {
        "id": "9JaHCh457CET",
        "colab_type": "code",
        "colab": {
          "base_uri": "https://localhost:8080/",
          "height": 51
        },
        "outputId": "e4e25bfd-b316-4292-c989-d27922696c4e"
      },
      "source": [
        "accuracy"
      ],
      "execution_count": 143,
      "outputs": [
        {
          "output_type": "execute_result",
          "data": {
            "text/plain": [
              "array([0.989     , 0.98433333, 0.99066667, 0.98766667, 0.98883333,\n",
              "       0.99016667, 0.98833333, 0.98933333, 0.99      , 0.992     ])"
            ]
          },
          "metadata": {
            "tags": []
          },
          "execution_count": 143
        }
      ]
    },
    {
      "cell_type": "code",
      "metadata": {
        "id": "mB6UWWQd-JW-",
        "colab_type": "code",
        "colab": {
          "base_uri": "https://localhost:8080/",
          "height": 51
        },
        "outputId": "788ab827-57d2-4385-ec26-eb0591a23acf"
      },
      "source": [
        "print('Mean of Acccuarcies the cross validation model :-',round(accuracy.mean(),2))\n",
        "print('Variance of Acccuarcies the cross validation model :-',accuracy.std())"
      ],
      "execution_count": 145,
      "outputs": [
        {
          "output_type": "stream",
          "text": [
            "Mean of Acccuarcies the cross validation model :- 0.99\n",
            "Variance of Acccuarcies the cross validation model :- 0.0019561867668161717\n"
          ],
          "name": "stdout"
        }
      ]
    },
    {
      "cell_type": "markdown",
      "metadata": {
        "id": "uPQRCTxl-1c8",
        "colab_type": "text"
      },
      "source": [
        "Mean of the accuracy is close to accuarcy of the model that we had calculated previously  and and Variance inbetween them is not so much high.It is very less therefore we can say our model very good."
      ]
    },
    {
      "cell_type": "markdown",
      "metadata": {
        "id": "41bf_wN__bUN",
        "colab_type": "text"
      },
      "source": [
        "## Thank You !!!"
      ]
    }
  ]
}