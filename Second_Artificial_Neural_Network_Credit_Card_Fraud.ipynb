{
  "nbformat": 4,
  "nbformat_minor": 0,
  "metadata": {
    "colab": {
      "name": "Second Artificial Neural Network Credit Card Fraud.ipynb",
      "provenance": [],
      "private_outputs": true,
      "authorship_tag": "ABX9TyMLwXGfuPU9mA7nhbo1zG/e",
      "include_colab_link": true
    },
    "kernelspec": {
      "name": "python3",
      "display_name": "Python 3"
    },
    "accelerator": "GPU"
  },
  "cells": [
    {
      "cell_type": "markdown",
      "metadata": {
        "id": "view-in-github",
        "colab_type": "text"
      },
      "source": [
        "<a href=\"https://colab.research.google.com/github/roshanappa/Deep-Learning-Models./blob/master/Second_Artificial_Neural_Network_Credit_Card_Fraud.ipynb\" target=\"_parent\"><img src=\"https://colab.research.google.com/assets/colab-badge.svg\" alt=\"Open In Colab\"/></a>"
      ]
    },
    {
      "cell_type": "code",
      "metadata": {
        "id": "D0uLRhEZIvPy",
        "colab_type": "code",
        "colab": {}
      },
      "source": [
        "import numpy as np\n",
        "import pandas as pd\n",
        "import matplotlib.pyplot as plt\n",
        "import seaborn as sns\n",
        "%matplotlib inline"
      ],
      "execution_count": 0,
      "outputs": []
    },
    {
      "cell_type": "code",
      "metadata": {
        "id": "lzFM1dCVK4-u",
        "colab_type": "code",
        "colab": {}
      },
      "source": [
        "from sklearn.model_selection import train_test_split,cross_val_score\n",
        "from sklearn.preprocessing import LabelEncoder,StandardScaler\n",
        "from sklearn.feature_selection import VarianceThreshold"
      ],
      "execution_count": 0,
      "outputs": []
    },
    {
      "cell_type": "code",
      "metadata": {
        "id": "bIqUEF1fLjM6",
        "colab_type": "code",
        "colab": {}
      },
      "source": [
        "from tensorflow.keras import Sequential\n",
        "from tensorflow.keras.layers import Dense,Dropout"
      ],
      "execution_count": 0,
      "outputs": []
    },
    {
      "cell_type": "code",
      "metadata": {
        "id": "rp6Iqn0jMAk7",
        "colab_type": "code",
        "colab": {}
      },
      "source": [
        "from tensorflow.keras.wrappers.scikit_learn import KerasClassifier"
      ],
      "execution_count": 0,
      "outputs": []
    },
    {
      "cell_type": "code",
      "metadata": {
        "id": "dJwefIpFOH5H",
        "colab_type": "code",
        "colab": {}
      },
      "source": [
        "data = pd.read_csv('/content/creditcard.csv')"
      ],
      "execution_count": 0,
      "outputs": []
    },
    {
      "cell_type": "code",
      "metadata": {
        "id": "WzjkZ4VvZop1",
        "colab_type": "code",
        "colab": {}
      },
      "source": [
        "pd.pandas.set_option('display.max_columns',None)"
      ],
      "execution_count": 0,
      "outputs": []
    },
    {
      "cell_type": "code",
      "metadata": {
        "id": "cjleTJQuZi6w",
        "colab_type": "code",
        "colab": {}
      },
      "source": [
        "data.head()"
      ],
      "execution_count": 0,
      "outputs": []
    },
    {
      "cell_type": "code",
      "metadata": {
        "id": "4Bc1UJN7ZlmR",
        "colab_type": "code",
        "colab": {}
      },
      "source": [
        "\n",
        "data.tail()"
      ],
      "execution_count": 0,
      "outputs": []
    },
    {
      "cell_type": "code",
      "metadata": {
        "id": "ycM1___mZ1r8",
        "colab_type": "code",
        "colab": {}
      },
      "source": [
        "data.columns"
      ],
      "execution_count": 0,
      "outputs": []
    },
    {
      "cell_type": "code",
      "metadata": {
        "id": "8bybgpj4Z32X",
        "colab_type": "code",
        "colab": {}
      },
      "source": [
        "data.info()"
      ],
      "execution_count": 0,
      "outputs": []
    },
    {
      "cell_type": "code",
      "metadata": {
        "id": "nrJRdj60Z7QK",
        "colab_type": "code",
        "colab": {}
      },
      "source": [
        "data.describe()"
      ],
      "execution_count": 0,
      "outputs": []
    },
    {
      "cell_type": "markdown",
      "metadata": {
        "id": "idja9T8SaA-L",
        "colab_type": "text"
      },
      "source": [
        "## Data PreProcessing."
      ]
    },
    {
      "cell_type": "code",
      "metadata": {
        "id": "DuvLUdW8Z96S",
        "colab_type": "code",
        "colab": {}
      },
      "source": [
        "x =data.drop(columns=['Class'])\n",
        "y = data['Class']"
      ],
      "execution_count": 0,
      "outputs": []
    },
    {
      "cell_type": "code",
      "metadata": {
        "id": "wRvZ5cwBaNwH",
        "colab_type": "code",
        "colab": {}
      },
      "source": [
        "x_train,x_test,y_train,y_test = train_test_split(x,y,train_size=0.80,stratify=y,random_state=42)"
      ],
      "execution_count": 0,
      "outputs": []
    },
    {
      "cell_type": "code",
      "metadata": {
        "id": "yL1viwn3aazZ",
        "colab_type": "code",
        "colab": {}
      },
      "source": [
        "x_train.shape,y_train.shape"
      ],
      "execution_count": 0,
      "outputs": []
    },
    {
      "cell_type": "code",
      "metadata": {
        "id": "Cg3YKb_haeBI",
        "colab_type": "code",
        "colab": {}
      },
      "source": [
        "scaler = StandardScaler()\n",
        "X_train = scaler.fit_transform(x_train)\n",
        "X_test  = scaler.transform(x_test)"
      ],
      "execution_count": 0,
      "outputs": []
    },
    {
      "cell_type": "code",
      "metadata": {
        "id": "KeF29kqRbTCh",
        "colab_type": "code",
        "colab": {}
      },
      "source": [
        "y_train.value_counts()"
      ],
      "execution_count": 0,
      "outputs": []
    },
    {
      "cell_type": "code",
      "metadata": {
        "id": "vL07usA9bDyD",
        "colab_type": "code",
        "colab": {}
      },
      "source": [
        "y_train.value_counts().plot(kind='bar')\n",
        "plt.show()"
      ],
      "execution_count": 0,
      "outputs": []
    },
    {
      "cell_type": "markdown",
      "metadata": {
        "id": "lMD0W525sKn7",
        "colab_type": "text"
      },
      "source": [
        "## Model Creation."
      ]
    },
    {
      "cell_type": "code",
      "metadata": {
        "id": "6KMK85MNrqmT",
        "colab_type": "code",
        "colab": {}
      },
      "source": [
        "model = Sequential()\n",
        "model.add(Dense(500,activation='relu',kernel_initializer='uniform',input_dim=X_train.shape[1]))\n",
        "model.add(Dropout(0.40))\n",
        "model.add(Dense(200,activation='relu',kernel_initializer='uniform'))\n",
        "model.add(Dropout(0.40))\n",
        "model.add(Dense(60,activation='relu',kernel_initializer='uniform'))\n",
        "model.add(Dropout(0.40))\n",
        "\n",
        "model.add(Dense(1,activation='sigmoid',kernel_initializer='uniform'))"
      ],
      "execution_count": 0,
      "outputs": []
    },
    {
      "cell_type": "code",
      "metadata": {
        "id": "Xl6xduDds_HZ",
        "colab_type": "code",
        "colab": {}
      },
      "source": [
        "model.summary()"
      ],
      "execution_count": 0,
      "outputs": []
    },
    {
      "cell_type": "code",
      "metadata": {
        "id": "hsXkfj1MtpWm",
        "colab_type": "code",
        "colab": {}
      },
      "source": [
        "from tensorflow.keras.optimizers import SGD"
      ],
      "execution_count": 0,
      "outputs": []
    },
    {
      "cell_type": "code",
      "metadata": {
        "id": "79V-TBubtbv3",
        "colab_type": "code",
        "colab": {}
      },
      "source": [
        "model.compile(optimizer=SGD(learning_rate=0.01,momentum=0.9),loss='binary_crossentropy',metrics=['accuracy'])"
      ],
      "execution_count": 0,
      "outputs": []
    },
    {
      "cell_type": "code",
      "metadata": {
        "id": "gTEsm9aTu9Ae",
        "colab_type": "code",
        "colab": {}
      },
      "source": [
        "history = model.fit(X_train,y_train,batch_size=20,epochs=10,verbose=1,validation_split=(0.20))"
      ],
      "execution_count": 0,
      "outputs": []
    },
    {
      "cell_type": "code",
      "metadata": {
        "id": "XC5qlEtAwaaP",
        "colab_type": "code",
        "colab": {}
      },
      "source": [
        "val_loss,val_accuracy=model.evaluate(X_test,y_test,batch_size=20,verbose=1)"
      ],
      "execution_count": 0,
      "outputs": []
    },
    {
      "cell_type": "code",
      "metadata": {
        "id": "pwEJk5VGyzEr",
        "colab_type": "code",
        "colab": {}
      },
      "source": [
        "y_prediction = model.predict_classes(X_test)"
      ],
      "execution_count": 0,
      "outputs": []
    },
    {
      "cell_type": "code",
      "metadata": {
        "id": "JotDQlTSzmeH",
        "colab_type": "code",
        "colab": {}
      },
      "source": [
        "from sklearn.metrics import confusion_matrix"
      ],
      "execution_count": 0,
      "outputs": []
    },
    {
      "cell_type": "code",
      "metadata": {
        "id": "ItkM33K60DQM",
        "colab_type": "code",
        "colab": {}
      },
      "source": [
        "mat = confusion_matrix(y_test,y_prediction)\n",
        "mat"
      ],
      "execution_count": 0,
      "outputs": []
    },
    {
      "cell_type": "code",
      "metadata": {
        "id": "2sOlpwLf0Pnp",
        "colab_type": "code",
        "colab": {}
      },
      "source": [
        "sns.heatmap(mat,annot=True,fmt='d',linecolor='black',linewidths=0.4,cbar=False,xticklabels=['NOt Froud','Froud'],yticklabels=['NOt Froud','Froud'],cmap=plt.get_cmap('Set1'))\n",
        "plt.show()"
      ],
      "execution_count": 0,
      "outputs": []
    },
    {
      "cell_type": "code",
      "metadata": {
        "id": "mrbZATfP5nBs",
        "colab_type": "code",
        "colab": {}
      },
      "source": [
        "from sklearn.metrics import accuracy_score,classification_report,auc,roc_curve"
      ],
      "execution_count": 0,
      "outputs": []
    },
    {
      "cell_type": "code",
      "metadata": {
        "id": "hym28lAh6MzR",
        "colab_type": "code",
        "colab": {}
      },
      "source": [
        "print('Accuarcy Score :-',accuracy_score(y_test,y_prediction))"
      ],
      "execution_count": 0,
      "outputs": []
    },
    {
      "cell_type": "code",
      "metadata": {
        "id": "H_hhnrAk6WIC",
        "colab_type": "code",
        "colab": {}
      },
      "source": [
        "print(classification_report(y_test,y_prediction))"
      ],
      "execution_count": 0,
      "outputs": []
    },
    {
      "cell_type": "markdown",
      "metadata": {
        "id": "pA5TrX186zTw",
        "colab_type": "text"
      },
      "source": [
        "## Cross Validate The Model."
      ]
    },
    {
      "cell_type": "code",
      "metadata": {
        "id": "9bvaPq3v6yjA",
        "colab_type": "code",
        "colab": {}
      },
      "source": [
        "from tensorflow.keras.wrappers.scikit_learn import KerasClassifier"
      ],
      "execution_count": 0,
      "outputs": []
    },
    {
      "cell_type": "code",
      "metadata": {
        "id": "6_hY0qwe6kwU",
        "colab_type": "code",
        "colab": {}
      },
      "source": [
        "from sklearn.model_selection import cross_val_score"
      ],
      "execution_count": 0,
      "outputs": []
    },
    {
      "cell_type": "code",
      "metadata": {
        "id": "ul3PZbyQ7ITc",
        "colab_type": "code",
        "colab": {}
      },
      "source": [
        "def set_model():\n",
        "  model = Sequential()\n",
        "  model.add(Dense(500,activation='relu',kernel_initializer='uniform',input_dim=X_train.shape[1]))\n",
        "  model.add(Dropout(0.40))\n",
        "  model.add(Dense(200,activation='relu',kernel_initializer='uniform'))\n",
        "  model.add(Dropout(0.40))\n",
        "  model.add(Dense(60,activation='relu',kernel_initializer='uniform'))\n",
        "  model.add(Dropout(0.40))\n",
        "  model.add(Dense(1,activation='sigmoid',kernel_initializer='uniform'))\n",
        "  model.compile(optimizer=SGD(learning_rate=0.01,momentum=0.9),loss='binary_crossentropy',metrics=['accuracy'])\n",
        "  \n",
        "  return model\n",
        "model \n",
        "\n",
        "classifier = KerasClassifier(set_model,batch_size=20,epochs=10)\n",
        "accuracy = cross_val_score(classifier,X_train,y_train,cv=10,n_jobs=-1)"
      ],
      "execution_count": 0,
      "outputs": []
    },
    {
      "cell_type": "code",
      "metadata": {
        "id": "vHmSD9bz8zyz",
        "colab_type": "code",
        "colab": {}
      },
      "source": [
        "accuracy"
      ],
      "execution_count": 0,
      "outputs": []
    },
    {
      "cell_type": "code",
      "metadata": {
        "id": "4BsiMIY69EaD",
        "colab_type": "code",
        "colab": {}
      },
      "source": [
        "print('mean of the accuracies :-',accuracy.mean())\n",
        "print('variance of the accuracies :-',accuracy.std())"
      ],
      "execution_count": 0,
      "outputs": []
    },
    {
      "cell_type": "markdown",
      "metadata": {
        "id": "3r8zKSfJDaWn",
        "colab_type": "text"
      },
      "source": [
        "- From the above we can say that variance between the accuracies is very low as compare to the other.\n",
        "- but the mean of cross validation accuaracies is pretty much closer to the actual predited accuaracies."
      ]
    },
    {
      "cell_type": "markdown",
      "metadata": {
        "id": "F4r30Y72D3tu",
        "colab_type": "text"
      },
      "source": [
        "## Learning Curve"
      ]
    },
    {
      "cell_type": "code",
      "metadata": {
        "id": "3WbYMLoMDZBw",
        "colab_type": "code",
        "colab": {}
      },
      "source": [
        "history.history"
      ],
      "execution_count": 0,
      "outputs": []
    },
    {
      "cell_type": "code",
      "metadata": {
        "id": "0mMd-LNGDQ4H",
        "colab_type": "code",
        "colab": {}
      },
      "source": [
        "plt.figure(figsize=(6,5))\n",
        "plt.plot(history.history['accuracy'])\n",
        "plt.plot(history.history['val_accuracy'])\n",
        "plt.legend(['Model Accuracy','Validation Accuracy'])\n",
        "plt.xlabel('Epoches')\n",
        "plt.ylabel('Accuarcies')\n",
        "plt.title('Model Accuracies vs Validation Accuracies')\n",
        "plt.show()\n",
        "\n",
        "plt.figure(figsize=(6,5))\n",
        "plt.plot(history.history['loss'])\n",
        "plt.plot(history.history['val_loss'])\n",
        "plt.legend(['Model loss','Validation loss'])\n",
        "plt.xlabel('Epoches')\n",
        "plt.ylabel('losses')\n",
        "plt.title('Model losses vs Validation losses')\n",
        "plt.show()"
      ],
      "execution_count": 0,
      "outputs": []
    },
    {
      "cell_type": "markdown",
      "metadata": {
        "id": "2knKsU_FSXrC",
        "colab_type": "text"
      },
      "source": [
        "## AUC and ROC Curve."
      ]
    },
    {
      "cell_type": "code",
      "metadata": {
        "id": "WSRH33m_FlkP",
        "colab_type": "code",
        "colab": {}
      },
      "source": [
        "probablity = model.predict_proba(X_test)"
      ],
      "execution_count": 0,
      "outputs": []
    },
    {
      "cell_type": "code",
      "metadata": {
        "id": "Al_3lPk4UU5m",
        "colab_type": "code",
        "colab": {}
      },
      "source": [
        "fpr,tpr,thresh = roc_curve(y_test,probablity)"
      ],
      "execution_count": 0,
      "outputs": []
    },
    {
      "cell_type": "code",
      "metadata": {
        "id": "sdm2ytZ9Utq-",
        "colab_type": "code",
        "colab": {}
      },
      "source": [
        "auc = round(auc(fpr,tpr)*100,1)"
      ],
      "execution_count": 0,
      "outputs": []
    },
    {
      "cell_type": "code",
      "metadata": {
        "id": "5xEqwRQWU9z9",
        "colab_type": "code",
        "colab": {}
      },
      "source": [
        "auc"
      ],
      "execution_count": 0,
      "outputs": []
    },
    {
      "cell_type": "code",
      "metadata": {
        "id": "bpaZKeW5VOA4",
        "colab_type": "code",
        "colab": {}
      },
      "source": [
        "roc_data = pd.DataFrame(dict(fpr=fpr,tpr=tpr))"
      ],
      "execution_count": 0,
      "outputs": []
    },
    {
      "cell_type": "code",
      "metadata": {
        "id": "USkJd_l3U-un",
        "colab_type": "code",
        "colab": {}
      },
      "source": [
        "from plotnine import ggplot,ggtitle,geom_abline,geom_area,geom_line,aes"
      ],
      "execution_count": 0,
      "outputs": []
    },
    {
      "cell_type": "code",
      "metadata": {
        "id": "wjPm-XpcVMUm",
        "colab_type": "code",
        "colab": {}
      },
      "source": [
        "ggplot(roc_data,aes(x='fpr',y='tpr'))+geom_line()+geom_abline(alpha=0.9,color='green',linetype='dashed')+geom_area(alpha=0.3)+ggtitle('AUC-ROC Curve with value AUC = {}'.format(auc))"
      ],
      "execution_count": 0,
      "outputs": []
    },
    {
      "cell_type": "markdown",
      "metadata": {
        "id": "4UzIe8IFWbd3",
        "colab_type": "text"
      },
      "source": [
        "## Thank You !!"
      ]
    }
  ]
}