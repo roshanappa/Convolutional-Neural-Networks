{
  "nbformat": 4,
  "nbformat_minor": 0,
  "metadata": {
    "colab": {
      "name": "Ann With Dropout Regularization.ipynb",
      "provenance": [],
      "private_outputs": true,
      "authorship_tag": "ABX9TyMra15adp1YlWFQI5eqMC1A",
      "include_colab_link": true
    },
    "kernelspec": {
      "name": "python3",
      "display_name": "Python 3"
    }
  },
  "cells": [
    {
      "cell_type": "markdown",
      "metadata": {
        "id": "view-in-github",
        "colab_type": "text"
      },
      "source": [
        "<a href=\"https://colab.research.google.com/github/roshanappa/Deep-Learning-Models./blob/master/Ann_With_Dropout_Regularization.ipynb\" target=\"_parent\"><img src=\"https://colab.research.google.com/assets/colab-badge.svg\" alt=\"Open In Colab\"/></a>"
      ]
    },
    {
      "cell_type": "markdown",
      "metadata": {
        "id": "aT52i84gQ_0O",
        "colab_type": "text"
      },
      "source": [
        "## Data PreProcessing."
      ]
    },
    {
      "cell_type": "code",
      "metadata": {
        "id": "WtApyLjmRCuV",
        "colab_type": "code",
        "colab": {}
      },
      "source": [
        "#data preprocessing.\n",
        "import numpy as np\n",
        "import pandas as pd\n",
        "import matplotlib.pyplot as plt\n",
        "%matplotlib inline\n",
        "import seaborn as sns"
      ],
      "execution_count": 0,
      "outputs": []
    },
    {
      "cell_type": "code",
      "metadata": {
        "id": "YRbHYC__RDje",
        "colab_type": "code",
        "colab": {}
      },
      "source": [
        "import tensorflow as tf"
      ],
      "execution_count": 0,
      "outputs": []
    },
    {
      "cell_type": "code",
      "metadata": {
        "id": "zeoT53rJRFTn",
        "colab_type": "code",
        "colab": {}
      },
      "source": [
        "from tensorflow.keras import Sequential\n",
        "from tensorflow.keras.layers import Dense\n",
        "from tensorflow.keras.callbacks import TensorBoard"
      ],
      "execution_count": 0,
      "outputs": []
    },
    {
      "cell_type": "code",
      "metadata": {
        "id": "H12kTKulRHUa",
        "colab_type": "code",
        "colab": {}
      },
      "source": [
        "import pickle\n",
        "import time"
      ],
      "execution_count": 0,
      "outputs": []
    },
    {
      "cell_type": "code",
      "metadata": {
        "id": "SwSvntQxRJE7",
        "colab_type": "code",
        "colab": {}
      },
      "source": [
        "NAME = 'Simple ANN Model {}'.format(int(time.time()))"
      ],
      "execution_count": 0,
      "outputs": []
    },
    {
      "cell_type": "code",
      "metadata": {
        "id": "bbmRt3RoRLLR",
        "colab_type": "code",
        "colab": {}
      },
      "source": [
        "data = pd.read_csv('/content/Churn_Modelling.csv')"
      ],
      "execution_count": 0,
      "outputs": []
    },
    {
      "cell_type": "code",
      "metadata": {
        "id": "kHAH6qHgRPCW",
        "colab_type": "code",
        "colab": {}
      },
      "source": [
        "pd.pandas.set_option('display.max_columns',None)"
      ],
      "execution_count": 0,
      "outputs": []
    },
    {
      "cell_type": "code",
      "metadata": {
        "id": "KTgAjqgBRQ0t",
        "colab_type": "code",
        "colab": {}
      },
      "source": [
        "data.head()"
      ],
      "execution_count": 0,
      "outputs": []
    },
    {
      "cell_type": "code",
      "metadata": {
        "id": "0JymEMG3RTAl",
        "colab_type": "code",
        "colab": {}
      },
      "source": [
        "data.drop(columns=['RowNumber','CustomerId'],inplace=True)"
      ],
      "execution_count": 0,
      "outputs": []
    },
    {
      "cell_type": "code",
      "metadata": {
        "id": "8oZYv9tRRXZH",
        "colab_type": "code",
        "colab": {}
      },
      "source": [
        "data.tail()"
      ],
      "execution_count": 0,
      "outputs": []
    },
    {
      "cell_type": "code",
      "metadata": {
        "id": "xKJqpjl6Rkgp",
        "colab_type": "code",
        "colab": {}
      },
      "source": [
        "data.columns"
      ],
      "execution_count": 0,
      "outputs": []
    },
    {
      "cell_type": "code",
      "metadata": {
        "id": "DM8PG8G4Rpk6",
        "colab_type": "code",
        "colab": {}
      },
      "source": [
        "data.isnull().sum()"
      ],
      "execution_count": 0,
      "outputs": []
    },
    {
      "cell_type": "code",
      "metadata": {
        "id": "Q7Lm0h-CRsEX",
        "colab_type": "code",
        "colab": {}
      },
      "source": [
        "data.drop(columns=['Surname'],inplace=True)"
      ],
      "execution_count": 0,
      "outputs": []
    },
    {
      "cell_type": "code",
      "metadata": {
        "id": "a-sXuIqbRyY9",
        "colab_type": "code",
        "colab": {}
      },
      "source": [
        "dataframe = pd.DataFrame({'Dtypes':data.dtypes,'Nuique':data.nunique(),'Null_values':data.isnull().sum(),'Duplicated':data.duplicated().sum()})"
      ],
      "execution_count": 0,
      "outputs": []
    },
    {
      "cell_type": "code",
      "metadata": {
        "id": "7DOnWb2OR2Ab",
        "colab_type": "code",
        "colab": {}
      },
      "source": [
        "dataframe"
      ],
      "execution_count": 0,
      "outputs": []
    },
    {
      "cell_type": "code",
      "metadata": {
        "id": "4v0SANKgR39w",
        "colab_type": "code",
        "colab": {}
      },
      "source": [
        "from sklearn.preprocessing import LabelEncoder,StandardScaler\n",
        "from sklearn.model_selection import train_test_split"
      ],
      "execution_count": 0,
      "outputs": []
    },
    {
      "cell_type": "code",
      "metadata": {
        "id": "kF7hySryR8n7",
        "colab_type": "code",
        "colab": {}
      },
      "source": [
        "data['Geography'].value_counts()"
      ],
      "execution_count": 0,
      "outputs": []
    },
    {
      "cell_type": "code",
      "metadata": {
        "id": "e2HoFnQdR-as",
        "colab_type": "code",
        "colab": {}
      },
      "source": [
        "data['Geography'].value_counts().plot(kind='bar')\n",
        "plt.show()"
      ],
      "execution_count": 0,
      "outputs": []
    },
    {
      "cell_type": "code",
      "metadata": {
        "id": "7z15b-ZTSCO3",
        "colab_type": "code",
        "colab": {}
      },
      "source": [
        "d = {'France':0,'Germany':1,'Spain':3}\n",
        "data['Geography']=data['Geography'].map(d)"
      ],
      "execution_count": 0,
      "outputs": []
    },
    {
      "cell_type": "code",
      "metadata": {
        "id": "8iS3nYo-SFxi",
        "colab_type": "code",
        "colab": {}
      },
      "source": [
        "data['Gender'].value_counts().plot(kind='bar')\n",
        "plt.show()"
      ],
      "execution_count": 0,
      "outputs": []
    },
    {
      "cell_type": "code",
      "metadata": {
        "id": "4DVD6yAkSHgf",
        "colab_type": "code",
        "colab": {}
      },
      "source": [
        "z = {'Male':0,'Female':1}\n",
        "data['Gender']=data['Gender'].map(z)"
      ],
      "execution_count": 0,
      "outputs": []
    },
    {
      "cell_type": "markdown",
      "metadata": {
        "id": "cSOPkfxnSNLw",
        "colab_type": "text"
      },
      "source": [
        "## Prepare for the model."
      ]
    },
    {
      "cell_type": "code",
      "metadata": {
        "id": "uXZq-vlUSKBM",
        "colab_type": "code",
        "colab": {}
      },
      "source": [
        "data.head()"
      ],
      "execution_count": 0,
      "outputs": []
    },
    {
      "cell_type": "code",
      "metadata": {
        "id": "GbHn3DEuSRlJ",
        "colab_type": "code",
        "colab": {}
      },
      "source": [
        "feature = data.columns\n",
        "feature"
      ],
      "execution_count": 0,
      "outputs": []
    },
    {
      "cell_type": "code",
      "metadata": {
        "id": "fDzAd6rXSUOr",
        "colab_type": "code",
        "colab": {}
      },
      "source": [
        "x = data.drop(columns=['Exited'])\n",
        "y = data['Exited']"
      ],
      "execution_count": 0,
      "outputs": []
    },
    {
      "cell_type": "code",
      "metadata": {
        "id": "RnLNAu5pSWA5",
        "colab_type": "code",
        "colab": {}
      },
      "source": [
        "x.shape,y.shape"
      ],
      "execution_count": 0,
      "outputs": []
    },
    {
      "cell_type": "code",
      "metadata": {
        "id": "oIIXH9H6SXrh",
        "colab_type": "code",
        "colab": {}
      },
      "source": [
        "x_train,x_test,y_train,y_test = train_test_split(x,y,train_size=0.80,random_state=42,stratify=y)"
      ],
      "execution_count": 0,
      "outputs": []
    },
    {
      "cell_type": "code",
      "metadata": {
        "id": "opuPpLNLSbo7",
        "colab_type": "code",
        "colab": {}
      },
      "source": [
        "x_train.shape,x_test.shape"
      ],
      "execution_count": 0,
      "outputs": []
    },
    {
      "cell_type": "code",
      "metadata": {
        "id": "Vlise_mgSfEN",
        "colab_type": "code",
        "colab": {}
      },
      "source": [
        "y_train.value_counts()"
      ],
      "execution_count": 0,
      "outputs": []
    },
    {
      "cell_type": "code",
      "metadata": {
        "id": "pVa02AZJSh_5",
        "colab_type": "code",
        "colab": {}
      },
      "source": [
        "scaler = StandardScaler()\n",
        "X_train  = scaler.fit_transform(x_train)\n",
        "X_test   = scaler.transform(x_test)"
      ],
      "execution_count": 0,
      "outputs": []
    },
    {
      "cell_type": "code",
      "metadata": {
        "id": "zncsxlTgSj0B",
        "colab_type": "code",
        "colab": {}
      },
      "source": [
        "from imblearn.over_sampling import SMOTE"
      ],
      "execution_count": 0,
      "outputs": []
    },
    {
      "cell_type": "code",
      "metadata": {
        "id": "LNfqeapCSmBq",
        "colab_type": "code",
        "colab": {}
      },
      "source": [
        "sm = SMOTE(sampling_strategy=1,random_state=42,k_neighbors=5)"
      ],
      "execution_count": 0,
      "outputs": []
    },
    {
      "cell_type": "code",
      "metadata": {
        "id": "sE_ZPpGLSoqC",
        "colab_type": "code",
        "colab": {}
      },
      "source": [
        "x_train_res,y_train_res = sm.fit_sample(X_train,y_train)"
      ],
      "execution_count": 0,
      "outputs": []
    },
    {
      "cell_type": "code",
      "metadata": {
        "id": "85NESOviSs5x",
        "colab_type": "code",
        "colab": {}
      },
      "source": [
        "\n",
        "print('0 with y_train_res :-',len(y_train_res[y_train_res==0]))\n",
        "print('1 with y_train_res :-',len(y_train_res[y_train_res==1]))"
      ],
      "execution_count": 0,
      "outputs": []
    },
    {
      "cell_type": "code",
      "metadata": {
        "id": "uEpeNmUPSu-A",
        "colab_type": "code",
        "colab": {}
      },
      "source": [
        "x_train_res.shape"
      ],
      "execution_count": 0,
      "outputs": []
    },
    {
      "cell_type": "markdown",
      "metadata": {
        "id": "MLrBFzx6S5q_",
        "colab_type": "text"
      },
      "source": [
        "## Artificial Neural Network With Dropout.\n",
        "- During the training of the model the artificial neural layers are gets distributed in more layers.That layers trying to learn the each parameter correlation.The artificial neural network layers found some independent correlation of the data neurons work more indepently by using the **DROPOUT.**\n",
        "- That prevent the neurons learning too much and by doing so we can marginally reduce overfitting of our model."
      ]
    },
    {
      "cell_type": "code",
      "metadata": {
        "id": "GteGnciYWSkA",
        "colab_type": "code",
        "colab": {}
      },
      "source": [
        "from tensorflow.keras.layers import Dropout"
      ],
      "execution_count": 0,
      "outputs": []
    },
    {
      "cell_type": "code",
      "metadata": {
        "id": "y_nXLlg7Sxx1",
        "colab_type": "code",
        "colab": {}
      },
      "source": [
        "model = Sequential()\n",
        "model.add(Dense(120,activation='relu',kernel_initializer='uniform',input_shape=[x_train_res.shape[1]]))\n",
        "model.add(Dropout(0.20))\n",
        "model.add(Dense(60,activation='relu',kernel_initializer='uniform'))\n",
        "model.add(Dropout(0.20))\n",
        "model.add(Dense(1,activation='sigmoid',kernel_initializer='uniform'))"
      ],
      "execution_count": 0,
      "outputs": []
    },
    {
      "cell_type": "code",
      "metadata": {
        "id": "t7mQWw_cWmgC",
        "colab_type": "code",
        "colab": {}
      },
      "source": [
        "model.compile(optimizer='adam',loss='binary_crossentropy',metrics=['accuracy'])"
      ],
      "execution_count": 0,
      "outputs": []
    },
    {
      "cell_type": "code",
      "metadata": {
        "id": "hnnMvl2dWw6F",
        "colab_type": "code",
        "colab": {}
      },
      "source": [
        "history = model.fit(x_train_res,y_train_res,batch_size=10,epochs=20,verbose=1,validation_split=(0.20))"
      ],
      "execution_count": 0,
      "outputs": []
    },
    {
      "cell_type": "code",
      "metadata": {
        "id": "5HmHBkTeXFFf",
        "colab_type": "code",
        "colab": {}
      },
      "source": [
        "loss_val,val_accuarcy=model.evaluate(X_test,y_test,batch_size=10,verbose=1)"
      ],
      "execution_count": 0,
      "outputs": []
    },
    {
      "cell_type": "code",
      "metadata": {
        "id": "DAfsoMyjXtrB",
        "colab_type": "code",
        "colab": {}
      },
      "source": [
        "y_pred = model.predict_classes(X_test)\n",
        "y_pred"
      ],
      "execution_count": 0,
      "outputs": []
    },
    {
      "cell_type": "code",
      "metadata": {
        "id": "2NJhA3lwX-vg",
        "colab_type": "code",
        "colab": {}
      },
      "source": [
        "y_prediction = pd.Series(y_pred.ravel())\n",
        "y_prediction"
      ],
      "execution_count": 0,
      "outputs": []
    },
    {
      "cell_type": "code",
      "metadata": {
        "id": "cRMaJFiZYUTV",
        "colab_type": "code",
        "colab": {}
      },
      "source": [
        "from sklearn.metrics import accuracy_score,confusion_matrix,classification_report"
      ],
      "execution_count": 0,
      "outputs": []
    },
    {
      "cell_type": "code",
      "metadata": {
        "id": "xJKmYZLRYJGa",
        "colab_type": "code",
        "colab": {}
      },
      "source": [
        "print('Accuarcy Score :',accuracy_score(y_test,y_pred))"
      ],
      "execution_count": 0,
      "outputs": []
    },
    {
      "cell_type": "code",
      "metadata": {
        "id": "hbm3tVRcYo0h",
        "colab_type": "code",
        "colab": {}
      },
      "source": [
        "mat = confusion_matrix(y_test,y_pred)\n",
        "mat"
      ],
      "execution_count": 0,
      "outputs": []
    },
    {
      "cell_type": "code",
      "metadata": {
        "id": "Uo25pK3iY4Mk",
        "colab_type": "code",
        "colab": {}
      },
      "source": [
        "sns.heatmap(mat,annot=True,fmt='d')\n",
        "plt.show()"
      ],
      "execution_count": 0,
      "outputs": []
    },
    {
      "cell_type": "markdown",
      "metadata": {
        "id": "k4W2OEjGZW6_",
        "colab_type": "text"
      },
      "source": [
        "## Cross Validation "
      ]
    },
    {
      "cell_type": "code",
      "metadata": {
        "id": "vDh6QQDjZ1ON",
        "colab_type": "code",
        "colab": {}
      },
      "source": [
        "from tensorflow.keras.wrappers.scikit_learn import KerasClassifier\n",
        "from sklearn.model_selection import cross_val_score"
      ],
      "execution_count": 0,
      "outputs": []
    },
    {
      "cell_type": "code",
      "metadata": {
        "id": "d9UXhy6qbSL_",
        "colab_type": "code",
        "colab": {}
      },
      "source": [
        "def set_model():\n",
        "  model = Sequential()\n",
        "  model.add(Dense(120,activation='relu',kernel_initializer='uniform',input_shape=[x_train_res.shape[1]]))\n",
        "  model.add(Dropout(0.20))\n",
        "  model.add(Dense(60,activation='relu',kernel_initializer='uniform'))\n",
        "  model.add(Dropout(0.20))\n",
        "  model.add(Dense(1,activation='sigmoid',kernel_initializer='uniform'))\n",
        "  model.compile(optimizer='adam',loss='binary_crossentropy',metrics=['accuracy'])\n",
        "  return model\n",
        "\n",
        "model\n",
        "\n",
        "model = KerasClassifier(set_model,batch_size=10,epochs=20)\n",
        "accuracies = cross_val_score(model,x_train_res,y_train_res,cv=10,n_jobs=-1)"
      ],
      "execution_count": 0,
      "outputs": []
    },
    {
      "cell_type": "code",
      "metadata": {
        "id": "gxuL_e5IfLTh",
        "colab_type": "code",
        "colab": {}
      },
      "source": [
        "accuracies"
      ],
      "execution_count": 0,
      "outputs": []
    },
    {
      "cell_type": "code",
      "metadata": {
        "id": "uhIW2kEicgVM",
        "colab_type": "code",
        "colab": {}
      },
      "source": [
        "print('mean of accuarcies :-',accuracies.mean())\n",
        "print('Standard Deviation of accuarcies :-',accuracies.std())"
      ],
      "execution_count": 0,
      "outputs": []
    },
    {
      "cell_type": "markdown",
      "metadata": {
        "id": "qLoCjD9Ufocy",
        "colab_type": "text"
      },
      "source": [
        "## Thank You."
      ]
    }
  ]
}