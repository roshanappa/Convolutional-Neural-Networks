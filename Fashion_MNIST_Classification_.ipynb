{
  "nbformat": 4,
  "nbformat_minor": 0,
  "metadata": {
    "colab": {
      "name": "Fashion MNIST Classification.. .ipynb",
      "provenance": [],
      "private_outputs": true,
      "authorship_tag": "ABX9TyNy1fWaQXx725OqkDn4mnBR",
      "include_colab_link": true
    },
    "kernelspec": {
      "name": "python3",
      "display_name": "Python 3"
    },
    "accelerator": "GPU"
  },
  "cells": [
    {
      "cell_type": "markdown",
      "metadata": {
        "id": "view-in-github",
        "colab_type": "text"
      },
      "source": [
        "<a href=\"https://colab.research.google.com/github/roshanappa/Deep-Learning-Models./blob/master/Fashion_MNIST_Classification_.ipynb\" target=\"_parent\"><img src=\"https://colab.research.google.com/assets/colab-badge.svg\" alt=\"Open In Colab\"/></a>"
      ]
    },
    {
      "cell_type": "code",
      "metadata": {
        "id": "mw1pM6oDB_Jn",
        "colab_type": "code",
        "colab": {}
      },
      "source": [
        "import numpy as np\n",
        "import pandas as pd\n",
        "import matplotlib.pyplot as plt\n",
        "import seaborn as sns\n",
        "\n",
        "import warnings\n",
        "warnings.filterwarnings('ignore')"
      ],
      "execution_count": 0,
      "outputs": []
    },
    {
      "cell_type": "code",
      "metadata": {
        "id": "OC39zzbYCjC4",
        "colab_type": "code",
        "colab": {}
      },
      "source": [
        "from tensorflow.keras import Sequential\n",
        "from tensorflow.keras.layers import Dense,Conv2D,MaxPool2D,Dropout,Flatten\n",
        "from tensorflow.keras.datasets import fashion_mnist\n",
        "from tensorflow.keras.models import load_model\n",
        "from tensorflow.keras.wrappers.scikit_learn import KerasClassifier\n",
        "from sklearn.model_selection import cross_val_score\n",
        "from keras.utils import to_categorical"
      ],
      "execution_count": 0,
      "outputs": []
    },
    {
      "cell_type": "code",
      "metadata": {
        "id": "tnThhJzVEViy",
        "colab_type": "code",
        "colab": {}
      },
      "source": [
        "(x_train,y_train),(x_test,y_test) = fashion_mnist.load_data()"
      ],
      "execution_count": 0,
      "outputs": []
    },
    {
      "cell_type": "code",
      "metadata": {
        "id": "Ul3jOFIXRLDE",
        "colab_type": "code",
        "colab": {}
      },
      "source": [
        "len(x_train)"
      ],
      "execution_count": 0,
      "outputs": []
    },
    {
      "cell_type": "code",
      "metadata": {
        "id": "KLkeDwWJRK-A",
        "colab_type": "code",
        "colab": {}
      },
      "source": [
        "\n",
        "len(x_test)"
      ],
      "execution_count": 0,
      "outputs": []
    },
    {
      "cell_type": "code",
      "metadata": {
        "id": "dyOjpi6iG0oz",
        "colab_type": "code",
        "colab": {}
      },
      "source": [
        "y_test[:50]"
      ],
      "execution_count": 0,
      "outputs": []
    },
    {
      "cell_type": "markdown",
      "metadata": {
        "id": "7sQpOerSGtTh",
        "colab_type": "text"
      },
      "source": [
        "Visualize the data."
      ]
    },
    {
      "cell_type": "code",
      "metadata": {
        "id": "PJrs7K2dL22x",
        "colab_type": "code",
        "colab": {}
      },
      "source": [
        "class_names = ['T-shirt/top', 'Trouser', 'Pullover', 'Dress', 'Coat','Sandal', 'Shirt', 'Sneaker', 'Bag', 'Ankle boot']"
      ],
      "execution_count": 0,
      "outputs": []
    },
    {
      "cell_type": "code",
      "metadata": {
        "id": "sbuyzCcXJMjw",
        "colab_type": "code",
        "colab": {}
      },
      "source": [
        "plt.figure(figsize=(10,10))\n",
        "for i in range(25):\n",
        "  plt.subplot(5,5,i+1)\n",
        "  plt.imshow(x_train[i],cmap=plt.get_cmap('binary'),interpolation=None)\n",
        "  plt.grid(False)\n",
        "  plt.xticks([])\n",
        "  plt.yticks([])\n",
        "  plt.title(class_names[y_train[i]])\n",
        "  plt.xlabel(class_names[y_train[i]])\n",
        "  plt.tight_layout()\n",
        "plt.show()"
      ],
      "execution_count": 0,
      "outputs": []
    },
    {
      "cell_type": "code",
      "metadata": {
        "id": "Cz2B0OsoOO91",
        "colab_type": "code",
        "colab": {}
      },
      "source": [
        "x_train.shape"
      ],
      "execution_count": 0,
      "outputs": []
    },
    {
      "cell_type": "markdown",
      "metadata": {
        "id": "DPsMcrFFPs_T",
        "colab_type": "text"
      },
      "source": [
        "Image PreProcesing and Image Normalization and Standarszation."
      ]
    },
    {
      "cell_type": "code",
      "metadata": {
        "id": "htEtn0ntPqOX",
        "colab_type": "code",
        "colab": {}
      },
      "source": [
        "x_train = x_train/255\n",
        "x_test  = x_test/255"
      ],
      "execution_count": 0,
      "outputs": []
    },
    {
      "cell_type": "code",
      "metadata": {
        "id": "bFVzcsL8Se4J",
        "colab_type": "code",
        "colab": {}
      },
      "source": [
        "plt.figure()\n",
        "plt.imshow(x_train[0],cmap='gray',interpolation=None)\n",
        "plt.colorbar()\n",
        "plt.title(class_names[y_train[0]])\n",
        "plt.show()"
      ],
      "execution_count": 0,
      "outputs": []
    },
    {
      "cell_type": "code",
      "metadata": {
        "id": "hg5XXXAQSkCB",
        "colab_type": "code",
        "colab": {}
      },
      "source": [
        "plt.figure()\n",
        "plt.imshow(x_train[0],cmap='gray',interpolation=None)\n",
        "plt.colorbar()\n",
        "plt.title(class_names[y_train[0]])\n",
        "plt.title('Normalized Image')\n",
        "plt.show()\n",
        "\n",
        "plt.hist(x_train[0].reshape(784))  #28X28=(size of picture/image)=784\n",
        "plt.title('Image Pixel Distribution')\n",
        "plt.show()"
      ],
      "execution_count": 0,
      "outputs": []
    },
    {
      "cell_type": "code",
      "metadata": {
        "id": "dVXbTD9oSuij",
        "colab_type": "code",
        "colab": {}
      },
      "source": [
        "x_train.shape"
      ],
      "execution_count": 0,
      "outputs": []
    },
    {
      "cell_type": "code",
      "metadata": {
        "id": "N7i8u0MDUpSp",
        "colab_type": "code",
        "colab": {}
      },
      "source": [
        "x_train = x_train.reshape(x_train.shape[0],x_train.shape[1],x_train.shape[2],1)\n",
        "x_test = x_test.reshape(x_test.shape[0],x_test.shape[1],x_test.shape[2],1)"
      ],
      "execution_count": 0,
      "outputs": []
    },
    {
      "cell_type": "code",
      "metadata": {
        "id": "U3s2otL9U_dz",
        "colab_type": "code",
        "colab": {}
      },
      "source": [
        "x_train.shape,x_test.shape  #We need tp  convert the two dimensional gray image to the 3 dimensional for feeding in Convolutional neural Netowrk layers."
      ],
      "execution_count": 0,
      "outputs": []
    },
    {
      "cell_type": "code",
      "metadata": {
        "id": "s-BYt999cYFr",
        "colab_type": "code",
        "colab": {}
      },
      "source": [
        "\n",
        "\n",
        "input_shape=x_train[0].shape\n",
        "input_shape"
      ],
      "execution_count": 0,
      "outputs": []
    },
    {
      "cell_type": "code",
      "metadata": {
        "id": "7iHW5mitfiTx",
        "colab_type": "code",
        "colab": {}
      },
      "source": [
        "\n",
        "#After doing the necessary processing on the image informations, the label data i.e. y_train and y_test need to be converted into categorical formats like label ‘3’ should be converted to a vector [0, 0, 0, 1, 0, 0, 0, 0, 0, 0] for model building.\n",
        "import keras\n",
        "#set number of categories\n",
        "#num_category = 10\n",
        "# convert class vectors to binary class matrices\n",
        "#y_train = keras.utils.to_categorical(y_train, num_category)\n",
        "#y_test = keras.utils.to_categorical(y_test, num_category)"
      ],
      "execution_count": 0,
      "outputs": []
    },
    {
      "cell_type": "markdown",
      "metadata": {
        "id": "f3v850NUVgK9",
        "colab_type": "text"
      },
      "source": [
        "### Create a Model."
      ]
    },
    {
      "cell_type": "code",
      "metadata": {
        "id": "qYJJ2A0QVCLP",
        "colab_type": "code",
        "colab": {}
      },
      "source": [
        "model = Sequential()\n",
        "model.add(Conv2D(128,kernel_size=(3,3),kernel_initializer='he_uniform',padding='same',activation='relu',input_shape=x_train[0].shape))\n",
        "model.add(Dropout(0.40))\n",
        "model.add(MaxPool2D(pool_size=(2,2)))\n",
        "\n",
        "model.add(Conv2D(64,kernel_size=(3,3),padding='same',activation='relu',kernel_initializer='he_uniform'))\n",
        "model.add(Dropout(0.40))\n",
        "model.add(MaxPool2D(pool_size=(2,2)))\n",
        "\n",
        "model.add(Flatten())\n",
        "model.add(Dense(128,activation='relu',kernel_initializer='he_uniform'))\n",
        "model.add(Dropout(0.40))\n",
        "model.add(Dense(10,activation='softmax',kernel_initializer='he_uniform'))"
      ],
      "execution_count": 0,
      "outputs": []
    },
    {
      "cell_type": "code",
      "metadata": {
        "id": "GKqodniJfQSl",
        "colab_type": "code",
        "colab": {}
      },
      "source": [
        "model.summary()"
      ],
      "execution_count": 0,
      "outputs": []
    },
    {
      "cell_type": "code",
      "metadata": {
        "id": "w0FL7WW8gXFT",
        "colab_type": "code",
        "colab": {}
      },
      "source": [
        "model.compile(optimizer='adam',loss='sparse_categorical_crossentropy',metrics=['accuracy'])"
      ],
      "execution_count": 0,
      "outputs": []
    },
    {
      "cell_type": "code",
      "metadata": {
        "id": "fsbbkuQwyAvB",
        "colab_type": "code",
        "colab": {}
      },
      "source": [
        "history=model.fit(x_train,y_train,batch_size=20,epochs=10,verbose=1,validation_data=(x_test,y_test))"
      ],
      "execution_count": 0,
      "outputs": []
    },
    {
      "cell_type": "code",
      "metadata": {
        "id": "Udkkmwjhjd7d",
        "colab_type": "code",
        "colab": {}
      },
      "source": [
        "val_loss,val_accuarcy = model.evaluate(x_test,y_test,batch_size=20,verbose=2)"
      ],
      "execution_count": 0,
      "outputs": []
    },
    {
      "cell_type": "markdown",
      "metadata": {
        "id": "YXqYvHJV9brd",
        "colab_type": "text"
      },
      "source": [
        "## Accuracy."
      ]
    },
    {
      "cell_type": "code",
      "metadata": {
        "id": "fCE360NM9aNe",
        "colab_type": "code",
        "colab": {}
      },
      "source": [
        "y_pred= model.predict_classes(x_test)\n",
        "y_pred"
      ],
      "execution_count": 0,
      "outputs": []
    },
    {
      "cell_type": "code",
      "metadata": {
        "id": "fHcKcV16xltj",
        "colab_type": "code",
        "colab": {}
      },
      "source": [
        "accuractely_predicted = np.nonzero(y_pred==y_test)[0]"
      ],
      "execution_count": 0,
      "outputs": []
    },
    {
      "cell_type": "code",
      "metadata": {
        "id": "Gn7aCs7N-PwU",
        "colab_type": "code",
        "colab": {}
      },
      "source": [
        "accuractely_predicted"
      ],
      "execution_count": 0,
      "outputs": []
    },
    {
      "cell_type": "code",
      "metadata": {
        "id": "espVsZKA-eq-",
        "colab_type": "code",
        "colab": {}
      },
      "source": [
        "len(accuractely_predicted)"
      ],
      "execution_count": 0,
      "outputs": []
    },
    {
      "cell_type": "code",
      "metadata": {
        "id": "MSf79W0M-TE3",
        "colab_type": "code",
        "colab": {}
      },
      "source": [
        "non_accuarately_predicted = np.nonzero(y_pred != y_test)[0]"
      ],
      "execution_count": 0,
      "outputs": []
    },
    {
      "cell_type": "code",
      "metadata": {
        "id": "iAnyfQnq-q-C",
        "colab_type": "code",
        "colab": {}
      },
      "source": [
        "len(non_accuarately_predicted)"
      ],
      "execution_count": 0,
      "outputs": []
    },
    {
      "cell_type": "code",
      "metadata": {
        "id": "et_9deM-_FBl",
        "colab_type": "code",
        "colab": {}
      },
      "source": [
        "from sklearn.metrics import accuracy_score,classification_report,confusion_matrix"
      ],
      "execution_count": 0,
      "outputs": []
    },
    {
      "cell_type": "code",
      "metadata": {
        "id": "KnfDU_mT-3Tu",
        "colab_type": "code",
        "colab": {}
      },
      "source": [
        "print('Accuarcy :-',accuracy_score(y_test,y_pred))"
      ],
      "execution_count": 0,
      "outputs": []
    },
    {
      "cell_type": "markdown",
      "metadata": {
        "id": "wBYOYLuz_nIN",
        "colab_type": "text"
      },
      "source": [
        "## Confusion maxtrix"
      ]
    },
    {
      "cell_type": "code",
      "metadata": {
        "id": "1Jk8rV5a_caQ",
        "colab_type": "code",
        "colab": {}
      },
      "source": [
        "mat = confusion_matrix(y_test,y_pred)\n",
        "mat"
      ],
      "execution_count": 0,
      "outputs": []
    },
    {
      "cell_type": "code",
      "metadata": {
        "id": "xSB2UR4A_vRh",
        "colab_type": "code",
        "colab": {}
      },
      "source": [
        "plt.figure(figsize=(30,8))\n",
        "sns.heatmap(mat,annot=True,cbar=False,linecolor='red',linewidths=0.5,fmt='d',xticklabels=class_names,yticklabels=class_names)\n",
        "plt.show()"
      ],
      "execution_count": 0,
      "outputs": []
    },
    {
      "cell_type": "markdown",
      "metadata": {
        "id": "iKgzS616KBwi",
        "colab_type": "text"
      },
      "source": [
        "## Trying to get Proper fuction the feature name."
      ]
    },
    {
      "cell_type": "code",
      "metadata": {
        "id": "A5yvEuTAGEE5",
        "colab_type": "code",
        "colab": {}
      },
      "source": [
        "y_pred"
      ],
      "execution_count": 0,
      "outputs": []
    },
    {
      "cell_type": "code",
      "metadata": {
        "id": "UPmfjvEaHQs0",
        "colab_type": "code",
        "colab": {}
      },
      "source": [
        "y_prections = model.predict(x_test)\n",
        "y_prections"
      ],
      "execution_count": 0,
      "outputs": []
    },
    {
      "cell_type": "code",
      "metadata": {
        "id": "r1xF3AXkHdif",
        "colab_type": "code",
        "colab": {}
      },
      "source": [
        "np.argmax(y_prections[0])"
      ],
      "execution_count": 0,
      "outputs": []
    },
    {
      "cell_type": "code",
      "metadata": {
        "id": "QaT0o2FZHvvd",
        "colab_type": "code",
        "colab": {}
      },
      "source": [
        "class_names"
      ],
      "execution_count": 0,
      "outputs": []
    },
    {
      "cell_type": "code",
      "metadata": {
        "id": "hc6E8aUtJICb",
        "colab_type": "code",
        "colab": {}
      },
      "source": [
        "class_names[np.argmax(y_prections[0])]"
      ],
      "execution_count": 0,
      "outputs": []
    },
    {
      "cell_type": "code",
      "metadata": {
        "id": "s85wzomgH20p",
        "colab_type": "code",
        "colab": {}
      },
      "source": [
        "def name_of_entity(x_test,index):\n",
        "  y_pred = model.predict_classes(x_test)\n",
        "  predictions = model.predict(x_test)\n",
        "  maxpredtcion = np.argmax(predictions[index])\n",
        "  name_of_entity = class_names[maxpredtcion]\n",
        "  return name_of_entity"
      ],
      "execution_count": 0,
      "outputs": []
    },
    {
      "cell_type": "code",
      "metadata": {
        "id": "HsjROKQUJzO6",
        "colab_type": "code",
        "colab": {}
      },
      "source": [
        "name_of_entity(x_test,2)"
      ],
      "execution_count": 0,
      "outputs": []
    },
    {
      "cell_type": "markdown",
      "metadata": {
        "id": "9w2pWeUSLRfQ",
        "colab_type": "text"
      },
      "source": [
        "I had created an function through that we can the the access of the class name by passing the independed test data and number at which we want know the entity."
      ]
    },
    {
      "cell_type": "code",
      "metadata": {
        "id": "AGb2uzNZM6Gk",
        "colab_type": "code",
        "colab": {}
      },
      "source": [
        "xx_train = x_train.reshape(x_train.shape[0],x_train.shape[1],x_train.shape[2])\n",
        "xx_test  = x_test.reshape(x_test.shape[0],x_test.shape[1],x_train.shape[2])"
      ],
      "execution_count": 0,
      "outputs": []
    },
    {
      "cell_type": "code",
      "metadata": {
        "id": "EO7PW7k-KdlY",
        "colab_type": "code",
        "colab": {}
      },
      "source": [
        "def view_of_entity(xx_test,index,xx_train,x_test):\n",
        "  y_pred = model.predict_classes(x_test)\n",
        "  predictions = model.predict(x_test)\n",
        "  maxpredtcion = np.argmax(predictions[index])\n",
        "  name_of_entity = class_names[maxpredtcion]\n",
        "\n",
        "\n",
        "\n",
        "  plt.figure(figsize=(5,4))\n",
        "  plt.imshow(xx_train[index])\n",
        "  plt.title('The name of the predicted entity with pic  :- {}'.format(name_of_entity))\n",
        "  plt.show()"
      ],
      "execution_count": 0,
      "outputs": []
    },
    {
      "cell_type": "code",
      "metadata": {
        "id": "fyto3t27MEZQ",
        "colab_type": "code",
        "colab": {}
      },
      "source": [
        "view_of_entity(xx_test,2,xx_train,x_test)"
      ],
      "execution_count": 0,
      "outputs": []
    },
    {
      "cell_type": "markdown",
      "metadata": {
        "id": "upcqwFOXbRFt",
        "colab_type": "text"
      },
      "source": [
        "## Save The Model"
      ]
    },
    {
      "cell_type": "code",
      "metadata": {
        "id": "1ldElTV8bNfj",
        "colab_type": "code",
        "colab": {}
      },
      "source": [
        "model.save('Mnist.h6')\n",
        "print('Model is has SAVED')"
      ],
      "execution_count": 0,
      "outputs": []
    },
    {
      "cell_type": "markdown",
      "metadata": {
        "id": "eLOJ6679brc8",
        "colab_type": "text"
      },
      "source": [
        "## Learning Curve.\n",
        "\n"
      ]
    },
    {
      "cell_type": "code",
      "metadata": {
        "id": "ngN_lgNN3nvV",
        "colab_type": "code",
        "colab": {}
      },
      "source": [
        "history.history"
      ],
      "execution_count": 0,
      "outputs": []
    },
    {
      "cell_type": "code",
      "metadata": {
        "id": "QR1qk20PbhIB",
        "colab_type": "code",
        "colab": {}
      },
      "source": [
        "plt.plot(history.history['accuracy'])\n",
        "plt.plot(history.history['val_accuracy'])\n",
        "plt.title('Model accuarcies benhaviour along the epoches ')\n",
        "plt.xlabel('Epochs')\n",
        "plt.legend(['Model Accuarcy','Validation Accuarcy'])\n",
        "plt.ylabel('Model accuaracy')\n",
        "plt.show()\n",
        "\n",
        "\n",
        "plt.plot(history.history['loss'])\n",
        "plt.plot(history.history['val_loss'])\n",
        "plt.title('Model loss benhaviour along the epoches ')\n",
        "plt.xlabel('Epochs')\n",
        "plt.legend(['Model loss','Validation loss'])\n",
        "plt.ylabel('Model losses')\n",
        "plt.show()"
      ],
      "execution_count": 0,
      "outputs": []
    },
    {
      "cell_type": "markdown",
      "metadata": {
        "id": "6DwMsN8q4Lkd",
        "colab_type": "text"
      },
      "source": [
        "## Thank You !!"
      ]
    }
  ]
}