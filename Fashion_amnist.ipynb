{
  "nbformat": 4,
  "nbformat_minor": 0,
  "metadata": {
    "colab": {
      "name": "Fashion amnist.ipynb",
      "provenance": [],
      "authorship_tag": "ABX9TyOQWu43gOnYE6P6UrFRmFRJ",
      "include_colab_link": true
    },
    "kernelspec": {
      "name": "python3",
      "display_name": "Python 3"
    },
    "accelerator": "GPU"
  },
  "cells": [
    {
      "cell_type": "markdown",
      "metadata": {
        "id": "view-in-github",
        "colab_type": "text"
      },
      "source": [
        "<a href=\"https://colab.research.google.com/github/roshanappa/Deep-Learning-Models./blob/master/Fashion_amnist.ipynb\" target=\"_parent\"><img src=\"https://colab.research.google.com/assets/colab-badge.svg\" alt=\"Open In Colab\"/></a>"
      ]
    },
    {
      "cell_type": "code",
      "metadata": {
        "id": "kkpiZC-xIEB8",
        "colab_type": "code",
        "colab": {
          "base_uri": "https://localhost:8080/",
          "height": 71
        },
        "outputId": "1fcf8c24-56be-45a3-f565-02dd236b7e6e"
      },
      "source": [
        "import numpy as np\n",
        "import pandas as pd\n",
        "import matplotlib.pyplot as plt\n",
        "import seaborn as sns\n",
        "\n",
        "import warnings\n",
        "warnings.filterwarnings('ignore')"
      ],
      "execution_count": 1,
      "outputs": [
        {
          "output_type": "stream",
          "text": [
            "/usr/local/lib/python3.6/dist-packages/statsmodels/tools/_testing.py:19: FutureWarning: pandas.util.testing is deprecated. Use the functions in the public API at pandas.testing instead.\n",
            "  import pandas.util.testing as tm\n"
          ],
          "name": "stderr"
        }
      ]
    },
    {
      "cell_type": "code",
      "metadata": {
        "id": "64N_WCglIlsA",
        "colab_type": "code",
        "colab": {
          "base_uri": "https://localhost:8080/",
          "height": 34
        },
        "outputId": "40a99b9a-6dfe-4895-cadb-e0710eb8d410"
      },
      "source": [
        "from tensorflow.keras import Sequential\n",
        "from tensorflow.keras.layers import Dense,Conv2D,MaxPool2D,Dropout,Flatten\n",
        "from tensorflow.keras.datasets import fashion_mnist\n",
        "from tensorflow.keras.models import load_model\n",
        "from tensorflow.keras.wrappers.scikit_learn import KerasClassifier\n",
        "from sklearn.model_selection import cross_val_score\n",
        "from keras.utils import to_categorical"
      ],
      "execution_count": 2,
      "outputs": [
        {
          "output_type": "stream",
          "text": [
            "Using TensorFlow backend.\n"
          ],
          "name": "stderr"
        }
      ]
    },
    {
      "cell_type": "code",
      "metadata": {
        "id": "0ku-DHhXIqmC",
        "colab_type": "code",
        "colab": {
          "base_uri": "https://localhost:8080/",
          "height": 153
        },
        "outputId": "e649dec7-d00a-4ce6-dccc-7e353bed8ce3"
      },
      "source": [
        "(x_train,y_train),(x_test,y_test) = fashion_mnist.load_data()"
      ],
      "execution_count": 3,
      "outputs": [
        {
          "output_type": "stream",
          "text": [
            "Downloading data from https://storage.googleapis.com/tensorflow/tf-keras-datasets/train-labels-idx1-ubyte.gz\n",
            "32768/29515 [=================================] - 0s 0us/step\n",
            "Downloading data from https://storage.googleapis.com/tensorflow/tf-keras-datasets/train-images-idx3-ubyte.gz\n",
            "26427392/26421880 [==============================] - 0s 0us/step\n",
            "Downloading data from https://storage.googleapis.com/tensorflow/tf-keras-datasets/t10k-labels-idx1-ubyte.gz\n",
            "8192/5148 [===============================================] - 0s 0us/step\n",
            "Downloading data from https://storage.googleapis.com/tensorflow/tf-keras-datasets/t10k-images-idx3-ubyte.gz\n",
            "4423680/4422102 [==============================] - 0s 0us/step\n"
          ],
          "name": "stdout"
        }
      ]
    },
    {
      "cell_type": "code",
      "metadata": {
        "id": "05BQ-dC1Iued",
        "colab_type": "code",
        "colab": {
          "base_uri": "https://localhost:8080/",
          "height": 34
        },
        "outputId": "0605083b-ffc6-4b30-b1a0-b01218f24179"
      },
      "source": [
        "len(x_train)"
      ],
      "execution_count": 4,
      "outputs": [
        {
          "output_type": "execute_result",
          "data": {
            "text/plain": [
              "60000"
            ]
          },
          "metadata": {
            "tags": []
          },
          "execution_count": 4
        }
      ]
    },
    {
      "cell_type": "code",
      "metadata": {
        "id": "A2MuCBoaI0se",
        "colab_type": "code",
        "colab": {
          "base_uri": "https://localhost:8080/",
          "height": 34
        },
        "outputId": "ba696c92-1a01-4a81-bf99-ca9b48b2e2a2"
      },
      "source": [
        "len(x_test)"
      ],
      "execution_count": 5,
      "outputs": [
        {
          "output_type": "execute_result",
          "data": {
            "text/plain": [
              "10000"
            ]
          },
          "metadata": {
            "tags": []
          },
          "execution_count": 5
        }
      ]
    },
    {
      "cell_type": "code",
      "metadata": {
        "id": "xzAQd-LYI4Ry",
        "colab_type": "code",
        "colab": {
          "base_uri": "https://localhost:8080/",
          "height": 68
        },
        "outputId": "a23e777d-de64-4891-f907-f2a94d5e32f5"
      },
      "source": [
        "y_test[:50]"
      ],
      "execution_count": 6,
      "outputs": [
        {
          "output_type": "execute_result",
          "data": {
            "text/plain": [
              "array([9, 2, 1, 1, 6, 1, 4, 6, 5, 7, 4, 5, 7, 3, 4, 1, 2, 4, 8, 0, 2, 5,\n",
              "       7, 9, 1, 4, 6, 0, 9, 3, 8, 8, 3, 3, 8, 0, 7, 5, 7, 9, 6, 1, 3, 7,\n",
              "       6, 7, 2, 1, 2, 2], dtype=uint8)"
            ]
          },
          "metadata": {
            "tags": []
          },
          "execution_count": 6
        }
      ]
    },
    {
      "cell_type": "code",
      "metadata": {
        "id": "D5vCcyEPI7To",
        "colab_type": "code",
        "colab": {}
      },
      "source": [
        "class_names = ['T-shirt/top', 'Trouser', 'Pullover', 'Dress', 'Coat','Sandal', 'Shirt', 'Sneaker', 'Bag', 'Ankle boot']"
      ],
      "execution_count": 0,
      "outputs": []
    },
    {
      "cell_type": "code",
      "metadata": {
        "id": "I3wmQLIEJL5K",
        "colab_type": "code",
        "colab": {
          "base_uri": "https://localhost:8080/",
          "height": 729
        },
        "outputId": "51c597cc-6593-4b41-da2e-9c2474903e94"
      },
      "source": [
        "plt.figure(figsize=(10,10))\n",
        "for i in range(25):\n",
        "  plt.subplot(5,5,i+1)\n",
        "  plt.imshow(x_train[i],cmap=plt.get_cmap('binary'),interpolation=None)\n",
        "  plt.grid(False)\n",
        "  plt.xticks([])\n",
        "  plt.yticks([])\n",
        "  plt.title(class_names[y_train[i]])\n",
        "  plt.xlabel(class_names[y_train[i]])\n",
        "  plt.tight_layout()\n",
        "plt.show()"
      ],
      "execution_count": 8,
      "outputs": [
        {
          "output_type": "display_data",
          "data": {
            "image/png": "[encoded data removed]",
            "text/plain": [
              "<Figure size 720x720 with 24 Axes>"
            ]
          },
          "metadata": {
            "tags": []
          }
        }
      ]
    },
    {
      "cell_type": "code",
      "metadata": {
        "id": "yizvv4RtJVGc",
        "colab_type": "code",
        "colab": {
          "base_uri": "https://localhost:8080/",
          "height": 34
        },
        "outputId": "a0e17111-03b9-4b28-ff03-7c932a61b8a5"
      },
      "source": [
        "x_train.shape"
      ],
      "execution_count": 9,
      "outputs": [
        {
          "output_type": "execute_result",
          "data": {
            "text/plain": [
              "(60000, 28, 28)"
            ]
          },
          "metadata": {
            "tags": []
          },
          "execution_count": 9
        }
      ]
    },
    {
      "cell_type": "markdown",
      "metadata": {
        "id": "dU7mJ4hnJdNa",
        "colab_type": "text"
      },
      "source": [
        "\n",
        "Image PreProcesing and Image Normalization and Standardization."
      ]
    },
    {
      "cell_type": "code",
      "metadata": {
        "id": "rRhSxHmPJX5F",
        "colab_type": "code",
        "colab": {}
      },
      "source": [
        "x_train = x_train/255\n",
        "x_test  = x_test/255"
      ],
      "execution_count": 0,
      "outputs": []
    },
    {
      "cell_type": "code",
      "metadata": {
        "id": "PKTusKYJJnHl",
        "colab_type": "code",
        "colab": {
          "base_uri": "https://localhost:8080/",
          "height": 281
        },
        "outputId": "b16a436e-4244-47f3-d160-4c636b851b1f"
      },
      "source": [
        "plt.figure()\n",
        "plt.imshow(x_train[0],cmap='gray',interpolation=None)\n",
        "plt.colorbar()\n",
        "plt.title(class_names[y_train[0]])\n",
        "plt.show()"
      ],
      "execution_count": 11,
      "outputs": [
        {
          "output_type": "display_data",
          "data": {
            "image/png": "[encoded data removed]",
            "text/plain": [
              "<Figure size 432x288 with 2 Axes>"
            ]
          },
          "metadata": {
            "tags": []
          }
        }
      ]
    },
    {
      "cell_type": "code",
      "metadata": {
        "id": "t69IgBHAJrFU",
        "colab_type": "code",
        "colab": {
          "base_uri": "https://localhost:8080/",
          "height": 545
        },
        "outputId": "d8092996-9880-44ec-80f1-dbb1007aaf08"
      },
      "source": [
        "plt.figure()\n",
        "plt.imshow(x_train[0],cmap='gray',interpolation=None)\n",
        "plt.colorbar()\n",
        "plt.title(class_names[y_train[0]])\n",
        "plt.title('Normalized Image')\n",
        "plt.show()\n",
        "\n",
        "plt.hist(x_train[0].reshape(784))  #28X28=(size of picture/image)=784\n",
        "plt.title('Image Pixel Distribution')\n",
        "plt.show()"
      ],
      "execution_count": 12,
      "outputs": [
        {
          "output_type": "display_data",
          "data": {
            "image/png": "[encoded data removed]",
            "text/plain": [
              "<Figure size 432x288 with 2 Axes>"
            ]
          },
          "metadata": {
            "tags": []
          }
        },
        {
          "output_type": "display_data",
          "data": {
            "image/png": "[encoded data removed]",
            "text/plain": [
              "<Figure size 432x288 with 1 Axes>"
            ]
          },
          "metadata": {
            "tags": []
          }
        }
      ]
    },
    {
      "cell_type": "code",
      "metadata": {
        "id": "E74O1LgSJwYU",
        "colab_type": "code",
        "colab": {
          "base_uri": "https://localhost:8080/",
          "height": 34
        },
        "outputId": "5a300c09-301b-4bf6-dbbd-ad9e4c32115f"
      },
      "source": [
        "x_train.shape"
      ],
      "execution_count": 13,
      "outputs": [
        {
          "output_type": "execute_result",
          "data": {
            "text/plain": [
              "(60000, 28, 28)"
            ]
          },
          "metadata": {
            "tags": []
          },
          "execution_count": 13
        }
      ]
    },
    {
      "cell_type": "code",
      "metadata": {
        "id": "HpKo7BGJJ2LW",
        "colab_type": "code",
        "colab": {}
      },
      "source": [
        "x_train = x_train.reshape(x_train.shape[0],x_train.shape[1],x_train.shape[2],1)\n",
        "x_test = x_test.reshape(x_test.shape[0],x_test.shape[1],x_test.shape[2],1)"
      ],
      "execution_count": 0,
      "outputs": []
    },
    {
      "cell_type": "code",
      "metadata": {
        "id": "nne4VGsqJ6TP",
        "colab_type": "code",
        "colab": {
          "base_uri": "https://localhost:8080/",
          "height": 34
        },
        "outputId": "e42eb33b-bbc8-466e-d7a5-c885b297a726"
      },
      "source": [
        "x_train.shape,x_test.shape  #We need tp  convert the two dimensional gray image to the 3 dimensional for feeding in Convolutional neural Netowrk layers."
      ],
      "execution_count": 15,
      "outputs": [
        {
          "output_type": "execute_result",
          "data": {
            "text/plain": [
              "((60000, 28, 28, 1), (10000, 28, 28, 1))"
            ]
          },
          "metadata": {
            "tags": []
          },
          "execution_count": 15
        }
      ]
    },
    {
      "cell_type": "code",
      "metadata": {
        "id": "N7IAyaeuJ9FV",
        "colab_type": "code",
        "colab": {
          "base_uri": "https://localhost:8080/",
          "height": 34
        },
        "outputId": "e717350b-8ba7-40b6-89f8-b5df4f6dd131"
      },
      "source": [
        "input_shape=x_train[0].shape\n",
        "input_shape\n"
      ],
      "execution_count": 16,
      "outputs": [
        {
          "output_type": "execute_result",
          "data": {
            "text/plain": [
              "(28, 28, 1)"
            ]
          },
          "metadata": {
            "tags": []
          },
          "execution_count": 16
        }
      ]
    },
    {
      "cell_type": "code",
      "metadata": {
        "id": "_LdP5THkKARG",
        "colab_type": "code",
        "colab": {}
      },
      "source": [
        "\n",
        "#After doing the necessary processing on the image informations, the label data i.e. y_train and y_test need to be converted into categorical formats like label ‘3’ should be converted to a vector [0, 0, 0, 1, 0, 0, 0, 0, 0, 0] for model building.\n",
        "import keras\n",
        "#set number of categories\n",
        "#num_category = 10\n",
        "# convert class vectors to binary class matrices\n",
        "#y_train = keras.utils.to_categorical(y_train, num_category)\n",
        "#y_test = keras.utils.to_categorical(y_test, num_category)\n"
      ],
      "execution_count": 0,
      "outputs": []
    },
    {
      "cell_type": "markdown",
      "metadata": {
        "id": "hpp8V3THKLrh",
        "colab_type": "text"
      },
      "source": [
        "## Create the Model."
      ]
    },
    {
      "cell_type": "code",
      "metadata": {
        "id": "2mrzsKVYKFSd",
        "colab_type": "code",
        "colab": {}
      },
      "source": [
        "model = Sequential()\n",
        "model.add(Conv2D(128,kernel_size=(3,3),kernel_initializer='he_uniform',padding='same',activation='relu',input_shape=x_train[0].shape))\n",
        "model.add(Dropout(0.40))\n",
        "model.add(MaxPool2D(pool_size=(2,2)))\n",
        "\n",
        "model.add(Conv2D(64,kernel_size=(3,3),padding='same',activation='relu',kernel_initializer='he_uniform'))\n",
        "model.add(Dropout(0.40))\n",
        "model.add(MaxPool2D(pool_size=(2,2)))\n",
        "\n",
        "model.add(Flatten())\n",
        "model.add(Dense(128,activation='relu',kernel_initializer='he_uniform'))\n",
        "model.add(Dropout(0.40))\n",
        "model.add(Dense(10,activation='softmax',kernel_initializer='he_uniform'))"
      ],
      "execution_count": 0,
      "outputs": []
    },
    {
      "cell_type": "code",
      "metadata": {
        "id": "Vz12RIojKKUM",
        "colab_type": "code",
        "colab": {
          "base_uri": "https://localhost:8080/",
          "height": 493
        },
        "outputId": "c4c2f9ce-9855-485b-e4e3-fc5a541976bd"
      },
      "source": [
        "model.summary()"
      ],
      "execution_count": 19,
      "outputs": [
        {
          "output_type": "stream",
          "text": [
            "Model: \"sequential\"\n",
            "_________________________________________________________________\n",
            "Layer (type)                 Output Shape              Param #   \n",
            "=================================================================\n",
            "conv2d (Conv2D)              (None, 28, 28, 128)       1280      \n",
            "_________________________________________________________________\n",
            "dropout (Dropout)            (None, 28, 28, 128)       0         \n",
            "_________________________________________________________________\n",
            "max_pooling2d (MaxPooling2D) (None, 14, 14, 128)       0         \n",
            "_________________________________________________________________\n",
            "conv2d_1 (Conv2D)            (None, 14, 14, 64)        73792     \n",
            "_________________________________________________________________\n",
            "dropout_1 (Dropout)          (None, 14, 14, 64)        0         \n",
            "_________________________________________________________________\n",
            "max_pooling2d_1 (MaxPooling2 (None, 7, 7, 64)          0         \n",
            "_________________________________________________________________\n",
            "flatten (Flatten)            (None, 3136)              0         \n",
            "_________________________________________________________________\n",
            "dense (Dense)                (None, 128)               401536    \n",
            "_________________________________________________________________\n",
            "dropout_2 (Dropout)          (None, 128)               0         \n",
            "_________________________________________________________________\n",
            "dense_1 (Dense)              (None, 10)                1290      \n",
            "=================================================================\n",
            "Total params: 477,898\n",
            "Trainable params: 477,898\n",
            "Non-trainable params: 0\n",
            "_________________________________________________________________\n"
          ],
          "name": "stdout"
        }
      ]
    },
    {
      "cell_type": "code",
      "metadata": {
        "id": "iyewyYxCKXeL",
        "colab_type": "code",
        "colab": {}
      },
      "source": [
        "model.compile(optimizer='adam',loss='sparse_categorical_crossentropy',metrics=['accuracy'])"
      ],
      "execution_count": 0,
      "outputs": []
    },
    {
      "cell_type": "code",
      "metadata": {
        "id": "OlRGi2P9KcNE",
        "colab_type": "code",
        "colab": {
          "base_uri": "https://localhost:8080/",
          "height": 357
        },
        "outputId": "486468e2-7650-4a2e-f4a2-036a9f90b9b7"
      },
      "source": [
        "history=model.fit(x_train,y_train,batch_size=20,epochs=10,verbose=1,validation_data=(x_test,y_test))"
      ],
      "execution_count": 21,
      "outputs": [
        {
          "output_type": "stream",
          "text": [
            "Epoch 1/10\n",
            "3000/3000 [==============================] - 14s 5ms/step - loss: 0.5100 - accuracy: 0.8185 - val_loss: 0.3644 - val_accuracy: 0.8753\n",
            "Epoch 2/10\n",
            "3000/3000 [==============================] - 14s 5ms/step - loss: 0.3562 - accuracy: 0.8695 - val_loss: 0.3424 - val_accuracy: 0.8884\n",
            "Epoch 3/10\n",
            "3000/3000 [==============================] - 14s 5ms/step - loss: 0.3155 - accuracy: 0.8842 - val_loss: 0.3183 - val_accuracy: 0.9041\n",
            "Epoch 4/10\n",
            "3000/3000 [==============================] - 14s 5ms/step - loss: 0.2875 - accuracy: 0.8950 - val_loss: 0.2786 - val_accuracy: 0.9095\n",
            "Epoch 5/10\n",
            "3000/3000 [==============================] - 14s 5ms/step - loss: 0.2704 - accuracy: 0.9010 - val_loss: 0.2611 - val_accuracy: 0.9109\n",
            "Epoch 6/10\n",
            "3000/3000 [==============================] - 14s 5ms/step - loss: 0.2550 - accuracy: 0.9067 - val_loss: 0.2432 - val_accuracy: 0.9157\n",
            "Epoch 7/10\n",
            "3000/3000 [==============================] - 14s 5ms/step - loss: 0.2508 - accuracy: 0.9093 - val_loss: 0.2500 - val_accuracy: 0.9094\n",
            "Epoch 8/10\n",
            "3000/3000 [==============================] - 14s 5ms/step - loss: 0.2408 - accuracy: 0.9112 - val_loss: 0.2437 - val_accuracy: 0.9141\n",
            "Epoch 9/10\n",
            "3000/3000 [==============================] - 14s 5ms/step - loss: 0.2331 - accuracy: 0.9151 - val_loss: 0.2347 - val_accuracy: 0.9196\n",
            "Epoch 10/10\n",
            "3000/3000 [==============================] - 14s 5ms/step - loss: 0.2317 - accuracy: 0.9149 - val_loss: 0.2443 - val_accuracy: 0.9150\n"
          ],
          "name": "stdout"
        }
      ]
    },
    {
      "cell_type": "code",
      "metadata": {
        "id": "mUZUpr5FKfgO",
        "colab_type": "code",
        "colab": {
          "base_uri": "https://localhost:8080/",
          "height": 34
        },
        "outputId": "e8f95320-b29a-4554-9dc9-fca8438f237d"
      },
      "source": [
        "val_loss,val_accuarcy = model.evaluate(x_test,y_test,batch_size=20,verbose=2)"
      ],
      "execution_count": 22,
      "outputs": [
        {
          "output_type": "stream",
          "text": [
            "500/500 - 1s - loss: 0.2443 - accuracy: 0.9150\n"
          ],
          "name": "stdout"
        }
      ]
    },
    {
      "cell_type": "markdown",
      "metadata": {
        "id": "rBqjcJHKLGQb",
        "colab_type": "text"
      },
      "source": [
        "## Accuracy."
      ]
    },
    {
      "cell_type": "code",
      "metadata": {
        "id": "_D78X3zkKiGF",
        "colab_type": "code",
        "colab": {
          "base_uri": "https://localhost:8080/",
          "height": 34
        },
        "outputId": "b98d0aeb-f3ee-4d42-dc7b-b51395c56aba"
      },
      "source": [
        "y_pred= model.predict_classes(x_test)\n",
        "y_pred"
      ],
      "execution_count": 24,
      "outputs": [
        {
          "output_type": "execute_result",
          "data": {
            "text/plain": [
              "array([9, 2, 1, ..., 8, 1, 5])"
            ]
          },
          "metadata": {
            "tags": []
          },
          "execution_count": 24
        }
      ]
    },
    {
      "cell_type": "code",
      "metadata": {
        "id": "xdEo-LCCLKUd",
        "colab_type": "code",
        "colab": {}
      },
      "source": [
        "accuractely_predicted = np.nonzero(y_pred==y_test)[0]"
      ],
      "execution_count": 0,
      "outputs": []
    },
    {
      "cell_type": "code",
      "metadata": {
        "id": "ZAVXADeRLOz-",
        "colab_type": "code",
        "colab": {
          "base_uri": "https://localhost:8080/",
          "height": 34
        },
        "outputId": "fa5c106f-ed87-4381-b764-abe7fe207ddf"
      },
      "source": [
        "accuractely_predicted"
      ],
      "execution_count": 26,
      "outputs": [
        {
          "output_type": "execute_result",
          "data": {
            "text/plain": [
              "array([   0,    1,    2, ..., 9997, 9998, 9999])"
            ]
          },
          "metadata": {
            "tags": []
          },
          "execution_count": 26
        }
      ]
    },
    {
      "cell_type": "code",
      "metadata": {
        "id": "w51GYxHxLSBC",
        "colab_type": "code",
        "colab": {
          "base_uri": "https://localhost:8080/",
          "height": 34
        },
        "outputId": "48918971-e85a-45f8-f56b-9cd6d0c20cc4"
      },
      "source": [
        "len(accuractely_predicted)"
      ],
      "execution_count": 27,
      "outputs": [
        {
          "output_type": "execute_result",
          "data": {
            "text/plain": [
              "9150"
            ]
          },
          "metadata": {
            "tags": []
          },
          "execution_count": 27
        }
      ]
    },
    {
      "cell_type": "code",
      "metadata": {
        "id": "_7kcYKv4LVa8",
        "colab_type": "code",
        "colab": {}
      },
      "source": [
        "non_accuarately_predicted = np.nonzero(y_pred != y_test)[0]"
      ],
      "execution_count": 0,
      "outputs": []
    },
    {
      "cell_type": "code",
      "metadata": {
        "id": "yXc-Eg5rLXet",
        "colab_type": "code",
        "colab": {
          "base_uri": "https://localhost:8080/",
          "height": 34
        },
        "outputId": "aa097e87-b13b-4502-db69-0fac7c224973"
      },
      "source": [
        "len(non_accuarately_predicted)"
      ],
      "execution_count": 29,
      "outputs": [
        {
          "output_type": "execute_result",
          "data": {
            "text/plain": [
              "850"
            ]
          },
          "metadata": {
            "tags": []
          },
          "execution_count": 29
        }
      ]
    },
    {
      "cell_type": "code",
      "metadata": {
        "id": "MdpxGjb2La-q",
        "colab_type": "code",
        "colab": {}
      },
      "source": [
        "from sklearn.metrics import accuracy_score,classification_report,confusion_matrix"
      ],
      "execution_count": 0,
      "outputs": []
    },
    {
      "cell_type": "code",
      "metadata": {
        "id": "BKfmEnBKLeiL",
        "colab_type": "code",
        "colab": {
          "base_uri": "https://localhost:8080/",
          "height": 34
        },
        "outputId": "cc12dc38-720e-4a45-ece8-d1ba9f305dc2"
      },
      "source": [
        "print('Accuarcy :-',accuracy_score(y_test,y_pred))"
      ],
      "execution_count": 31,
      "outputs": [
        {
          "output_type": "stream",
          "text": [
            "Accuarcy :- 0.915\n"
          ],
          "name": "stdout"
        }
      ]
    },
    {
      "cell_type": "markdown",
      "metadata": {
        "id": "Liuwv8q6LjxP",
        "colab_type": "text"
      },
      "source": [
        "## Confusion matrix"
      ]
    },
    {
      "cell_type": "code",
      "metadata": {
        "id": "JnHWkv6WLfSh",
        "colab_type": "code",
        "colab": {
          "base_uri": "https://localhost:8080/",
          "height": 187
        },
        "outputId": "25c5505d-a42f-4ce6-f13b-27cbec038ae4"
      },
      "source": [
        "mat = confusion_matrix(y_test,y_pred)\n",
        "mat"
      ],
      "execution_count": 32,
      "outputs": [
        {
          "output_type": "execute_result",
          "data": {
            "text/plain": [
              "array([[815,   0,  18,  10,   6,   1, 146,   0,   4,   0],\n",
              "       [  1, 988,   0,   7,   2,   0,   1,   0,   1,   0],\n",
              "       [  9,   1, 868,   6,  60,   0,  56,   0,   0,   0],\n",
              "       [ 14,   3,   9, 919,  20,   0,  34,   0,   1,   0],\n",
              "       [  1,   0,  36,  27, 862,   0,  74,   0,   0,   0],\n",
              "       [  0,   0,   0,   0,   0, 985,   0,  12,   0,   3],\n",
              "       [ 68,   0,  54,  24,  62,   0, 789,   0,   3,   0],\n",
              "       [  0,   0,   0,   0,   0,   9,   0, 980,   0,  11],\n",
              "       [  1,   0,   0,   4,   3,   2,   4,   1, 985,   0],\n",
              "       [  1,   0,   0,   0,   0,   7,   0,  33,   0, 959]])"
            ]
          },
          "metadata": {
            "tags": []
          },
          "execution_count": 32
        }
      ]
    },
    {
      "cell_type": "code",
      "metadata": {
        "id": "VbQEnoSXLfP8",
        "colab_type": "code",
        "colab": {
          "base_uri": "https://localhost:8080/",
          "height": 833
        },
        "outputId": "0a48a4cc-e00e-42a7-afb2-55d597920ebd"
      },
      "source": [
        "plt.figure(figsize=(30,20))\n",
        "sns.heatmap(mat,annot=True,cbar=False,linecolor='red',linewidths=0.5,fmt='d',xticklabels=class_names,yticklabels=class_names)\n",
        "plt.show()"
      ],
      "execution_count": 58,
      "outputs": [
        {
          "output_type": "display_data",
          "data": {
            "image/png": "[encoded data removed]",
            "text/plain": [
              "<Figure size 2160x1440 with 1 Axes>"
            ]
          },
          "metadata": {
            "tags": []
          }
        }
      ]
    },
    {
      "cell_type": "markdown",
      "metadata": {
        "id": "jaQtsvy6Lxd7",
        "colab_type": "text"
      },
      "source": [
        "## Trying to get Proper fuction the feature name."
      ]
    },
    {
      "cell_type": "code",
      "metadata": {
        "id": "hU5JfVITLfKb",
        "colab_type": "code",
        "colab": {
          "base_uri": "https://localhost:8080/",
          "height": 34
        },
        "outputId": "d6b0c1aa-0d06-4972-9c67-fce52469842e"
      },
      "source": [
        "y_pred"
      ],
      "execution_count": 34,
      "outputs": [
        {
          "output_type": "execute_result",
          "data": {
            "text/plain": [
              "array([9, 2, 1, ..., 8, 1, 5])"
            ]
          },
          "metadata": {
            "tags": []
          },
          "execution_count": 34
        }
      ]
    },
    {
      "cell_type": "code",
      "metadata": {
        "id": "Se52v9zHLfGA",
        "colab_type": "code",
        "colab": {
          "base_uri": "https://localhost:8080/",
          "height": 238
        },
        "outputId": "18bcce9b-4266-462d-e2f8-085cd5b9f416"
      },
      "source": [
        "y_prections = model.predict(x_test)\n",
        "y_prections"
      ],
      "execution_count": 35,
      "outputs": [
        {
          "output_type": "execute_result",
          "data": {
            "text/plain": [
              "array([[1.95619590e-10, 7.09367732e-14, 6.61640285e-13, ...,\n",
              "        4.44645615e-04, 7.34787578e-11, 9.99452412e-01],\n",
              "       [1.39594384e-04, 4.38199521e-09, 9.97360170e-01, ...,\n",
              "        2.37719521e-15, 8.32456044e-06, 2.83449886e-14],\n",
              "       [7.32025818e-09, 1.00000000e+00, 3.00192371e-10, ...,\n",
              "        6.04246090e-18, 1.33779918e-10, 7.91949005e-18],\n",
              "       ...,\n",
              "       [3.98996293e-14, 9.49247135e-24, 9.44493418e-17, ...,\n",
              "        1.95836704e-16, 1.00000000e+00, 1.42827457e-17],\n",
              "       [9.80492246e-07, 9.99993086e-01, 4.18280131e-08, ...,\n",
              "        2.44759674e-14, 5.96044236e-09, 4.21629386e-14],\n",
              "       [1.06277934e-04, 8.42260852e-06, 6.36434243e-06, ...,\n",
              "        2.13518187e-01, 8.10362922e-04, 3.16884257e-02]], dtype=float32)"
            ]
          },
          "metadata": {
            "tags": []
          },
          "execution_count": 35
        }
      ]
    },
    {
      "cell_type": "code",
      "metadata": {
        "id": "4S4cLTCGL-K4",
        "colab_type": "code",
        "colab": {
          "base_uri": "https://localhost:8080/",
          "height": 34
        },
        "outputId": "9aeb7bec-9503-4394-9e91-c7bda3164668"
      },
      "source": [
        "np.argmax(y_prections[0])"
      ],
      "execution_count": 36,
      "outputs": [
        {
          "output_type": "execute_result",
          "data": {
            "text/plain": [
              "9"
            ]
          },
          "metadata": {
            "tags": []
          },
          "execution_count": 36
        }
      ]
    },
    {
      "cell_type": "code",
      "metadata": {
        "id": "iiume-xIMBKl",
        "colab_type": "code",
        "colab": {
          "base_uri": "https://localhost:8080/",
          "height": 187
        },
        "outputId": "30d1447c-c394-43c8-e7ab-67ce7cfd577a"
      },
      "source": [
        "class_names"
      ],
      "execution_count": 37,
      "outputs": [
        {
          "output_type": "execute_result",
          "data": {
            "text/plain": [
              "['T-shirt/top',\n",
              " 'Trouser',\n",
              " 'Pullover',\n",
              " 'Dress',\n",
              " 'Coat',\n",
              " 'Sandal',\n",
              " 'Shirt',\n",
              " 'Sneaker',\n",
              " 'Bag',\n",
              " 'Ankle boot']"
            ]
          },
          "metadata": {
            "tags": []
          },
          "execution_count": 37
        }
      ]
    },
    {
      "cell_type": "code",
      "metadata": {
        "id": "K3zhFNiAMC5n",
        "colab_type": "code",
        "colab": {
          "base_uri": "https://localhost:8080/",
          "height": 34
        },
        "outputId": "afe38c2a-f93e-4be8-b69a-881cb60e3f60"
      },
      "source": [
        "class_names[np.argmax(y_prections[0])]"
      ],
      "execution_count": 38,
      "outputs": [
        {
          "output_type": "execute_result",
          "data": {
            "text/plain": [
              "'Ankle boot'"
            ]
          },
          "metadata": {
            "tags": []
          },
          "execution_count": 38
        }
      ]
    },
    {
      "cell_type": "code",
      "metadata": {
        "id": "KOgft1NKMGjU",
        "colab_type": "code",
        "colab": {}
      },
      "source": [
        "\n",
        "def name_of_entity(x_test,index):\n",
        "  y_pred = model.predict_classes(x_test)\n",
        "  predictions = model.predict(x_test)\n",
        "  maxpredtcion = np.argmax(predictions[index])\n",
        "  name_of_entity = class_names[maxpredtcion]\n",
        "  return name_of_entity"
      ],
      "execution_count": 0,
      "outputs": []
    },
    {
      "cell_type": "code",
      "metadata": {
        "id": "iUT2EhroMKJ5",
        "colab_type": "code",
        "colab": {
          "base_uri": "https://localhost:8080/",
          "height": 34
        },
        "outputId": "c6fdc57d-dcd9-4bde-b503-3de2469acf5e"
      },
      "source": [
        "name_of_entity(x_test,2)"
      ],
      "execution_count": 40,
      "outputs": [
        {
          "output_type": "execute_result",
          "data": {
            "text/plain": [
              "'Trouser'"
            ]
          },
          "metadata": {
            "tags": []
          },
          "execution_count": 40
        }
      ]
    },
    {
      "cell_type": "markdown",
      "metadata": {
        "id": "M4UnAelhMRyo",
        "colab_type": "text"
      },
      "source": [
        "I had created an function through that we can the the access of the class name by passing the independed test data and number at which we want know the entity."
      ]
    },
    {
      "cell_type": "code",
      "metadata": {
        "id": "CNOgI4_oMMw5",
        "colab_type": "code",
        "colab": {}
      },
      "source": [
        "xx_train = x_train.reshape(x_train.shape[0],x_train.shape[1],x_train.shape[2])\n",
        "xx_test  = x_test.reshape(x_test.shape[0],x_test.shape[1],x_train.shape[2])"
      ],
      "execution_count": 0,
      "outputs": []
    },
    {
      "cell_type": "code",
      "metadata": {
        "id": "u-thJt-9Mblf",
        "colab_type": "code",
        "colab": {}
      },
      "source": [
        "def view_of_entity(xx_test,index,xx_train,x_test):\n",
        "  y_pred = model.predict_classes(x_test)\n",
        "  predictions = model.predict(x_test)\n",
        "  maxpredtcion = np.argmax(predictions[index])\n",
        "  name_of_entity = class_names[maxpredtcion]\n",
        "\n",
        "\n",
        "\n",
        "  plt.figure(figsize=(5,4))\n",
        "  plt.imshow(xx_train[index])\n",
        "  plt.title('The name of the predicted entity with pic  :- {}'.format(name_of_entity))\n",
        "  plt.show()"
      ],
      "execution_count": 0,
      "outputs": []
    },
    {
      "cell_type": "code",
      "metadata": {
        "id": "WhMVB86HMeqV",
        "colab_type": "code",
        "colab": {
          "base_uri": "https://localhost:8080/",
          "height": 281
        },
        "outputId": "b85c6bb3-f6b4-4118-be43-480890490359"
      },
      "source": [
        "view_of_entity(xx_test,0,xx_train,x_test)"
      ],
      "execution_count": 43,
      "outputs": [
        {
          "output_type": "display_data",
          "data": {
            "image/png": "[encoded data removed]",
            "text/plain": [
              "<Figure size 360x288 with 1 Axes>"
            ]
          },
          "metadata": {
            "tags": []
          }
        }
      ]
    },
    {
      "cell_type": "code",
      "metadata": {
        "id": "cFBh89eIMkww",
        "colab_type": "code",
        "colab": {
          "base_uri": "https://localhost:8080/",
          "height": 281
        },
        "outputId": "b005655d-b2b5-4be3-81ad-fce4d55ca395"
      },
      "source": [
        "view_of_entity(xx_test,1,xx_train,x_test)"
      ],
      "execution_count": 44,
      "outputs": [
        {
          "output_type": "display_data",
          "data": {
            "image/png": "[encoded data removed]",
            "text/plain": [
              "<Figure size 360x288 with 1 Axes>"
            ]
          },
          "metadata": {
            "tags": []
          }
        }
      ]
    },
    {
      "cell_type": "code",
      "metadata": {
        "id": "1Yp6T2BHM77W",
        "colab_type": "code",
        "colab": {
          "base_uri": "https://localhost:8080/",
          "height": 281
        },
        "outputId": "d139dcc6-1185-4b85-9450-18397bc59f93"
      },
      "source": [
        "view_of_entity(xx_test,2,xx_train,x_test)"
      ],
      "execution_count": 48,
      "outputs": [
        {
          "output_type": "display_data",
          "data": {
            "image/png": "[encoded data removed]",
            "text/plain": [
              "<Figure size 360x288 with 1 Axes>"
            ]
          },
          "metadata": {
            "tags": []
          }
        }
      ]
    },
    {
      "cell_type": "markdown",
      "metadata": {
        "id": "0qDIF0voOPWt",
        "colab_type": "text"
      },
      "source": [
        "## Save The Model."
      ]
    },
    {
      "cell_type": "code",
      "metadata": {
        "id": "rMoDRjmeOAok",
        "colab_type": "code",
        "colab": {
          "base_uri": "https://localhost:8080/",
          "height": 51
        },
        "outputId": "ff21a15b-da11-447d-d720-c14de357f557"
      },
      "source": [
        "model.save('Mnist.h6')\n",
        "print('Model is has SAVED')"
      ],
      "execution_count": 55,
      "outputs": [
        {
          "output_type": "stream",
          "text": [
            "INFO:tensorflow:Assets written to: Mnist.h6/assets\n",
            "Model is has SAVED\n"
          ],
          "name": "stdout"
        }
      ]
    },
    {
      "cell_type": "markdown",
      "metadata": {
        "id": "3Ly7lo_sOkUy",
        "colab_type": "text"
      },
      "source": [
        "## Learning Curve."
      ]
    },
    {
      "cell_type": "code",
      "metadata": {
        "id": "Y9RG0Z8gOZy7",
        "colab_type": "code",
        "colab": {
          "base_uri": "https://localhost:8080/",
          "height": 697
        },
        "outputId": "a732b7f1-0f3f-4b94-a3fa-5ccec8e2edb6"
      },
      "source": [
        "history.history"
      ],
      "execution_count": 56,
      "outputs": [
        {
          "output_type": "execute_result",
          "data": {
            "text/plain": [
              "{'accuracy': [0.8184833526611328,\n",
              "  0.8694999814033508,\n",
              "  0.8842333555221558,\n",
              "  0.8950166702270508,\n",
              "  0.9010166525840759,\n",
              "  0.9067333340644836,\n",
              "  0.9092666506767273,\n",
              "  0.911216676235199,\n",
              "  0.9150500297546387,\n",
              "  0.9149333238601685],\n",
              " 'loss': [0.5100362300872803,\n",
              "  0.3561578691005707,\n",
              "  0.3154560625553131,\n",
              "  0.2875060439109802,\n",
              "  0.2703610062599182,\n",
              "  0.25504910945892334,\n",
              "  0.25081226229667664,\n",
              "  0.24081861972808838,\n",
              "  0.23313187062740326,\n",
              "  0.2317342460155487],\n",
              " 'val_accuracy': [0.8752999901771545,\n",
              "  0.8884000182151794,\n",
              "  0.9041000008583069,\n",
              "  0.909500002861023,\n",
              "  0.9108999967575073,\n",
              "  0.9157000184059143,\n",
              "  0.9093999862670898,\n",
              "  0.9140999913215637,\n",
              "  0.9196000099182129,\n",
              "  0.9150000214576721],\n",
              " 'val_loss': [0.36444899439811707,\n",
              "  0.3423730134963989,\n",
              "  0.3182551860809326,\n",
              "  0.2785545885562897,\n",
              "  0.2611117660999298,\n",
              "  0.24320092797279358,\n",
              "  0.24998274445533752,\n",
              "  0.24367256462574005,\n",
              "  0.23468540608882904,\n",
              "  0.2442712038755417]}"
            ]
          },
          "metadata": {
            "tags": []
          },
          "execution_count": 56
        }
      ]
    },
    {
      "cell_type": "code",
      "metadata": {
        "id": "eB1WbxIOOvTK",
        "colab_type": "code",
        "colab": {
          "base_uri": "https://localhost:8080/",
          "height": 573
        },
        "outputId": "a4dccabb-0b0c-48c6-d237-6a2e42a42e0b"
      },
      "source": [
        "plt.plot(history.history['accuracy'])\n",
        "plt.plot(history.history['val_accuracy'])\n",
        "plt.title('Model accuarcies benhaviour along the epoches ')\n",
        "plt.xlabel('Epochs')\n",
        "plt.legend(['Model Accuarcy','Validation Accuarcy'])\n",
        "plt.ylabel('Model accuaracy')\n",
        "plt.show()\n",
        "\n",
        "\n",
        "plt.plot(history.history['loss'])\n",
        "plt.plot(history.history['val_loss'])\n",
        "plt.title('Model loss benhaviour along the epoches ')\n",
        "plt.xlabel('Epochs')\n",
        "plt.legend(['Model loss','Validation loss'])\n",
        "plt.ylabel('Model losses')\n",
        "plt.show()"
      ],
      "execution_count": 57,
      "outputs": [
        {
          "output_type": "display_data",
          "data": {
            "image/png": "[encoded data removed]",
            "text/plain": [
              "<Figure size 432x288 with 1 Axes>"
            ]
          },
          "metadata": {
            "tags": []
          }
        },
        {
          "output_type": "display_data",
          "data": {
            "image/png": "[encoded data removed]",
            "text/plain": [
              "<Figure size 432x288 with 1 Axes>"
            ]
          },
          "metadata": {
            "tags": []
          }
        }
      ]
    },
    {
      "cell_type": "markdown",
      "metadata": {
        "id": "MHGrCPD5O6XQ",
        "colab_type": "text"
      },
      "source": [
        "## Thank You !!!"
      ]
    }
  ]
}