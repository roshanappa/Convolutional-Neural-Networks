{
  "nbformat": 4,
  "nbformat_minor": 0,
  "metadata": {
    "colab": {
      "name": "First Artificial Neural Network .ipynb",
      "provenance": [],
      "private_outputs": true,
      "authorship_tag": "ABX9TyPn+hFOF7xgvptEmZSNPsoB",
      "include_colab_link": true
    },
    "kernelspec": {
      "name": "python3",
      "display_name": "Python 3"
    }
  },
  "cells": [
    {
      "cell_type": "markdown",
      "metadata": {
        "id": "view-in-github",
        "colab_type": "text"
      },
      "source": [
        "<a href=\"https://colab.research.google.com/github/roshanappa/Deep-Learning-Models./blob/master/First_Artificial_Neural_Network_.ipynb\" target=\"_parent\"><img src=\"https://colab.research.google.com/assets/colab-badge.svg\" alt=\"Open In Colab\"/></a>"
      ]
    },
    {
      "cell_type": "code",
      "metadata": {
        "id": "iOtau_ZlM1J6",
        "colab_type": "code",
        "colab": {}
      },
      "source": [
        "#data preprocessing.\n",
        "import numpy as np\n",
        "import pandas as pd\n",
        "import matplotlib.pyplot as plt\n",
        "%matplotlib inline\n",
        "import seaborn as sns"
      ],
      "execution_count": 0,
      "outputs": []
    },
    {
      "cell_type": "code",
      "metadata": {
        "id": "O-QGiD2XOps8",
        "colab_type": "code",
        "colab": {}
      },
      "source": [
        "import tensorflow as tf"
      ],
      "execution_count": 0,
      "outputs": []
    },
    {
      "cell_type": "code",
      "metadata": {
        "id": "zX4LyFMDOuT6",
        "colab_type": "code",
        "colab": {}
      },
      "source": [
        "from tensorflow.keras import Sequential\n",
        "from tensorflow.keras.layers import Dense\n",
        "from tensorflow.keras.callbacks import TensorBoard"
      ],
      "execution_count": 0,
      "outputs": []
    },
    {
      "cell_type": "code",
      "metadata": {
        "id": "MN3EnyvxPn7_",
        "colab_type": "code",
        "colab": {}
      },
      "source": [
        "import pickle\n",
        "import time"
      ],
      "execution_count": 0,
      "outputs": []
    },
    {
      "cell_type": "code",
      "metadata": {
        "id": "3Q5WBW8cPq4O",
        "colab_type": "code",
        "colab": {}
      },
      "source": [
        "NAME = 'Simple ANN Model {}'.format(int(time.time()))"
      ],
      "execution_count": 0,
      "outputs": []
    },
    {
      "cell_type": "code",
      "metadata": {
        "id": "jVX6wyWePzdp",
        "colab_type": "code",
        "colab": {}
      },
      "source": [
        "tensorboard = TensorBoard(log_dir='logs/ {}'.format(NAME))"
      ],
      "execution_count": 0,
      "outputs": []
    },
    {
      "cell_type": "markdown",
      "metadata": {
        "id": "kXlt-MIdT18R",
        "colab_type": "text"
      },
      "source": [
        "## Data Preprocessing."
      ]
    },
    {
      "cell_type": "code",
      "metadata": {
        "id": "D-1NHU0lT5Zw",
        "colab_type": "code",
        "colab": {}
      },
      "source": [
        "data = pd.read_csv('/content/Churn_Modelling.csv')"
      ],
      "execution_count": 0,
      "outputs": []
    },
    {
      "cell_type": "code",
      "metadata": {
        "id": "yiDIZBPsUWAQ",
        "colab_type": "code",
        "colab": {}
      },
      "source": [
        "pd.pandas.set_option('display.max_columns',None)"
      ],
      "execution_count": 0,
      "outputs": []
    },
    {
      "cell_type": "code",
      "metadata": {
        "id": "LageSgcyUQbQ",
        "colab_type": "code",
        "colab": {}
      },
      "source": [
        "data.head()"
      ],
      "execution_count": 0,
      "outputs": []
    },
    {
      "cell_type": "code",
      "metadata": {
        "id": "Uj6ownLwUSa3",
        "colab_type": "code",
        "colab": {}
      },
      "source": [
        "data.drop(columns=['RowNumber','CustomerId'],inplace=True)"
      ],
      "execution_count": 0,
      "outputs": []
    },
    {
      "cell_type": "code",
      "metadata": {
        "id": "IKCeBVPHUsZU",
        "colab_type": "code",
        "colab": {}
      },
      "source": [
        "data.tail()"
      ],
      "execution_count": 0,
      "outputs": []
    },
    {
      "cell_type": "code",
      "metadata": {
        "id": "nc_AJilcUvFs",
        "colab_type": "code",
        "colab": {}
      },
      "source": [
        "data.columns"
      ],
      "execution_count": 0,
      "outputs": []
    },
    {
      "cell_type": "code",
      "metadata": {
        "id": "aXQd5E-CUy0b",
        "colab_type": "code",
        "colab": {}
      },
      "source": [
        "data.isnull().sum()"
      ],
      "execution_count": 0,
      "outputs": []
    },
    {
      "cell_type": "code",
      "metadata": {
        "id": "_otKMkBKU2Zk",
        "colab_type": "code",
        "colab": {}
      },
      "source": [
        "dataframe = pd.DataFrame({'Dtypes':data.dtypes,'Nuique':data.nunique(),'Null_values':data.isnull().sum(),'Duplicated':data.duplicated().sum()})"
      ],
      "execution_count": 0,
      "outputs": []
    },
    {
      "cell_type": "code",
      "metadata": {
        "id": "H7k8TfqqU8JD",
        "colab_type": "code",
        "colab": {}
      },
      "source": [
        "dataframe"
      ],
      "execution_count": 0,
      "outputs": []
    },
    {
      "cell_type": "code",
      "metadata": {
        "id": "ksn-OC5sVeix",
        "colab_type": "code",
        "colab": {}
      },
      "source": [
        "data.drop(columns=['Surname'],inplace=True)"
      ],
      "execution_count": 0,
      "outputs": []
    },
    {
      "cell_type": "code",
      "metadata": {
        "id": "goUs-aomVkij",
        "colab_type": "code",
        "colab": {}
      },
      "source": [
        "from sklearn.preprocessing import LabelEncoder,StandardScaler\n",
        "from sklearn.model_selection import train_test_split"
      ],
      "execution_count": 0,
      "outputs": []
    },
    {
      "cell_type": "code",
      "metadata": {
        "id": "bL6Uhzy3Wk0O",
        "colab_type": "code",
        "colab": {}
      },
      "source": [
        "data['Geography'].value_counts()"
      ],
      "execution_count": 0,
      "outputs": []
    },
    {
      "cell_type": "code",
      "metadata": {
        "id": "00WEYscfaZWa",
        "colab_type": "code",
        "colab": {}
      },
      "source": [
        "data['Geography'].value_counts().plot(kind='bar')\n",
        "plt.show()"
      ],
      "execution_count": 0,
      "outputs": []
    },
    {
      "cell_type": "code",
      "metadata": {
        "id": "S4LPrg5DbElM",
        "colab_type": "code",
        "colab": {}
      },
      "source": [
        "d = {'France':0,'Germany':1,'Spain':3}\n",
        "data['Geography']=data['Geography'].map(d)"
      ],
      "execution_count": 0,
      "outputs": []
    },
    {
      "cell_type": "code",
      "metadata": {
        "id": "8oAm41FzbdGG",
        "colab_type": "code",
        "colab": {}
      },
      "source": [
        "data['Gender'].value_counts().plot(kind='bar')\n",
        "plt.show()"
      ],
      "execution_count": 0,
      "outputs": []
    },
    {
      "cell_type": "code",
      "metadata": {
        "id": "9mwhQETKbnGb",
        "colab_type": "code",
        "colab": {}
      },
      "source": [
        "z = {'Male':0,'Female':1}\n",
        "data['Gender']=data['Gender'].map(z)"
      ],
      "execution_count": 0,
      "outputs": []
    },
    {
      "cell_type": "markdown",
      "metadata": {
        "id": "U5yI0cSucGpm",
        "colab_type": "text"
      },
      "source": [
        "## Prepare for the model."
      ]
    },
    {
      "cell_type": "code",
      "metadata": {
        "id": "Aa5_ywdTcDl6",
        "colab_type": "code",
        "colab": {}
      },
      "source": [
        "data.head()"
      ],
      "execution_count": 0,
      "outputs": []
    },
    {
      "cell_type": "markdown",
      "metadata": {
        "id": "n5f3y-rFcPUN",
        "colab_type": "text"
      },
      "source": [
        "Here,we are getting the all the independed variables that can makes the impact on the dependent variable.But they are avalible in the in diffrent scale.So we to convert the in same scale by the Standarscaler."
      ]
    },
    {
      "cell_type": "code",
      "metadata": {
        "id": "wLWdeKhNcDhi",
        "colab_type": "code",
        "colab": {}
      },
      "source": [
        "feature = data.columns\n",
        "feature"
      ],
      "execution_count": 0,
      "outputs": []
    },
    {
      "cell_type": "code",
      "metadata": {
        "id": "UpDZon2PcDc-",
        "colab_type": "code",
        "colab": {}
      },
      "source": [
        "x = data.drop(columns=['Exited'])\n",
        "y = data['Exited']"
      ],
      "execution_count": 0,
      "outputs": []
    },
    {
      "cell_type": "code",
      "metadata": {
        "id": "_WPlf-VydEOh",
        "colab_type": "code",
        "colab": {}
      },
      "source": [
        "x.shape,y.shape"
      ],
      "execution_count": 0,
      "outputs": []
    },
    {
      "cell_type": "code",
      "metadata": {
        "id": "_RP-eTJmdGoz",
        "colab_type": "code",
        "colab": {}
      },
      "source": [
        "\n",
        "x_train,x_test,y_train,y_test = train_test_split(x,y,train_size=0.80,random_state=42,stratify=y)"
      ],
      "execution_count": 0,
      "outputs": []
    },
    {
      "cell_type": "code",
      "metadata": {
        "id": "aSWc4EIHdUuU",
        "colab_type": "code",
        "colab": {}
      },
      "source": [
        "x_train.shape,x_test.shape"
      ],
      "execution_count": 0,
      "outputs": []
    },
    {
      "cell_type": "code",
      "metadata": {
        "id": "jSaEZZhkdYGu",
        "colab_type": "code",
        "colab": {}
      },
      "source": [
        "y_train.value_counts()"
      ],
      "execution_count": 0,
      "outputs": []
    },
    {
      "cell_type": "code",
      "metadata": {
        "id": "yu4TChroddKp",
        "colab_type": "code",
        "colab": {}
      },
      "source": [
        "scaler = StandardScaler()\n",
        "X_train  = scaler.fit_transform(x_train)\n",
        "X_test   = scaler.transform(x_test)"
      ],
      "execution_count": 0,
      "outputs": []
    },
    {
      "cell_type": "code",
      "metadata": {
        "id": "_Z14mcYCd2pX",
        "colab_type": "code",
        "colab": {}
      },
      "source": [
        "from imblearn.over_sampling import SMOTE"
      ],
      "execution_count": 0,
      "outputs": []
    },
    {
      "cell_type": "code",
      "metadata": {
        "id": "mdpuxnJzeCyk",
        "colab_type": "code",
        "colab": {}
      },
      "source": [
        "sm = SMOTE(sampling_strategy=1,random_state=42,k_neighbors=5)"
      ],
      "execution_count": 0,
      "outputs": []
    },
    {
      "cell_type": "code",
      "metadata": {
        "id": "NclF2XBNd9Dc",
        "colab_type": "code",
        "colab": {}
      },
      "source": [
        "x_train_res,y_train_res = sm.fit_sample(X_train,y_train)"
      ],
      "execution_count": 0,
      "outputs": []
    },
    {
      "cell_type": "code",
      "metadata": {
        "id": "dx1OqKcseRIT",
        "colab_type": "code",
        "colab": {}
      },
      "source": [
        "print('0 with y_train_res :-',len(y_train_res[y_train_res==0]))\n",
        "print('1 with y_train_res :-',len(y_train_res[y_train_res==1]))"
      ],
      "execution_count": 0,
      "outputs": []
    },
    {
      "cell_type": "code",
      "metadata": {
        "id": "tQt9oexAfQjw",
        "colab_type": "code",
        "colab": {}
      },
      "source": [
        "x_train_res.shape"
      ],
      "execution_count": 0,
      "outputs": []
    },
    {
      "cell_type": "markdown",
      "metadata": {
        "id": "i6s9kGv2esjr",
        "colab_type": "text"
      },
      "source": [
        "## Build An ANN Model."
      ]
    },
    {
      "cell_type": "code",
      "metadata": {
        "id": "UYyB6i7rernT",
        "colab_type": "code",
        "colab": {}
      },
      "source": [
        "model = Sequential()"
      ],
      "execution_count": 0,
      "outputs": []
    },
    {
      "cell_type": "code",
      "metadata": {
        "id": "PCMxjEdaeqi1",
        "colab_type": "code",
        "colab": {}
      },
      "source": [
        "model.add(Dense(120,activation='relu',kernel_initializer='uniform',input_shape=[x_train_res.shape[1]]))"
      ],
      "execution_count": 0,
      "outputs": []
    },
    {
      "cell_type": "code",
      "metadata": {
        "id": "D2fhfAn5eh_X",
        "colab_type": "code",
        "colab": {}
      },
      "source": [
        "model.add(Dense(60,activation='relu',kernel_initializer='uniform'))"
      ],
      "execution_count": 0,
      "outputs": []
    },
    {
      "cell_type": "code",
      "metadata": {
        "id": "XbeTQ6bnjYyr",
        "colab_type": "code",
        "colab": {}
      },
      "source": [
        "model.add(Dense(1,activation='sigmoid',kernel_initializer='uniform'))"
      ],
      "execution_count": 0,
      "outputs": []
    },
    {
      "cell_type": "markdown",
      "metadata": {
        "id": "76icix6Sj1Ip",
        "colab_type": "text"
      },
      "source": [
        "## Model Compile."
      ]
    },
    {
      "cell_type": "code",
      "metadata": {
        "id": "Oj70TkA2jo0J",
        "colab_type": "code",
        "colab": {}
      },
      "source": [
        "model.compile(optimizer='adam',loss='binary_crossentropy',metrics=['accuracy'])"
      ],
      "execution_count": 0,
      "outputs": []
    },
    {
      "cell_type": "code",
      "metadata": {
        "id": "dVGbM3MvnMXc",
        "colab_type": "code",
        "colab": {}
      },
      "source": [
        "history=model.fit(x_train_res,y_train_res,batch_size=10,epochs=20,verbose=1,validation_split=0.20)"
      ],
      "execution_count": 0,
      "outputs": []
    },
    {
      "cell_type": "markdown",
      "metadata": {
        "id": "cRl0nnNm-JXD",
        "colab_type": "text"
      },
      "source": [
        "- In the above we calculated the model accuarcy that is 84% and validation accuarcy is 75%"
      ]
    },
    {
      "cell_type": "code",
      "metadata": {
        "id": "tlmJkJBen3ur",
        "colab_type": "code",
        "colab": {}
      },
      "source": [
        "val_loss,val_acc=model.evaluate(X_test,y_test)"
      ],
      "execution_count": 0,
      "outputs": []
    },
    {
      "cell_type": "markdown",
      "metadata": {
        "id": "0HSDq4Sf-b4v",
        "colab_type": "text"
      },
      "source": [
        "- In the above the model is calculated the accuarcy on the basis of test data,From the above we can say that the diffrence between the training data and testing is not so much high.\n",
        "- In this we can see the accuarcy on training data is good but the testing is equivalent to training data but acceptable because the diffrence is less."
      ]
    },
    {
      "cell_type": "code",
      "metadata": {
        "id": "e-SAz0D9ojmO",
        "colab_type": "code",
        "colab": {}
      },
      "source": [
        "y_pred = model.predict(X_test).ravel()\n",
        "y_pred = pd.Series(y_pred)\n",
        "#In this case we will get the probablities of the cust will exit or not."
      ],
      "execution_count": 0,
      "outputs": []
    },
    {
      "cell_type": "code",
      "metadata": {
        "id": "GeNCTzDm4ZxB",
        "colab_type": "code",
        "colab": {}
      },
      "source": [
        "index= np.where(y_pred>=0.5)"
      ],
      "execution_count": 0,
      "outputs": []
    },
    {
      "cell_type": "code",
      "metadata": {
        "id": "43S0LUBp6GIz",
        "colab_type": "code",
        "colab": {}
      },
      "source": [
        "index"
      ],
      "execution_count": 0,
      "outputs": []
    },
    {
      "cell_type": "code",
      "metadata": {
        "id": "qtDKXY-f0GAg",
        "colab_type": "code",
        "colab": {}
      },
      "source": [
        "#If anyone cust have the probalities is greater than the 0.5 that's there is 50% chances to exit the bank."
      ],
      "execution_count": 0,
      "outputs": []
    },
    {
      "cell_type": "code",
      "metadata": {
        "id": "bjnrFKKV0fA_",
        "colab_type": "code",
        "colab": {}
      },
      "source": [
        "Y_prediction=y_pred[y_pred>0.5]"
      ],
      "execution_count": 0,
      "outputs": []
    },
    {
      "cell_type": "markdown",
      "metadata": {
        "id": "rOqVq5Lx64Jc",
        "colab_type": "text"
      },
      "source": [
        "- From the below we can understand,According to ranking avaliable in side data,are only those customer who more than 50% chances to leave the bank."
      ]
    },
    {
      "cell_type": "code",
      "metadata": {
        "id": "EIrgiTMX0oNb",
        "colab_type": "code",
        "colab": {}
      },
      "source": [
        "Y_prediction"
      ],
      "execution_count": 0,
      "outputs": []
    },
    {
      "cell_type": "code",
      "metadata": {
        "id": "Mrj4fVHt6U5q",
        "colab_type": "code",
        "colab": {}
      },
      "source": [
        "predict_clases = model.predict_classes(X_test)\n",
        "predict_clases"
      ],
      "execution_count": 0,
      "outputs": []
    },
    {
      "cell_type": "code",
      "metadata": {
        "id": "xGUbkFp570VY",
        "colab_type": "code",
        "colab": {}
      },
      "source": [
        "## From the below we can undestand who will stay and leave with the specified class."
      ],
      "execution_count": 0,
      "outputs": []
    },
    {
      "cell_type": "markdown",
      "metadata": {
        "id": "NhcNvF238dk9",
        "colab_type": "text"
      },
      "source": [
        "- From the below we can easily understand we will stay and who will leave."
      ]
    },
    {
      "cell_type": "code",
      "metadata": {
        "id": "CzU3aXQZ8Cft",
        "colab_type": "code",
        "colab": {}
      },
      "source": [
        "predicted_classes = pd.Series(predict_clases.ravel())\n",
        "predicted_classes"
      ],
      "execution_count": 0,
      "outputs": []
    },
    {
      "cell_type": "markdown",
      "metadata": {
        "id": "MzQl67LC8qKh",
        "colab_type": "text"
      },
      "source": [
        "## Confusion Matrix."
      ]
    },
    {
      "cell_type": "code",
      "metadata": {
        "id": "kscMdWkp8VQu",
        "colab_type": "code",
        "colab": {}
      },
      "source": [
        "from sklearn.metrics import confusion_matrix,classification_report"
      ],
      "execution_count": 0,
      "outputs": []
    },
    {
      "cell_type": "code",
      "metadata": {
        "id": "OO2AtHwU89ka",
        "colab_type": "code",
        "colab": {}
      },
      "source": [
        "mat = confusion_matrix(y_test,predicted_classes)\n",
        "mat"
      ],
      "execution_count": 0,
      "outputs": []
    },
    {
      "cell_type": "code",
      "metadata": {
        "id": "MnFmF8Hu9LH5",
        "colab_type": "code",
        "colab": {}
      },
      "source": [
        "sns.heatmap(mat,annot=True,fmt='d',linewidths=0.4,linecolor='black',xticklabels=['Stay','EXit'],yticklabels=['Stay','Exit'])\n",
        "plt.show()"
      ],
      "execution_count": 0,
      "outputs": []
    },
    {
      "cell_type": "markdown",
      "metadata": {
        "id": "6mA9F34d_MR8",
        "colab_type": "text"
      },
      "source": [
        "## Accuracy of the Model."
      ]
    },
    {
      "cell_type": "code",
      "metadata": {
        "id": "NfWFCdGN_O2Q",
        "colab_type": "code",
        "colab": {}
      },
      "source": [
        "from sklearn.metrics import accuracy_score"
      ],
      "execution_count": 0,
      "outputs": []
    },
    {
      "cell_type": "markdown",
      "metadata": {
        "id": "d2y2H-fM_eFv",
        "colab_type": "text"
      },
      "source": [
        "- Accuary is nothing the Total number of the actual predicted classes.\n",
        "- To the Adding of all."
      ]
    },
    {
      "cell_type": "code",
      "metadata": {
        "id": "9MfNZ3jr_bq7",
        "colab_type": "code",
        "colab": {}
      },
      "source": [
        "accuracy = round((1398+246)/(1398+246+161+195)*100,1)  #(TP+TN)?(TP+TN+FP+FN)\n",
        "print('Accuracy in % :-',accuracy)"
      ],
      "execution_count": 0,
      "outputs": []
    },
    {
      "cell_type": "code",
      "metadata": {
        "id": "gSG4eR-c_-e5",
        "colab_type": "code",
        "colab": {}
      },
      "source": [
        "print('Accuarcy Score :-',round(accuracy_score(y_test,predicted_classes),1)*100)"
      ],
      "execution_count": 0,
      "outputs": []
    },
    {
      "cell_type": "markdown",
      "metadata": {
        "id": "CDcUa6-zBPjQ",
        "colab_type": "text"
      },
      "source": [
        "## Let's Calculate Result of Prediction on the Following data.\n",
        "\n",
        "- Geography: France\n",
        "- Credit Score: 600\n",
        "- Gender: Male\n",
        "- Age: 40 years old\n",
        "- Tenure: 3 years\n",
        "- Balance: $60000\n",
        "\n",
        "- Number of Products: 2\n",
        "- Does this customer have a credit card ? Yes\n",
        "- Is this customer an Active Member: Yes\n",
        "- Estimated Salary: $50000"
      ]
    },
    {
      "cell_type": "code",
      "metadata": {
        "id": "oSdYMHp0Bs6w",
        "colab_type": "code",
        "colab": {}
      },
      "source": [
        "final_prediction=model.predict_classes([[0,600,0,40,3,60000,2,1,1,50000]])"
      ],
      "execution_count": 0,
      "outputs": []
    },
    {
      "cell_type": "markdown",
      "metadata": {
        "id": "FW4lAP4VC-_K",
        "colab_type": "text"
      },
      "source": [
        "### From the above we say,understand the according the above paramerter.There is fair chances of customer will not **exit** the bank."
      ]
    },
    {
      "cell_type": "markdown",
      "metadata": {
        "id": "UJWvyu-HHG5K",
        "colab_type": "text"
      },
      "source": [
        "## Cross Validate the Model.\n",
        "- Because every stage of run the model will gives us the diffrent accuracy.\n",
        "- We do not know which is accaracy is model accutually giving.\n",
        "- So,Therefore we need the cross validation to check the model performance of the model at the diffrent cv."
      ]
    },
    {
      "cell_type": "code",
      "metadata": {
        "id": "pPDuAj99F8np",
        "colab_type": "code",
        "colab": {}
      },
      "source": [
        "from tensorflow.keras.wrappers.scikit_learn import KerasClassifier"
      ],
      "execution_count": 0,
      "outputs": []
    },
    {
      "cell_type": "code",
      "metadata": {
        "id": "gpOr7RueG9ao",
        "colab_type": "code",
        "colab": {}
      },
      "source": [
        "from sklearn.model_selection import cross_val_score"
      ],
      "execution_count": 0,
      "outputs": []
    },
    {
      "cell_type": "code",
      "metadata": {
        "id": "ZZH5I94OH2TR",
        "colab_type": "code",
        "colab": {}
      },
      "source": [
        "def build_classifier():  #global variable\n",
        "  model = Sequential()\n",
        "  model.add(Dense(120,activation='relu',kernel_initializer='uniform',input_shape=[x_train_res.shape[1]]))\n",
        "  model.add(Dense(60,activation='relu',kernel_initializer='uniform'))\n",
        "  model.add(Dense(1,activation='sigmoid',kernel_initializer='uniform'))\n",
        "  model.compile(optimizer='adam',loss='binary_crossentropy',metrics=['accuracy'])\n",
        "  return model   #local variable.\n",
        "model\n",
        "\n",
        "model = KerasClassifier(build_classifier,batch_size=10,epochs=20)\n",
        "accuaracies = cross_val_score(model,x_train_res,y_train_res,cv=10,n_jobs=-1)"
      ],
      "execution_count": 0,
      "outputs": []
    },
    {
      "cell_type": "markdown",
      "metadata": {
        "id": "hEHwdTexPHQx",
        "colab_type": "text"
      },
      "source": [
        "### Under the Cross Validation the accuarcy is calculated for the CV=10,but if we see the diffrence between is so much high means our accuarcy pretty much genuine.\n"
      ]
    },
    {
      "cell_type": "code",
      "metadata": {
        "id": "qOkyWx4VMNDT",
        "colab_type": "code",
        "colab": {}
      },
      "source": [
        "print(accuaracies)"
      ],
      "execution_count": 0,
      "outputs": []
    },
    {
      "cell_type": "code",
      "metadata": {
        "id": "ynPyPMF4OLB0",
        "colab_type": "code",
        "colab": {}
      },
      "source": [
        "print('Mean accuarcy of the Calculated Accuaracy :-',accuaracies.mean())\n",
        "print('Standard Deviation(Variance)  of the Calculated Accuaracy :-',accuaracies.std())"
      ],
      "execution_count": 0,
      "outputs": []
    },
    {
      "cell_type": "markdown",
      "metadata": {
        "id": "uaEgPT3xPjIZ",
        "colab_type": "text"
      },
      "source": [
        "mean and Standard variance is not so much affeted by bias...\n",
        "because we having the very low std deviation."
      ]
    },
    {
      "cell_type": "markdown",
      "metadata": {
        "id": "12U7cBg7fbuV",
        "colab_type": "text"
      },
      "source": [
        "## Relationship with the Validation Score,loss and Accuarcy Score,loss"
      ]
    },
    {
      "cell_type": "code",
      "metadata": {
        "id": "dIqs29UWOxMA",
        "colab_type": "code",
        "colab": {}
      },
      "source": [
        "history.history"
      ],
      "execution_count": 0,
      "outputs": []
    },
    {
      "cell_type": "code",
      "metadata": {
        "id": "IJhIiCPTg3r1",
        "colab_type": "code",
        "colab": {}
      },
      "source": [
        "plt.plot(range(1,21),history.history['accuracy'])\n",
        "plt.plot(range(1,21),history.history['val_accuracy'])\n",
        "plt.xlabel('Epoches')\n",
        "plt.ylabel('Accuarcy')\n",
        "plt.title('Relational Graph between the Model and validation accuarcy')\n",
        "plt.legend(['Model Accuarcy','Validation Accuarcy'],loc='best')\n",
        "plt.show()\n",
        "print()\n",
        "plt.plot(range(1,21),history.history['loss'])\n",
        "plt.plot(range(1,21),history.history['val_loss'])\n",
        "plt.xlabel('Epoches')\n",
        "plt.ylabel('losses')\n",
        "plt.title('Relational Graph between the Model and validation losse')\n",
        "plt.legend(['Model loss','Validation loss'],loc='best')\n",
        "plt.show()"
      ],
      "execution_count": 0,
      "outputs": []
    },
    {
      "cell_type": "markdown",
      "metadata": {
        "id": "gThwBlYqjPYl",
        "colab_type": "text"
      },
      "source": [
        "## Thank You !!"
      ]
    }
  ]
}